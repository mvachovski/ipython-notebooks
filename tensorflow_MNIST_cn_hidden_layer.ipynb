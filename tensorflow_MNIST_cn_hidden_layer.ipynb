{
 "metadata": {
  "name": "",
  "signature": "sha256:42b76e0227382975ba96dadb8975ced88326bb2ae86eec137b590ecbc899ec94"
 },
 "nbformat": 3,
 "nbformat_minor": 0,
 "worksheets": [
  {
   "cells": [
    {
     "cell_type": "code",
     "collapsed": false,
     "input": [
      "from tensorflow.examples.tutorials.mnist import input_data\n",
      "import matplotlib.pyplot as plt\n",
      "import numpy as np"
     ],
     "language": "python",
     "metadata": {},
     "outputs": [],
     "prompt_number": 1
    },
    {
     "cell_type": "code",
     "collapsed": false,
     "input": [
      "mnist = input_data.read_data_sets(\"MNIST_data/\", one_hot=True)"
     ],
     "language": "python",
     "metadata": {},
     "outputs": [
      {
       "output_type": "stream",
       "stream": "stdout",
       "text": [
        "Extracting MNIST_data/train-images-idx3-ubyte.gz\n",
        "Extracting"
       ]
      },
      {
       "output_type": "stream",
       "stream": "stdout",
       "text": [
        " MNIST_data/train-labels-idx1-ubyte.gz\n",
        "Extracting MNIST_data/t10k-images-idx3-ubyte.gz\n",
        "Extracting MNIST_data/t10k-labels-idx1-ubyte.gz\n"
       ]
      }
     ],
     "prompt_number": 2
    },
    {
     "cell_type": "code",
     "collapsed": false,
     "input": [
      "import tensorflow as tf\n",
      "import time"
     ],
     "language": "python",
     "metadata": {},
     "outputs": [],
     "prompt_number": 3
    },
    {
     "cell_type": "code",
     "collapsed": false,
     "input": [
      "start_time = time.time()\n",
      "print \"Starting time: \" + time.ctime()"
     ],
     "language": "python",
     "metadata": {},
     "outputs": [
      {
       "output_type": "stream",
       "stream": "stdout",
       "text": [
        "Starting time: Fri Nov  4 00:38:46 2016\n"
       ]
      }
     ],
     "prompt_number": 4
    },
    {
     "cell_type": "code",
     "collapsed": false,
     "input": [
      "x = tf.placeholder(tf.float32, [None, 28, 28])"
     ],
     "language": "python",
     "metadata": {},
     "outputs": [],
     "prompt_number": 5
    },
    {
     "cell_type": "code",
     "collapsed": false,
     "input": [
      "# x = tf.placeholder(tf.float32, [None, 784])"
     ],
     "language": "python",
     "metadata": {},
     "outputs": [],
     "prompt_number": 6
    },
    {
     "cell_type": "code",
     "collapsed": false,
     "input": [
      "middle_layer_sz = 50\n",
      "lmbd = 0.6\n",
      "learning_rate = .4\n",
      "training_epochs = 200000\n",
      "bach_size = 150\n",
      "num_maps = 6\n",
      "delta = 0.0001"
     ],
     "language": "python",
     "metadata": {},
     "outputs": [],
     "prompt_number": 7
    },
    {
     "cell_type": "code",
     "collapsed": false,
     "input": [
      "tf.set_random_seed(start_time)\n",
      "W1 = tf.Variable(tf.random_normal([middle_layer_sz, 10]))\n",
      "b = tf.Variable(tf.random_normal([middle_layer_sz]))\n",
      "b1 = tf.Variable(tf.random_normal([10]))"
     ],
     "language": "python",
     "metadata": {},
     "outputs": [],
     "prompt_number": 8
    },
    {
     "cell_type": "code",
     "collapsed": false,
     "input": [
      "conv_maps = []"
     ],
     "language": "python",
     "metadata": {},
     "outputs": [],
     "prompt_number": 9
    },
    {
     "cell_type": "code",
     "collapsed": false,
     "input": [
      "def create_conv_layers(n, x_in_2d):\n",
      "    max_pools = []\n",
      "    for i in range(n):\n",
      "        cn_filter = tf.Variable(tf.random_normal([5, 5, 1, 1]), name = \"CN_Kernel_%d\" % i)\n",
      "        cn = tf.nn.conv2d(x_in_2d, cn_filter, strides=[1, 1, 1, 1], padding='VALID')\n",
      "        # cn_sigmoid = tf.nn.sigmoid(cn)\n",
      "        cn_relu = tf.nn.relu(cn)\n",
      "        conv_maps.append(cn_filter)\n",
      "        # max_pool = tf.nn.max_pool(cn_sigmoid, ksize=[1, 2, 2, 1], strides = [1, 2, 2, 1], padding='VALID')\n",
      "        max_pool = tf.nn.max_pool(cn_relu, ksize=[1, 2, 2, 1], strides = [1, 2, 2, 1], padding='VALID')\n",
      "        # max_pool_sigmoid = tf.nn.sigmoid(max_pool)\n",
      "        # print \"max_pool_sigmoid.get_shape() \", max_pool_sigmoid.get_shape()\n",
      "        #print \"max_pool_sigmoid.get_shape() \", max_pool_sigmoid.get_shape()\n",
      "        # max_pools.append(max_pool_sigmoid)\n",
      "        max_pool_relu = tf.nn.relu(max_pool)\n",
      "        print \"max_pool_relu.get_shape() \", max_pool_relu.get_shape()\n",
      "        max_pools.append(max_pool_relu)\n",
      "    print \"max_pools.size\", len(max_pools)\n",
      "    res = tf.concat(1, max_pools)\n",
      "    print res.get_shape() \n",
      "    return res"
     ],
     "language": "python",
     "metadata": {},
     "outputs": [],
     "prompt_number": 10
    },
    {
     "cell_type": "code",
     "collapsed": false,
     "input": [
      "#x_in = tf.placeholder(tf.float32, [None, 28, 28, 1], name = \"Input\")\n",
      "x_in = tf.placeholder(tf.float32, [None, 784], name = \"x_in\")\n",
      "print \"x_in:\", x_in.get_shape()\n",
      "x_2d = tf.reshape(x_in, shape=[-1, 28, 28, 1], name = \"x_2d\")\n",
      "print \"x_2d:\", x_2d.get_shape()\n",
      "\n",
      "conv = create_conv_layers(num_maps, x_2d)\n",
      "print \"conv.get_shape() \", conv.get_shape()\n",
      "\n",
      "max_pool_sigmoid2 = tf.reshape(conv, shape=[-1, num_maps * 12 * 12])\n",
      "#max_pool_sigmoid2 = tf.reshape(max_pool_sigmoid, shape=[-1, num_maps * 144])\n",
      "print max_pool_sigmoid2.get_shape()\n",
      "W = tf.Variable(tf.random_normal([num_maps * 12 * 12, middle_layer_sz]))\n",
      "\n",
      "# tmp = tf.nn.sigmoid(tf.matmul(max_pool_sigmoid2, W) + b)\n",
      "tmp = tf.nn.relu(tf.matmul(max_pool_sigmoid2, W) + b)\n",
      "print tmp.get_shape()\n",
      "#tmp = tf.nn.tanh(tf.matmul(x, W) + b)"
     ],
     "language": "python",
     "metadata": {},
     "outputs": [
      {
       "output_type": "stream",
       "stream": "stdout",
       "text": [
        "x_in: (?, 784)\n",
        "x_2d: (?, 28, 28, 1)\n",
        "max_pool_relu.get_shape()  (?, 12, 12, 1)\n",
        "max_pool_relu.get_shape() "
       ]
      },
      {
       "output_type": "stream",
       "stream": "stdout",
       "text": [
        " (?, 12, 12, 1)\n",
        "max_pool_relu.get_shape()  (?, 12, 12, 1)\n",
        "max_pool_relu.get_shape()  (?, 12, 12, 1)\n",
        "max_pool_relu.get_shape()  (?, 12, 12, 1)\n",
        "max_pool_relu.get_shape() "
       ]
      },
      {
       "output_type": "stream",
       "stream": "stdout",
       "text": [
        " (?, 12, 12, 1)\n",
        "max_pools.size 6\n",
        "(?, 72, 12, 1)\n",
        "conv.get_shape()  (?, 72, 12, 1)\n",
        "(?, 864)\n",
        "(?, 50)\n"
       ]
      }
     ],
     "prompt_number": 11
    },
    {
     "cell_type": "code",
     "collapsed": false,
     "input": [
      "y = tf.nn.softmax( tf.matmul( tmp, W1) + b1)"
     ],
     "language": "python",
     "metadata": {},
     "outputs": [],
     "prompt_number": 12
    },
    {
     "cell_type": "code",
     "collapsed": false,
     "input": [
      "y_ = tf.placeholder(tf.float32, [None, 10])"
     ],
     "language": "python",
     "metadata": {},
     "outputs": [],
     "prompt_number": 13
    },
    {
     "cell_type": "code",
     "collapsed": false,
     "input": [
      "cross_entropy = -tf.reduce_mean(tf.reduce_sum(y_ * tf.log(y + delta), reduction_indices=[1])) - \\\n",
      "tf.reduce_mean((1 - y_) * tf.log(1 - y + delta)) + \\\n",
      "lmbd * .5 * tf.reduce_mean(tf.square(W)) + lmbd *.5 * tf.reduce_mean(tf.square(W1)) + \\\n",
      "lmbd *.5 * tf.reduce_mean(tf.square(b)) + lmbd *.5 * tf.reduce_mean(tf.square(b1))"
     ],
     "language": "python",
     "metadata": {},
     "outputs": [],
     "prompt_number": 14
    },
    {
     "cell_type": "code",
     "collapsed": false,
     "input": [
      "train_step = tf.train.GradientDescentOptimizer(learning_rate).minimize(cross_entropy)"
     ],
     "language": "python",
     "metadata": {},
     "outputs": [],
     "prompt_number": 15
    },
    {
     "cell_type": "code",
     "collapsed": false,
     "input": [
      "init = tf.initialize_all_variables()"
     ],
     "language": "python",
     "metadata": {},
     "outputs": [],
     "prompt_number": 16
    },
    {
     "cell_type": "code",
     "collapsed": false,
     "input": [
      "sess = tf.InteractiveSession()\n",
      "sess.run(init)"
     ],
     "language": "python",
     "metadata": {},
     "outputs": [],
     "prompt_number": 17
    },
    {
     "cell_type": "code",
     "collapsed": false,
     "input": [
      "correct_prediction = tf.equal(tf.argmax(y,1), tf.argmax(y_,1))"
     ],
     "language": "python",
     "metadata": {},
     "outputs": [],
     "prompt_number": 18
    },
    {
     "cell_type": "code",
     "collapsed": false,
     "input": [
      "accuracy = tf.reduce_mean(tf.cast(correct_prediction, tf.float32))"
     ],
     "language": "python",
     "metadata": {},
     "outputs": [],
     "prompt_number": 19
    },
    {
     "cell_type": "code",
     "collapsed": false,
     "input": [
      "sess.run(W)"
     ],
     "language": "python",
     "metadata": {},
     "outputs": [
      {
       "metadata": {},
       "output_type": "pyout",
       "prompt_number": 20,
       "text": [
        "array([[-0.39640558,  0.19191875, -0.86927819, ..., -1.02100897,\n",
        "        -0.5269531 ,  0.61854517],\n",
        "       [-1.52457809,  2.53558421,  1.65489674, ...,  1.47625804,\n",
        "        -0.92740703, -0.61795592],\n",
        "       [ 1.47461379, -0.97181278, -2.10737371, ..., -0.47409672,\n",
        "         0.19975488, -0.033838  ],\n",
        "       ..., \n",
        "       [ 0.36152437, -0.14528215, -0.29765821, ...,  0.95960969,\n",
        "         1.60034871,  0.28997165],\n",
        "       [-2.47790813, -0.62273139,  0.54681659, ...,  0.55639213,\n",
        "         0.61119127, -0.04368193],\n",
        "       [ 0.38648692, -0.66834694,  2.06713891, ..., -0.65598822,\n",
        "         0.36768222,  0.35584483]], dtype=float32)"
       ]
      }
     ],
     "prompt_number": 20
    },
    {
     "cell_type": "code",
     "collapsed": false,
     "input": [
      "x_coords = []\n",
      "loss_values = []\n",
      "y_coords = []\n",
      "print \"middle_layer_sz: %d lmbd: %.3f learning_rate: %.3f\" % (middle_layer_sz, lmbd, learning_rate)\n",
      "for i in range(training_epochs + 1):\n",
      "  batch_xs, batch_ys = mnist.train.next_batch(bach_size)\n",
      "  sess.run(train_step, feed_dict={x_in: batch_xs, y_: batch_ys})\n",
      "  if i % 1000 == 0:\n",
      "      loss = sess.run(cross_entropy, feed_dict={y_ : mnist.test.labels , x_in : mnist.test.images.reshape([10000, 784]) })\n",
      "      acc = sess.run(accuracy, feed_dict={x_in: mnist.test.images.reshape([10000, 784]), y_: mnist.test.labels})\n",
      "      print time.ctime() + \": %d %.2f%% %f\" % (i, acc * 100, loss)\n",
      "      #print i, sess.run(W1)\n",
      "      x_coords.append(i)\n",
      "      loss_values.append(loss)\n",
      "      y_coords.append(acc * 100)"
     ],
     "language": "python",
     "metadata": {},
     "outputs": [
      {
       "output_type": "stream",
       "stream": "stdout",
       "text": [
        "middle_layer_sz: 50 lmbd: 0.600 learning_rate: 0.400\n",
        "Fri Nov  4 00:38:56 2016: 0 10.16% 10.285463"
       ]
      },
      {
       "output_type": "stream",
       "stream": "stdout",
       "text": [
        "\n",
        "Fri Nov  4 00:40:43 2016: 1000 37.22% 6.811726"
       ]
      },
      {
       "output_type": "stream",
       "stream": "stdout",
       "text": [
        "\n",
        "Fri Nov  4 00:42:30 2016: 2000 40.09% 6.458958"
       ]
      },
      {
       "output_type": "stream",
       "stream": "stdout",
       "text": [
        "\n",
        "Fri Nov  4 00:44:18 2016: 3000 39.98% 6.449489"
       ]
      },
      {
       "output_type": "stream",
       "stream": "stdout",
       "text": [
        "\n",
        "Fri Nov  4 00:46:07 2016: 4000 40.23% 6.394935"
       ]
      },
      {
       "output_type": "stream",
       "stream": "stdout",
       "text": [
        "\n",
        "Fri Nov  4 00:47:56 2016: 5000 48.95% 5.513635"
       ]
      },
      {
       "output_type": "stream",
       "stream": "stdout",
       "text": [
        "\n",
        "Fri Nov  4 00:49:46 2016: 6000 58.15% 4.617338"
       ]
      },
      {
       "output_type": "stream",
       "stream": "stdout",
       "text": [
        "\n",
        "Fri Nov  4 00:51:37 2016: 7000 57.97% 4.616738"
       ]
      },
      {
       "output_type": "stream",
       "stream": "stdout",
       "text": [
        "\n",
        "Fri Nov  4 00:53:28 2016: 8000 57.85% 4.619112"
       ]
      },
      {
       "output_type": "stream",
       "stream": "stdout",
       "text": [
        "\n",
        "Fri Nov  4 00:55:19 2016: 9000 58.27% 4.562341"
       ]
      },
      {
       "output_type": "stream",
       "stream": "stdout",
       "text": [
        "\n",
        "Fri Nov  4 00:57:10 2016: 10000 58.63% 4.519096"
       ]
      },
      {
       "output_type": "stream",
       "stream": "stdout",
       "text": [
        "\n",
        "Fri Nov  4 00:59:02 2016: 11000 66.90% 3.703385"
       ]
      },
      {
       "output_type": "stream",
       "stream": "stdout",
       "text": [
        "\n",
        "Fri Nov  4 01:00:54 2016: 12000 74.55% 2.970041"
       ]
      },
      {
       "output_type": "stream",
       "stream": "stdout",
       "text": [
        "\n",
        "Fri Nov  4 01:02:47 2016: 13000 74.02% 3.036435"
       ]
      },
      {
       "output_type": "stream",
       "stream": "stdout",
       "text": [
        "\n",
        "Fri Nov  4 01:04:39 2016: 14000 76.10% 2.803842"
       ]
      },
      {
       "output_type": "stream",
       "stream": "stdout",
       "text": [
        "\n",
        "Fri Nov  4 01:06:32 2016: 15000 76.36% 2.753691"
       ]
      },
      {
       "output_type": "stream",
       "stream": "stdout",
       "text": [
        "\n",
        "Fri Nov  4 01:08:24 2016: 16000 76.40% 2.732105"
       ]
      },
      {
       "output_type": "stream",
       "stream": "stdout",
       "text": [
        "\n",
        "Fri Nov  4 01:10:17 2016: 17000 76.78% 2.703807"
       ]
      },
      {
       "output_type": "stream",
       "stream": "stdout",
       "text": [
        "\n",
        "Fri Nov  4 01:12:09 2016: 18000 77.22% 2.657162"
       ]
      },
      {
       "output_type": "stream",
       "stream": "stdout",
       "text": [
        "\n",
        "Fri Nov  4 01:14:04 2016: 19000 77.34% 2.624985"
       ]
      },
      {
       "output_type": "stream",
       "stream": "stdout",
       "text": [
        "\n",
        "Fri Nov  4 01:15:56 2016: 20000 85.78% 1.793010"
       ]
      },
      {
       "output_type": "stream",
       "stream": "stdout",
       "text": [
        "\n",
        "Fri Nov  4 01:17:49 2016: 21000 86.29% 1.737761"
       ]
      },
      {
       "output_type": "stream",
       "stream": "stdout",
       "text": [
        "\n",
        "Fri Nov  4 01:19:42 2016: 22000 85.50% 1.813445"
       ]
      },
      {
       "output_type": "stream",
       "stream": "stdout",
       "text": [
        "\n",
        "Fri Nov  4 01:21:34 2016: 23000 86.33% 1.714609"
       ]
      },
      {
       "output_type": "stream",
       "stream": "stdout",
       "text": [
        "\n",
        "Fri Nov  4 01:23:28 2016: 24000 86.73% 1.674241"
       ]
      },
      {
       "output_type": "stream",
       "stream": "stdout",
       "text": [
        "\n",
        "Fri Nov  4 01:25:22 2016: 25000 86.73% 1.655338"
       ]
      },
      {
       "output_type": "stream",
       "stream": "stdout",
       "text": [
        "\n",
        "Fri Nov  4 01:27:15 2016: 26000 86.28% 1.702120"
       ]
      },
      {
       "output_type": "stream",
       "stream": "stdout",
       "text": [
        "\n",
        "Fri Nov  4 01:29:08 2016: 27000 86.70% 1.660689"
       ]
      },
      {
       "output_type": "stream",
       "stream": "stdout",
       "text": [
        "\n",
        "Fri Nov  4 01:31:02 2016: 28000 87.04% 1.618307"
       ]
      },
      {
       "output_type": "stream",
       "stream": "stdout",
       "text": [
        "\n",
        "Fri Nov  4 01:32:55 2016: 29000 86.87% 1.620899"
       ]
      },
      {
       "output_type": "stream",
       "stream": "stdout",
       "text": [
        "\n",
        "Fri Nov  4 01:34:48 2016: 30000 85.85% 1.713789"
       ]
      },
      {
       "output_type": "stream",
       "stream": "stdout",
       "text": [
        "\n",
        "Fri Nov  4 01:36:42 2016: 31000 87.26% 1.562670"
       ]
      },
      {
       "output_type": "stream",
       "stream": "stdout",
       "text": [
        "\n",
        "Fri Nov  4 01:38:36 2016: 32000 87.18% 1.549885"
       ]
      },
      {
       "output_type": "stream",
       "stream": "stdout",
       "text": [
        "\n",
        "Fri Nov  4 01:40:32 2016: 33000 96.36% 0.645001"
       ]
      },
      {
       "output_type": "stream",
       "stream": "stdout",
       "text": [
        "\n",
        "Fri Nov  4 01:42:26 2016: 34000 96.19% 0.661579"
       ]
      },
      {
       "output_type": "stream",
       "stream": "stdout",
       "text": [
        "\n",
        "Fri Nov  4 01:44:19 2016: 35000 96.43% 0.620367"
       ]
      },
      {
       "output_type": "stream",
       "stream": "stdout",
       "text": [
        "\n",
        "Fri Nov  4 01:46:14 2016: 36000 96.25% 0.621295"
       ]
      },
      {
       "output_type": "stream",
       "stream": "stdout",
       "text": [
        "\n",
        "Fri Nov  4 01:48:07 2016: 37000 96.74% 0.546629"
       ]
      },
      {
       "output_type": "stream",
       "stream": "stdout",
       "text": [
        "\n",
        "Fri Nov  4 01:50:03 2016: 38000 96.69% 0.555564"
       ]
      },
      {
       "output_type": "stream",
       "stream": "stdout",
       "text": [
        "\n",
        "Fri Nov  4 01:51:58 2016: 39000 96.52% 0.541612"
       ]
      },
      {
       "output_type": "stream",
       "stream": "stdout",
       "text": [
        "\n",
        "Fri Nov  4 01:53:52 2016: 40000 96.96% 0.523400"
       ]
      },
      {
       "output_type": "stream",
       "stream": "stdout",
       "text": [
        "\n",
        "Fri Nov  4 01:55:47 2016: 41000 96.94% 0.505126"
       ]
      },
      {
       "output_type": "stream",
       "stream": "stdout",
       "text": [
        "\n",
        "Fri Nov  4 01:57:40 2016: 42000 97.18% 0.475023"
       ]
      },
      {
       "output_type": "stream",
       "stream": "stdout",
       "text": [
        "\n",
        "Fri Nov  4 01:59:35 2016: 43000 96.72% 0.494543"
       ]
      },
      {
       "output_type": "stream",
       "stream": "stdout",
       "text": [
        "\n",
        "Fri Nov  4 02:01:31 2016: 44000 97.09% 0.484029"
       ]
      },
      {
       "output_type": "stream",
       "stream": "stdout",
       "text": [
        "\n",
        "Fri Nov  4 02:03:25 2016: 45000 97.04% 0.471116"
       ]
      },
      {
       "output_type": "stream",
       "stream": "stdout",
       "text": [
        "\n",
        "Fri Nov  4 02:05:20 2016: 46000 96.94% 0.465249"
       ]
      },
      {
       "output_type": "stream",
       "stream": "stdout",
       "text": [
        "\n",
        "Fri Nov  4 02:07:15 2016: 47000 97.14% 0.452157"
       ]
      },
      {
       "output_type": "stream",
       "stream": "stdout",
       "text": [
        "\n",
        "Fri Nov  4 02:09:11 2016: 48000 97.41% 0.430464"
       ]
      },
      {
       "output_type": "stream",
       "stream": "stdout",
       "text": [
        "\n",
        "Fri Nov  4 02:11:05 2016: 49000 97.41% 0.429397"
       ]
      },
      {
       "output_type": "stream",
       "stream": "stdout",
       "text": [
        "\n",
        "Fri Nov  4 02:12:59 2016: 50000 97.38% 0.413405"
       ]
      },
      {
       "output_type": "stream",
       "stream": "stdout",
       "text": [
        "\n",
        "Fri Nov  4 02:14:55 2016: 51000 97.59% 0.395677"
       ]
      },
      {
       "output_type": "stream",
       "stream": "stdout",
       "text": [
        "\n",
        "Fri Nov  4 02:16:49 2016: 52000 97.60% 0.398782"
       ]
      },
      {
       "output_type": "stream",
       "stream": "stdout",
       "text": [
        "\n",
        "Fri Nov  4 02:18:44 2016: 53000 97.11% 0.415493"
       ]
      },
      {
       "output_type": "stream",
       "stream": "stdout",
       "text": [
        "\n",
        "Fri Nov  4 02:20:39 2016: 54000 97.65% 0.402917"
       ]
      },
      {
       "output_type": "stream",
       "stream": "stdout",
       "text": [
        "\n",
        "Fri Nov  4 02:22:33 2016: 55000 97.48% 0.397760"
       ]
      },
      {
       "output_type": "stream",
       "stream": "stdout",
       "text": [
        "\n",
        "Fri Nov  4 02:24:28 2016: 56000 97.44% 0.391901"
       ]
      },
      {
       "output_type": "stream",
       "stream": "stdout",
       "text": [
        "\n",
        "Fri Nov  4 02:26:23 2016: 57000 97.60% 0.372414"
       ]
      },
      {
       "output_type": "stream",
       "stream": "stdout",
       "text": [
        "\n",
        "Fri Nov  4 02:28:18 2016: 58000 97.43% 0.385927"
       ]
      },
      {
       "output_type": "stream",
       "stream": "stdout",
       "text": [
        "\n",
        "Fri Nov  4 02:30:14 2016: 59000 97.61% 0.368431"
       ]
      },
      {
       "output_type": "stream",
       "stream": "stdout",
       "text": [
        "\n",
        "Fri Nov  4 02:32:08 2016: 60000 97.47% 0.379202"
       ]
      },
      {
       "output_type": "stream",
       "stream": "stdout",
       "text": [
        "\n",
        "Fri Nov  4 02:34:04 2016: 61000 97.70% 0.363550"
       ]
      },
      {
       "output_type": "stream",
       "stream": "stdout",
       "text": [
        "\n",
        "Fri Nov  4 02:35:59 2016: 62000 97.79% 0.352565"
       ]
      },
      {
       "output_type": "stream",
       "stream": "stdout",
       "text": [
        "\n",
        "Fri Nov  4 02:37:54 2016: 63000 97.61% 0.364453"
       ]
      },
      {
       "output_type": "stream",
       "stream": "stdout",
       "text": [
        "\n",
        "Fri Nov  4 02:39:49 2016: 64000 97.37% 0.381529"
       ]
      },
      {
       "output_type": "stream",
       "stream": "stdout",
       "text": [
        "\n",
        "Fri Nov  4 02:41:44 2016: 65000 97.79% 0.350796"
       ]
      },
      {
       "output_type": "stream",
       "stream": "stdout",
       "text": [
        "\n",
        "Fri Nov  4 02:43:40 2016: 66000 97.77% 0.352425"
       ]
      },
      {
       "output_type": "stream",
       "stream": "stdout",
       "text": [
        "\n",
        "Fri Nov  4 02:45:34 2016: 67000 97.89% 0.334105"
       ]
      },
      {
       "output_type": "stream",
       "stream": "stdout",
       "text": [
        "\n",
        "Fri Nov  4 02:47:30 2016: 68000 97.90% 0.333136"
       ]
      },
      {
       "output_type": "stream",
       "stream": "stdout",
       "text": [
        "\n",
        "Fri Nov  4 02:49:25 2016: 69000 97.77% 0.339458"
       ]
      },
      {
       "output_type": "stream",
       "stream": "stdout",
       "text": [
        "\n",
        "Fri Nov  4 02:51:21 2016: 70000 97.89% 0.338774"
       ]
      },
      {
       "output_type": "stream",
       "stream": "stdout",
       "text": [
        "\n",
        "Fri Nov  4 02:53:16 2016: 71000 97.88% 0.336576"
       ]
      },
      {
       "output_type": "stream",
       "stream": "stdout",
       "text": [
        "\n",
        "Fri Nov  4 02:55:11 2016: 72000 97.77% 0.339645"
       ]
      },
      {
       "output_type": "stream",
       "stream": "stdout",
       "text": [
        "\n",
        "Fri Nov  4 02:57:06 2016: 73000 97.84% 0.317736"
       ]
      },
      {
       "output_type": "stream",
       "stream": "stdout",
       "text": [
        "\n",
        "Fri Nov  4 02:59:00 2016: 74000 98.00% 0.314755"
       ]
      },
      {
       "output_type": "stream",
       "stream": "stdout",
       "text": [
        "\n",
        "Fri Nov  4 03:00:55 2016: 75000 97.82% 0.323533"
       ]
      },
      {
       "output_type": "stream",
       "stream": "stdout",
       "text": [
        "\n",
        "Fri Nov  4 03:02:52 2016: 76000 97.97% 0.313883"
       ]
      },
      {
       "output_type": "stream",
       "stream": "stdout",
       "text": [
        "\n",
        "Fri Nov  4 03:04:47 2016: 77000 97.86% 0.315081"
       ]
      },
      {
       "output_type": "stream",
       "stream": "stdout",
       "text": [
        "\n",
        "Fri Nov  4 03:06:42 2016: 78000 97.79% 0.318539"
       ]
      },
      {
       "output_type": "stream",
       "stream": "stdout",
       "text": [
        "\n",
        "Fri Nov  4 03:08:37 2016: 79000 98.02% 0.302779"
       ]
      },
      {
       "output_type": "stream",
       "stream": "stdout",
       "text": [
        "\n",
        "Fri Nov  4 03:10:31 2016: 80000 97.96% 0.295438"
       ]
      },
      {
       "output_type": "stream",
       "stream": "stdout",
       "text": [
        "\n",
        "Fri Nov  4 03:12:27 2016: 81000 98.03% 0.287567"
       ]
      },
      {
       "output_type": "stream",
       "stream": "stdout",
       "text": [
        "\n",
        "Fri Nov  4 03:14:22 2016: 82000 97.98% 0.292724"
       ]
      },
      {
       "output_type": "stream",
       "stream": "stdout",
       "text": [
        "\n",
        "Fri Nov  4 03:16:16 2016: 83000 98.03% 0.292155"
       ]
      },
      {
       "output_type": "stream",
       "stream": "stdout",
       "text": [
        "\n",
        "Fri Nov  4 03:18:11 2016: 84000 98.02% 0.289082"
       ]
      },
      {
       "output_type": "stream",
       "stream": "stdout",
       "text": [
        "\n",
        "Fri Nov  4 03:20:06 2016: 85000 97.79% 0.299999"
       ]
      },
      {
       "output_type": "stream",
       "stream": "stdout",
       "text": [
        "\n",
        "Fri Nov  4 03:22:00 2016: 86000 97.81% 0.297485"
       ]
      },
      {
       "output_type": "stream",
       "stream": "stdout",
       "text": [
        "\n",
        "Fri Nov  4 03:23:55 2016: 87000 97.84% 0.298563"
       ]
      },
      {
       "output_type": "stream",
       "stream": "stdout",
       "text": [
        "\n",
        "Fri Nov  4 03:25:50 2016: 88000 97.93% 0.286321"
       ]
      },
      {
       "output_type": "stream",
       "stream": "stdout",
       "text": [
        "\n",
        "Fri Nov  4 03:27:44 2016: 89000 96.73% 0.393453"
       ]
      },
      {
       "output_type": "stream",
       "stream": "stdout",
       "text": [
        "\n",
        "Fri Nov  4 03:29:38 2016: 90000 97.88% 0.295339"
       ]
      },
      {
       "output_type": "stream",
       "stream": "stdout",
       "text": [
        "\n",
        "Fri Nov  4 03:31:35 2016: 91000 97.93% 0.279446"
       ]
      },
      {
       "output_type": "stream",
       "stream": "stdout",
       "text": [
        "\n",
        "Fri Nov  4 03:33:29 2016: 92000 98.01% 0.278441"
       ]
      },
      {
       "output_type": "stream",
       "stream": "stdout",
       "text": [
        "\n",
        "Fri Nov  4 03:35:24 2016: 93000 97.99% 0.271616"
       ]
      },
      {
       "output_type": "stream",
       "stream": "stdout",
       "text": [
        "\n",
        "Fri Nov  4 03:37:18 2016: 94000 97.97% 0.263506"
       ]
      },
      {
       "output_type": "stream",
       "stream": "stdout",
       "text": [
        "\n",
        "Fri Nov  4 03:39:13 2016: 95000 98.09% 0.257397"
       ]
      },
      {
       "output_type": "stream",
       "stream": "stdout",
       "text": [
        "\n",
        "Fri Nov  4 03:41:08 2016: 96000 98.00% 0.272379"
       ]
      },
      {
       "output_type": "stream",
       "stream": "stdout",
       "text": [
        "\n",
        "Fri Nov  4 03:43:03 2016: 97000 98.08% 0.271194"
       ]
      },
      {
       "output_type": "stream",
       "stream": "stdout",
       "text": [
        "\n",
        "Fri Nov  4 03:44:58 2016: 98000 98.10% 0.262093"
       ]
      },
      {
       "output_type": "stream",
       "stream": "stdout",
       "text": [
        "\n",
        "Fri Nov  4 03:46:53 2016: 99000 97.83% 0.285228"
       ]
      },
      {
       "output_type": "stream",
       "stream": "stdout",
       "text": [
        "\n",
        "Fri Nov  4 03:48:47 2016: 100000 98.09% 0.258938"
       ]
      },
      {
       "output_type": "stream",
       "stream": "stdout",
       "text": [
        "\n",
        "Fri Nov  4 03:50:42 2016: 101000 97.99% 0.249115"
       ]
      },
      {
       "output_type": "stream",
       "stream": "stdout",
       "text": [
        "\n",
        "Fri Nov  4 03:52:37 2016: 102000 98.04% 0.256390"
       ]
      },
      {
       "output_type": "stream",
       "stream": "stdout",
       "text": [
        "\n",
        "Fri Nov  4 03:54:32 2016: 103000 98.01% 0.251630"
       ]
      },
      {
       "output_type": "stream",
       "stream": "stdout",
       "text": [
        "\n",
        "Fri Nov  4 03:56:26 2016: 104000 98.10% 0.240570"
       ]
      },
      {
       "output_type": "stream",
       "stream": "stdout",
       "text": [
        "\n",
        "Fri Nov  4 03:58:22 2016: 105000 98.13% 0.255774"
       ]
      },
      {
       "output_type": "stream",
       "stream": "stdout",
       "text": [
        "\n",
        "Fri Nov  4 04:00:19 2016: 106000 98.13% 0.243598"
       ]
      },
      {
       "output_type": "stream",
       "stream": "stdout",
       "text": [
        "\n",
        "Fri Nov  4 04:02:14 2016: 107000 98.16% 0.235428"
       ]
      },
      {
       "output_type": "stream",
       "stream": "stdout",
       "text": [
        "\n",
        "Fri Nov  4 04:04:09 2016: 108000 98.05% 0.252663"
       ]
      },
      {
       "output_type": "stream",
       "stream": "stdout",
       "text": [
        "\n",
        "Fri Nov  4 04:06:03 2016: 109000 98.07% 0.242708"
       ]
      },
      {
       "output_type": "stream",
       "stream": "stdout",
       "text": [
        "\n",
        "Fri Nov  4 04:07:59 2016: 110000 98.05% 0.247536"
       ]
      },
      {
       "output_type": "stream",
       "stream": "stdout",
       "text": [
        "\n",
        "Fri Nov  4 04:09:53 2016: 111000 98.03% 0.241017"
       ]
      },
      {
       "output_type": "stream",
       "stream": "stdout",
       "text": [
        "\n",
        "Fri Nov  4 04:11:49 2016: 112000 97.84% 0.260088"
       ]
      },
      {
       "output_type": "stream",
       "stream": "stdout",
       "text": [
        "\n",
        "Fri Nov  4 04:13:43 2016: 113000 98.19% 0.226958"
       ]
      },
      {
       "output_type": "stream",
       "stream": "stdout",
       "text": [
        "\n",
        "Fri Nov  4 04:15:38 2016: 114000 98.15% 0.220327"
       ]
      },
      {
       "output_type": "stream",
       "stream": "stdout",
       "text": [
        "\n",
        "Fri Nov  4 04:17:34 2016: 115000 98.07% 0.253437"
       ]
      },
      {
       "output_type": "stream",
       "stream": "stdout",
       "text": [
        "\n",
        "Fri Nov  4 04:19:29 2016: 116000 98.21% 0.235107"
       ]
      },
      {
       "output_type": "stream",
       "stream": "stdout",
       "text": [
        "\n",
        "Fri Nov  4 04:21:23 2016: 117000 98.18% 0.225716"
       ]
      },
      {
       "output_type": "stream",
       "stream": "stdout",
       "text": [
        "\n",
        "Fri Nov  4 04:23:18 2016: 118000 98.18% 0.225242"
       ]
      },
      {
       "output_type": "stream",
       "stream": "stdout",
       "text": [
        "\n",
        "Fri Nov  4 04:25:13 2016: 119000 98.11% 0.224550"
       ]
      },
      {
       "output_type": "stream",
       "stream": "stdout",
       "text": [
        "\n",
        "Fri Nov  4 04:27:09 2016: 120000 98.07% 0.231624"
       ]
      },
      {
       "output_type": "stream",
       "stream": "stdout",
       "text": [
        "\n",
        "Fri Nov  4 04:29:05 2016: 121000 97.97% 0.244961"
       ]
      },
      {
       "output_type": "stream",
       "stream": "stdout",
       "text": [
        "\n",
        "Fri Nov  4 04:31:00 2016: 122000 98.01% 0.238261"
       ]
      },
      {
       "output_type": "stream",
       "stream": "stdout",
       "text": [
        "\n",
        "Fri Nov  4 04:32:55 2016: 123000 98.10% 0.219902"
       ]
      },
      {
       "output_type": "stream",
       "stream": "stdout",
       "text": [
        "\n",
        "Fri Nov  4 04:34:50 2016: 124000 98.07% 0.223321"
       ]
      },
      {
       "output_type": "stream",
       "stream": "stdout",
       "text": [
        "\n",
        "Fri Nov  4 04:36:45 2016: 125000 98.16% 0.224806"
       ]
      },
      {
       "output_type": "stream",
       "stream": "stdout",
       "text": [
        "\n",
        "Fri Nov  4 04:38:41 2016: 126000 98.01% 0.225526"
       ]
      },
      {
       "output_type": "stream",
       "stream": "stdout",
       "text": [
        "\n",
        "Fri Nov  4 04:40:36 2016: 127000 98.09% 0.222594"
       ]
      },
      {
       "output_type": "stream",
       "stream": "stdout",
       "text": [
        "\n",
        "Fri Nov  4 04:42:30 2016: 128000 98.25% 0.208584"
       ]
      },
      {
       "output_type": "stream",
       "stream": "stdout",
       "text": [
        "\n",
        "Fri Nov  4 04:44:25 2016: 129000 98.19% 0.202940"
       ]
      },
      {
       "output_type": "stream",
       "stream": "stdout",
       "text": [
        "\n",
        "Fri Nov  4 04:46:21 2016: 130000 98.15% 0.220886"
       ]
      },
      {
       "output_type": "stream",
       "stream": "stdout",
       "text": [
        "\n",
        "Fri Nov  4 04:48:15 2016: 131000 98.19% 0.207510"
       ]
      },
      {
       "output_type": "stream",
       "stream": "stdout",
       "text": [
        "\n",
        "Fri Nov  4 04:50:10 2016: 132000 98.20% 0.202692"
       ]
      },
      {
       "output_type": "stream",
       "stream": "stdout",
       "text": [
        "\n",
        "Fri Nov  4 04:52:06 2016: 133000 98.23% 0.198573"
       ]
      },
      {
       "output_type": "stream",
       "stream": "stdout",
       "text": [
        "\n",
        "Fri Nov  4 04:54:01 2016: 134000 98.29% 0.192320"
       ]
      },
      {
       "output_type": "stream",
       "stream": "stdout",
       "text": [
        "\n",
        "Fri Nov  4 04:55:57 2016: 135000 98.10% 0.220026"
       ]
      },
      {
       "output_type": "stream",
       "stream": "stdout",
       "text": [
        "\n",
        "Fri Nov  4 04:57:53 2016: 136000 98.17% 0.210829"
       ]
      },
      {
       "output_type": "stream",
       "stream": "stdout",
       "text": [
        "\n",
        "Fri Nov  4 04:59:48 2016: 137000 98.18% 0.197575"
       ]
      },
      {
       "output_type": "stream",
       "stream": "stdout",
       "text": [
        "\n",
        "Fri Nov  4 05:01:43 2016: 138000 98.21% 0.194529"
       ]
      },
      {
       "output_type": "stream",
       "stream": "stdout",
       "text": [
        "\n",
        "Fri Nov  4 05:03:38 2016: 139000 98.17% 0.206651"
       ]
      },
      {
       "output_type": "stream",
       "stream": "stdout",
       "text": [
        "\n",
        "Fri Nov  4 05:05:34 2016: 140000 98.22% 0.200178"
       ]
      },
      {
       "output_type": "stream",
       "stream": "stdout",
       "text": [
        "\n",
        "Fri Nov  4 05:07:29 2016: 141000 98.21% 0.192009"
       ]
      },
      {
       "output_type": "stream",
       "stream": "stdout",
       "text": [
        "\n",
        "Fri Nov  4 05:09:24 2016: 142000 98.22% 0.183848"
       ]
      },
      {
       "output_type": "stream",
       "stream": "stdout",
       "text": [
        "\n",
        "Fri Nov  4 05:11:20 2016: 143000 98.22% 0.193487"
       ]
      },
      {
       "output_type": "stream",
       "stream": "stdout",
       "text": [
        "\n",
        "Fri Nov  4 05:13:15 2016: 144000 98.27% 0.183224"
       ]
      },
      {
       "output_type": "stream",
       "stream": "stdout",
       "text": [
        "\n",
        "Fri Nov  4 05:15:11 2016: 145000 98.26% 0.185836"
       ]
      },
      {
       "output_type": "stream",
       "stream": "stdout",
       "text": [
        "\n",
        "Fri Nov  4 05:17:06 2016: 146000 98.27% 0.187659"
       ]
      },
      {
       "output_type": "stream",
       "stream": "stdout",
       "text": [
        "\n",
        "Fri Nov  4 05:19:00 2016: 147000 98.13% 0.188659"
       ]
      },
      {
       "output_type": "stream",
       "stream": "stdout",
       "text": [
        "\n",
        "Fri Nov  4 05:20:56 2016: 148000 98.20% 0.181056"
       ]
      },
      {
       "output_type": "stream",
       "stream": "stdout",
       "text": [
        "\n",
        "Fri Nov  4 05:22:50 2016: 149000 98.29% 0.182108"
       ]
      },
      {
       "output_type": "stream",
       "stream": "stdout",
       "text": [
        "\n",
        "Fri Nov  4 05:24:45 2016: 150000 98.29% 0.179861"
       ]
      },
      {
       "output_type": "stream",
       "stream": "stdout",
       "text": [
        "\n",
        "Fri Nov  4 05:26:41 2016: 151000 98.25% 0.173863"
       ]
      },
      {
       "output_type": "stream",
       "stream": "stdout",
       "text": [
        "\n",
        "Fri Nov  4 05:28:36 2016: 152000 98.11% 0.199557"
       ]
      },
      {
       "output_type": "stream",
       "stream": "stdout",
       "text": [
        "\n",
        "Fri Nov  4 05:30:31 2016: 153000 98.21% 0.183095"
       ]
      },
      {
       "output_type": "stream",
       "stream": "stdout",
       "text": [
        "\n",
        "Fri Nov  4 05:32:25 2016: 154000 98.13% 0.183283"
       ]
      },
      {
       "output_type": "stream",
       "stream": "stdout",
       "text": [
        "\n",
        "Fri Nov  4 05:34:20 2016: 155000 98.24% 0.172673"
       ]
      },
      {
       "output_type": "stream",
       "stream": "stdout",
       "text": [
        "\n",
        "Fri Nov  4 05:36:15 2016: 156000 98.26% 0.173774"
       ]
      },
      {
       "output_type": "stream",
       "stream": "stdout",
       "text": [
        "\n",
        "Fri Nov  4 05:38:09 2016: 157000 98.27% 0.176479"
       ]
      },
      {
       "output_type": "stream",
       "stream": "stdout",
       "text": [
        "\n",
        "Fri Nov  4 05:40:04 2016: 158000 98.30% 0.168470"
       ]
      },
      {
       "output_type": "stream",
       "stream": "stdout",
       "text": [
        "\n",
        "Fri Nov  4 05:41:58 2016: 159000 98.37% 0.165929"
       ]
      },
      {
       "output_type": "stream",
       "stream": "stdout",
       "text": [
        "\n",
        "Fri Nov  4 05:43:53 2016: 160000 98.35% 0.165728"
       ]
      },
      {
       "output_type": "stream",
       "stream": "stdout",
       "text": [
        "\n",
        "Fri Nov  4 05:45:48 2016: 161000 98.27% 0.176920"
       ]
      },
      {
       "output_type": "stream",
       "stream": "stdout",
       "text": [
        "\n",
        "Fri Nov  4 05:47:43 2016: 162000 98.31% 0.168046"
       ]
      },
      {
       "output_type": "stream",
       "stream": "stdout",
       "text": [
        "\n",
        "Fri Nov  4 05:49:37 2016: 163000 98.35% 0.165970"
       ]
      },
      {
       "output_type": "stream",
       "stream": "stdout",
       "text": [
        "\n",
        "Fri Nov  4 05:51:32 2016: 164000 98.28% 0.168534"
       ]
      },
      {
       "output_type": "stream",
       "stream": "stdout",
       "text": [
        "\n",
        "Fri Nov  4 05:53:27 2016: 165000 98.32% 0.163107"
       ]
      },
      {
       "output_type": "stream",
       "stream": "stdout",
       "text": [
        "\n",
        "Fri Nov  4 05:55:23 2016: 166000 98.30% 0.162778"
       ]
      },
      {
       "output_type": "stream",
       "stream": "stdout",
       "text": [
        "\n",
        "Fri Nov  4 05:57:18 2016: 167000 98.39% 0.157677"
       ]
      },
      {
       "output_type": "stream",
       "stream": "stdout",
       "text": [
        "\n",
        "Fri Nov  4 05:59:13 2016: 168000 98.23% 0.178139"
       ]
      },
      {
       "output_type": "stream",
       "stream": "stdout",
       "text": [
        "\n",
        "Fri Nov  4 06:01:08 2016: 169000 98.25% 0.164369"
       ]
      },
      {
       "output_type": "stream",
       "stream": "stdout",
       "text": [
        "\n",
        "Fri Nov  4 06:03:02 2016: 170000 98.27% 0.158566"
       ]
      },
      {
       "output_type": "stream",
       "stream": "stdout",
       "text": [
        "\n",
        "Fri Nov  4 06:04:57 2016: 171000 98.35% 0.156833"
       ]
      },
      {
       "output_type": "stream",
       "stream": "stdout",
       "text": [
        "\n",
        "Fri Nov  4 06:06:51 2016: 172000 98.37% 0.154052"
       ]
      },
      {
       "output_type": "stream",
       "stream": "stdout",
       "text": [
        "\n",
        "Fri Nov  4 06:08:45 2016: 173000 98.27% 0.156384"
       ]
      },
      {
       "output_type": "stream",
       "stream": "stdout",
       "text": [
        "\n",
        "Fri Nov  4 06:10:39 2016: 174000 98.24% 0.163915"
       ]
      },
      {
       "output_type": "stream",
       "stream": "stdout",
       "text": [
        "\n",
        "Fri Nov  4 06:12:33 2016: 175000 98.30% 0.153779"
       ]
      },
      {
       "output_type": "stream",
       "stream": "stdout",
       "text": [
        "\n",
        "Fri Nov  4 06:14:26 2016: 176000 98.26% 0.163531"
       ]
      },
      {
       "output_type": "stream",
       "stream": "stdout",
       "text": [
        "\n",
        "Fri Nov  4 06:16:21 2016: 177000 98.41% 0.153162"
       ]
      },
      {
       "output_type": "stream",
       "stream": "stdout",
       "text": [
        "\n",
        "Fri Nov  4 06:18:15 2016: 178000 98.41% 0.146276"
       ]
      },
      {
       "output_type": "stream",
       "stream": "stdout",
       "text": [
        "\n",
        "Fri Nov  4 06:20:09 2016: 179000 98.17% 0.166488"
       ]
      },
      {
       "output_type": "stream",
       "stream": "stdout",
       "text": [
        "\n",
        "Fri Nov  4 06:22:04 2016: 180000 98.22% 0.159964"
       ]
      },
      {
       "output_type": "stream",
       "stream": "stdout",
       "text": [
        "\n",
        "Fri Nov  4 06:23:58 2016: 181000 98.33% 0.151239"
       ]
      },
      {
       "output_type": "stream",
       "stream": "stdout",
       "text": [
        "\n",
        "Fri Nov  4 06:25:54 2016: 182000 98.33% 0.152248"
       ]
      },
      {
       "output_type": "stream",
       "stream": "stdout",
       "text": [
        "\n",
        "Fri Nov  4 06:27:49 2016: 183000 98.36% 0.153973"
       ]
      },
      {
       "output_type": "stream",
       "stream": "stdout",
       "text": [
        "\n",
        "Fri Nov  4 06:29:43 2016: 184000 98.33% 0.153320"
       ]
      },
      {
       "output_type": "stream",
       "stream": "stdout",
       "text": [
        "\n",
        "Fri Nov  4 06:31:37 2016: 185000 98.34% 0.147965"
       ]
      },
      {
       "output_type": "stream",
       "stream": "stdout",
       "text": [
        "\n",
        "Fri Nov  4 06:33:31 2016: 186000 98.36% 0.146206"
       ]
      },
      {
       "output_type": "stream",
       "stream": "stdout",
       "text": [
        "\n",
        "Fri Nov  4 06:35:26 2016: 187000 98.32% 0.145874"
       ]
      },
      {
       "output_type": "stream",
       "stream": "stdout",
       "text": [
        "\n",
        "Fri Nov  4 06:37:20 2016: 188000 98.33% 0.147774"
       ]
      },
      {
       "output_type": "stream",
       "stream": "stdout",
       "text": [
        "\n",
        "Fri Nov  4 06:39:14 2016: 189000 98.33% 0.162424"
       ]
      },
      {
       "output_type": "stream",
       "stream": "stdout",
       "text": [
        "\n",
        "Fri Nov  4 06:41:08 2016: 190000 98.24% 0.152781"
       ]
      },
      {
       "output_type": "stream",
       "stream": "stdout",
       "text": [
        "\n",
        "Fri Nov  4 06:43:02 2016: 191000 98.38% 0.146991"
       ]
      },
      {
       "output_type": "stream",
       "stream": "stdout",
       "text": [
        "\n",
        "Fri Nov  4 06:44:56 2016: 192000 98.31% 0.144327"
       ]
      },
      {
       "output_type": "stream",
       "stream": "stdout",
       "text": [
        "\n",
        "Fri Nov  4 06:46:50 2016: 193000 98.31% 0.150716"
       ]
      },
      {
       "output_type": "stream",
       "stream": "stdout",
       "text": [
        "\n",
        "Fri Nov  4 06:48:46 2016: 194000 98.30% 0.143092"
       ]
      },
      {
       "output_type": "stream",
       "stream": "stdout",
       "text": [
        "\n",
        "Fri Nov  4 06:50:42 2016: 195000 98.35% 0.141138"
       ]
      },
      {
       "output_type": "stream",
       "stream": "stdout",
       "text": [
        "\n",
        "Fri Nov  4 06:52:37 2016: 196000 98.37% 0.142652"
       ]
      },
      {
       "output_type": "stream",
       "stream": "stdout",
       "text": [
        "\n",
        "Fri Nov  4 06:54:36 2016: 197000 98.28% 0.141264"
       ]
      },
      {
       "output_type": "stream",
       "stream": "stdout",
       "text": [
        "\n",
        "Fri Nov  4 06:56:31 2016: 198000 98.36% 0.143398"
       ]
      },
      {
       "output_type": "stream",
       "stream": "stdout",
       "text": [
        "\n",
        "Fri Nov  4 06:58:27 2016: 199000 98.40% 0.137583"
       ]
      },
      {
       "output_type": "stream",
       "stream": "stdout",
       "text": [
        "\n",
        "Fri Nov  4 07:00:25 2016: 200000 98.32% 0.140420"
       ]
      },
      {
       "output_type": "stream",
       "stream": "stdout",
       "text": [
        "\n"
       ]
      }
     ],
     "prompt_number": 21
    },
    {
     "cell_type": "code",
     "collapsed": false,
     "input": [
      "print sess.run(W1)\n",
      "print sess.run(W)"
     ],
     "language": "python",
     "metadata": {},
     "outputs": [
      {
       "output_type": "stream",
       "stream": "stdout",
       "text": [
        "[[ -2.26280633e-02  -3.22122015e-02  -1.85910612e-02  -3.46315652e-02\n",
        "   -2.39531491e-02   2.47517064e-01   5.09189032e-02  -7.01523125e-02\n",
        "   -4.73234355e-02  -4.89394329e-02]\n",
        " [ -5.38899936e-03  -6.03415910e-03   1.04153872e-01  -1.17491540e-02\n",
        "   -3.43229249e-02  -1.81800649e-02  -1.03802662e-02   3.39678209e-03\n",
        "   -1.67691745e-02  -4.72938363e-03]\n",
        " [ -9.35291424e-02  -4.86496836e-02  -3.28438319e-02  -7.83569887e-02\n",
        "    2.05968067e-01   1.17216572e-01  -4.52942699e-02  -2.26671807e-02\n",
        "   -2.97197849e-02   2.78823227e-02]\n",
        " [  1.81838952e-03   1.11478306e-02   1.80460382e-02  -2.06070840e-02\n",
        "    2.06322953e-01  -2.09751111e-02   4.38927161e-03  -7.30698183e-02\n",
        "   -3.86662036e-02  -8.83772597e-02]\n",
        " [ -5.45882806e-02   2.59307045e-02  -1.30111143e-01  -4.71190326e-02\n",
        "   -2.27907225e-02  -2.03788336e-02  -2.16416344e-02   3.90424162e-01\n",
        "   -5.21051288e-02  -6.75269365e-02]\n",
        " [ -1.50416773e-02   2.44788468e-01  -3.46985683e-02  -2.99997646e-02\n",
        "   -6.11884780e-02  -3.35223973e-02  -1.33371530e-02   2.82933433e-02\n",
        "   -5.90377077e-02  -2.62160040e-02]\n",
        " [ -9.08920020e-02  -2.37218011e-02   3.00018340e-02   8.69141817e-02\n",
        "   -7.54288882e-02   1.92121565e-01  -1.57663338e-02  -1.30980592e-02\n",
        "   -6.55957162e-02  -2.45266221e-02]\n",
        " [ -3.27041410e-02   6.62333071e-02  -2.75264569e-02  -1.48754716e-02\n",
        "   -1.97281055e-02  -7.47183636e-02   4.91389744e-02   1.59416825e-01\n",
        "   -2.44467854e-02  -8.07859972e-02]\n",
        " [  5.44758365e-02  -2.13749819e-02  -5.76108694e-03   1.55296743e-01\n",
        "   -8.19999576e-02   6.84925020e-02  -3.45589593e-02  -3.24961320e-02\n",
        "    2.59440560e-02  -1.28000483e-01]\n",
        " [ -5.18555790e-02  -4.77271900e-02  -1.17250450e-03  -1.67083628e-02\n",
        "   -1.66096419e-04   2.63260659e-02  -4.65082265e-02   2.19267502e-01\n",
        "   -3.16310711e-02  -4.98150364e-02]\n",
        " [ -2.82636341e-02  -2.51107905e-02  -2.80567631e-02  -9.39021111e-02\n",
        "   -2.71199662e-02   1.74948141e-01   5.90794347e-02  -2.71493867e-02\n",
        "   -4.49877046e-02   4.05796915e-02]\n",
        " [  1.73028439e-01  -1.91964004e-02  -2.99095605e-02   9.15079862e-02\n",
        "   -3.72753218e-02  -1.16508856e-01  -2.42552832e-02  -1.65669713e-02\n",
        "   -1.48762772e-02  -5.94276050e-03]\n",
        " [ -4.60907035e-02  -1.90291759e-02  -6.74269050e-02   8.28753114e-02\n",
        "   -8.61174241e-02   4.57499623e-02  -5.89568391e-02  -2.80604940e-02\n",
        "    2.41979957e-01  -6.49008304e-02]\n",
        " [  4.34074271e-03  -3.43489982e-02   3.28845941e-02  -8.06050077e-02\n",
        "   -2.49422323e-02   8.30430463e-02  -3.65506485e-02  -9.58452523e-02\n",
        "   -9.60939452e-02   2.48161450e-01]\n",
        " [  4.81339693e-02   1.29534006e-01  -6.08650669e-02  -3.78034897e-02\n",
        "    8.15230981e-02  -5.12281470e-02  -3.47968526e-02   9.86580253e-02\n",
        "   -1.10994972e-01  -6.21546544e-02]\n",
        " [ -7.52966404e-02   4.59488705e-02   1.53174698e-01  -3.14907990e-02\n",
        "   -2.22214404e-02  -5.32012992e-02   1.06768385e-02  -5.73778711e-02\n",
        "    1.02200195e-01  -7.24056885e-02]\n",
        " [ -2.56657265e-02   1.70471475e-01  -5.27599789e-02  -2.54709553e-02\n",
        "    5.11058457e-02   5.02044000e-02  -4.07210737e-02  -4.84772883e-02\n",
        "   -2.60653365e-02  -5.26233986e-02]\n",
        " [  8.79374370e-02  -5.55695258e-02  -1.86351128e-02  -1.83084924e-02\n",
        "    1.28688112e-01  -5.34084700e-02  -2.21833680e-02  -4.44752804e-04\n",
        "   -1.51825175e-02  -3.28927040e-02]\n",
        " [  1.80318534e-01  -2.51578018e-02  -2.81018633e-02   3.84695688e-03\n",
        "    2.71631274e-02  -7.79123232e-02   2.10337769e-02  -3.12808938e-02\n",
        "   -4.74101119e-02  -2.24998388e-02]\n",
        " [ -4.42599133e-02   4.89346012e-02  -4.63605262e-02   9.18242410e-02\n",
        "   -9.06898379e-02  -1.17571456e-02   9.99434367e-02  -8.24033245e-02\n",
        "    1.04600333e-01  -6.98261708e-02]\n",
        " [ -1.51270656e-02   3.02718729e-02   2.02887833e-01  -8.03459249e-03\n",
        "   -8.33236671e-04  -4.93223779e-02  -3.72278579e-02  -5.09278402e-02\n",
        "   -2.70067193e-02  -4.46729735e-02]\n",
        " [ -1.89437158e-02  -1.09142819e-02   1.51651680e-01  -1.62276961e-02\n",
        "   -1.66044459e-02  -1.55245571e-03  -1.07612722e-02  -4.30634022e-02\n",
        "   -1.73506327e-02  -1.62260775e-02]\n",
        " [ -2.61776224e-02  -6.45376742e-02   4.96811513e-03  -2.34186519e-02\n",
        "   -3.95393185e-02  -2.41034441e-02   2.02754542e-01  -1.30017987e-02\n",
        "   -6.34679804e-03  -1.05420044e-02]\n",
        " [ -1.87350810e-02  -1.73147935e-02   1.48282424e-01  -1.08872671e-02\n",
        "   -4.43065614e-02  -1.18742725e-02  -6.09305222e-03   2.97503639e-03\n",
        "   -5.01344539e-02   8.09299946e-03]\n",
        " [  3.52631323e-02  -1.82729438e-02   4.40297008e-01  -9.51532368e-03\n",
        "   -1.38611356e-02  -3.71984057e-02  -3.98739018e-02  -3.18642795e-01\n",
        "   -2.41335183e-02  -1.40082790e-02]\n",
        " [ -1.77075360e-02  -3.73703949e-02  -3.58163901e-02  -4.37460467e-02\n",
        "   -2.02470180e-02   2.21297666e-02  -4.08523977e-02  -2.33219583e-02\n",
        "    2.20448986e-01  -2.34829746e-02]\n",
        " [ -1.02395620e-02  -1.31593794e-02  -1.58726908e-02   2.04698831e-01\n",
        "   -1.16996234e-02  -9.33847670e-03  -1.46024236e-02  -9.41141993e-02\n",
        "   -1.46463653e-02  -2.10222639e-02]\n",
        " [ -6.34813262e-03  -2.53097657e-02  -3.24243195e-02   1.44145519e-01\n",
        "   -1.25076342e-02  -4.47919890e-02  -1.21028041e-02  -6.93276571e-03\n",
        "   -1.70862011e-03  -2.01729964e-03]\n",
        " [ -1.89629234e-02   8.89586434e-02  -3.86557691e-02  -8.09067115e-03\n",
        "    1.18998333e-03   1.23507250e-02   1.07405536e-01  -4.91838902e-03\n",
        "   -3.82450745e-02  -1.01032965e-01]\n",
        " [ -1.33592158e-03  -4.22583194e-03   1.38014425e-02  -6.38444209e-03\n",
        "   -5.91497086e-02  -3.09890113e-03  -2.65696691e-03   8.05366039e-02\n",
        "   -1.62019748e-02  -1.28442154e-03]\n",
        " [ -2.20038127e-02  -1.56787243e-02  -3.10429130e-02   2.03651503e-01\n",
        "   -2.59775147e-02  -1.18431076e-01  -3.72634530e-02  -5.61635122e-02\n",
        "   -1.97376516e-02   1.22653201e-01]\n",
        " [  4.59185801e-02  -4.70799953e-03  -2.52625421e-02  -3.30796279e-02\n",
        "   -6.66735619e-02   1.44009247e-01  -2.59740222e-02  -7.85324797e-02\n",
        "   -4.71902080e-02   9.14917886e-02]\n",
        " [ -4.81276587e-02  -1.39023475e-02  -2.42299587e-02  -2.94418074e-02\n",
        "    2.00573295e-01  -4.12176624e-02   1.37734525e-02  -1.37318741e-03\n",
        "   -2.15789918e-02  -3.44537385e-02]\n",
        " [ -4.83792694e-03  -7.68062994e-02  -3.87147218e-02  -4.02537696e-02\n",
        "   -7.40370229e-02  -2.25194488e-02   2.37248436e-01  -1.49860112e-02\n",
        "    2.88239978e-02   6.17152220e-03]\n",
        " [ -5.21449484e-02   9.31452587e-02  -3.86440270e-02  -1.43198399e-02\n",
        "    3.02708300e-04  -6.90762559e-03  -1.10235671e-02  -7.20445812e-02\n",
        "   -2.81166676e-02   1.29746735e-01]\n",
        " [ -1.52429063e-02  -2.70598941e-03  -4.41890731e-02  -3.75454053e-02\n",
        "   -4.47396822e-02   3.68886744e-03  -6.19939826e-02  -8.98174010e-03\n",
        "    2.36495331e-01  -2.47601103e-02]\n",
        " [  2.24756211e-01  -2.51131300e-02  -1.13434739e-01  -2.69615576e-02\n",
        "   -1.08465135e-01   6.64437264e-02   6.88203424e-02  -6.77045528e-03\n",
        "   -7.20460564e-02  -7.20614195e-03]\n",
        " [ -3.83135788e-02  -3.22656892e-02  -2.21767034e-02  -9.00807008e-02\n",
        "   -3.40210125e-02   1.77795961e-01   1.53905777e-02  -9.29342676e-03\n",
        "   -4.24743257e-02   7.54327327e-02]\n",
        " [ -2.76628714e-02  -8.83477107e-02  -9.65172239e-03  -3.48908640e-02\n",
        "   -5.23078814e-02  -7.20397085e-02   3.46353427e-02   8.18369314e-02\n",
        "    1.52557418e-01   1.58806853e-02]\n",
        " [ -4.04247008e-02  -5.95402308e-02  -2.78900415e-02  -8.15185383e-02\n",
        "    8.54315013e-02  -3.69075648e-02  -2.92242635e-02  -4.84376363e-02\n",
        "   -3.00358348e-02   2.68548131e-01]\n",
        " [ -2.50972938e-02   7.54230022e-02  -4.03941534e-02  -8.41294825e-02\n",
        "   -1.00363018e-02  -1.72594339e-02  -8.44934955e-02  -6.23104498e-02\n",
        "    7.06245527e-02   1.77672222e-01]\n",
        " [ -1.15086967e-02   2.15338558e-01  -3.23736668e-02  -2.81988122e-02\n",
        "   -6.25431687e-02   4.16010842e-02  -1.75873446e-03  -3.81378792e-02\n",
        "   -3.92439701e-02  -4.31657955e-02]\n",
        " [ -5.22758290e-02  -4.25936207e-02  -6.37742653e-02  -4.63783555e-02\n",
        "   -2.05385424e-02  -3.77810448e-02  -3.22743356e-02   4.06682433e-04\n",
        "    5.75885959e-02   2.37647355e-01]\n",
        " [ -9.86042526e-03  -1.46785891e-02   1.36108566e-02   5.42003252e-02\n",
        "    2.07763493e-01  -8.23907107e-02  -1.94742512e-02  -2.39749923e-02\n",
        "   -5.66882826e-02  -6.84919804e-02]\n",
        " [ -1.98883265e-02  -7.94053543e-03  -2.74783000e-03  -5.19192070e-02\n",
        "   -2.20431890e-02  -2.54005399e-02  -1.56461056e-02   2.09426686e-01\n",
        "   -1.82485413e-02  -4.55871746e-02]\n",
        " [  1.53679222e-01  -5.47940359e-02  -8.93242881e-02  -1.80083700e-02\n",
        "   -1.50373243e-02  -3.59376892e-02  -1.96167529e-02  -1.37632424e-02\n",
        "    1.42090172e-01  -4.92717698e-02]\n",
        " [ -1.14715267e-02  -4.62777354e-02  -1.94819048e-02  -8.79490003e-03\n",
        "   -1.29466793e-02   2.67264396e-02   9.74323377e-02  -3.44658308e-02\n",
        "    3.50876190e-02  -2.58060526e-02]\n",
        " [ -4.26889360e-02  -9.94559079e-02   9.63687003e-02  -5.12425452e-02\n",
        "    2.72655729e-02  -3.92447077e-02  -7.75149092e-02  -9.45843942e-03\n",
        "    2.34621957e-01  -3.86312678e-02]\n",
        " [ -4.09657173e-02  -2.28280649e-02   5.61989807e-02  -3.07635497e-02\n",
        "   -3.29041071e-02  -2.47071553e-02  -3.18130367e-02  -3.72689068e-02\n",
        "    2.13192239e-01  -4.81023416e-02]\n",
        " [ -2.64877900e-02  -2.05866843e-02  -5.96666075e-02   2.40178972e-01\n",
        "   -2.38336977e-02  -3.03428546e-02   1.68482754e-02  -5.54211587e-02\n",
        "   -2.32832264e-02  -1.73752327e-02]]\n",
        "[[-0.13299218  0.06628155 -0.28804994 ..., -0.36227062 -0.1769224\n",
        "   0.28477246]\n",
        " [-0.62633818  0.84169537  0.53108704 ...,  0.435554   -0.33315161\n",
        "  -0.0669061 ]\n",
        " [ 0.24009362 -0.32372993 -0.72248757 ..., -0.25832126  0.11614829\n",
        "   0.00637737]\n",
        " ..., \n",
        " [ 0.0086561  -0.1557615  -0.17882305 ...,  0.12719321  0.60789508\n",
        "  -0.42653155]\n",
        " [-0.76789451 -0.23913456  0.15442409 ...,  0.01538054  0.17066726\n",
        "  -0.3408325 ]\n",
        " [ 0.11925959 -0.22887862  0.67831635 ..., -0.2857607   0.09847359\n",
        "   0.05917983]]"
       ]
      },
      {
       "output_type": "stream",
       "stream": "stdout",
       "text": [
        "\n"
       ]
      }
     ],
     "prompt_number": 22
    },
    {
     "cell_type": "code",
     "collapsed": false,
     "input": [
      "print \"The training took: \", time.time() - start_time, \" secs\""
     ],
     "language": "python",
     "metadata": {},
     "outputs": [
      {
       "output_type": "stream",
       "stream": "stdout",
       "text": [
        "The training took:  22903.3098171  secs\n"
       ]
      }
     ],
     "prompt_number": 23
    },
    {
     "cell_type": "code",
     "collapsed": false,
     "input": [
      "#sess.close()"
     ],
     "language": "python",
     "metadata": {},
     "outputs": [],
     "prompt_number": 24
    },
    {
     "cell_type": "code",
     "collapsed": false,
     "input": [
      "#plt.xkcd(False)\n",
      "plt.subplot(211)\n",
      "plt.ylim(10., 100)\n",
      "plt.plot(x_coords, y_coords)\n",
      "plt.plot(x_coords, 96. * np.ones(len(x_coords)))\n",
      "plt.subplot(212)\n",
      "plt.plot(x_coords, loss_values)\n",
      "\n",
      "plt.show()"
     ],
     "language": "python",
     "metadata": {},
     "outputs": [],
     "prompt_number": 25
    },
    {
     "cell_type": "code",
     "collapsed": false,
     "input": [
      "#with file(\"output/mnist_accuracy.npy\", \"w\") as f:\n",
      "#    np.save(f, np.array(y_coords))\n",
      "\n",
      "#with file(\"output/mnist_loss.npy\", \"w\") as f:\n",
      "#    np.save(f, np.array(loss_values))"
     ],
     "language": "python",
     "metadata": {},
     "outputs": []
    },
    {
     "cell_type": "code",
     "collapsed": false,
     "input": [
      "for i in xrange(0, num_maps):\n",
      "    plt.subplot(2, 3, i + 1)\n",
      "    #print conv_maps[i]\n",
      "    conv_map_np = sess.run(conv_maps[i])\n",
      "    plt.imshow(conv_map_np.reshape([5, 5]), cmap='Greys_r')\n",
      "    \n",
      "plt.show()"
     ],
     "language": "python",
     "metadata": {},
     "outputs": []
    },
    {
     "cell_type": "code",
     "collapsed": false,
     "input": [],
     "language": "python",
     "metadata": {},
     "outputs": []
    }
   ],
   "metadata": {}
  }
 ]
}