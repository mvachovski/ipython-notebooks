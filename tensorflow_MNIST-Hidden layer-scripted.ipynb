{
 "metadata": {
  "name": "",
  "signature": "sha256:b6e5873de7e1f19f87b162da2de4b207f9ae7a018746cedb61155894740e3647"
 },
 "nbformat": 3,
 "nbformat_minor": 0,
 "worksheets": [
  {
   "cells": [
    {
     "cell_type": "code",
     "collapsed": false,
     "input": [
      "from tensorflow.examples.tutorials.mnist import input_data\n",
      "import matplotlib.pyplot as plt\n",
      "import numpy as np"
     ],
     "language": "python",
     "metadata": {},
     "outputs": [],
     "prompt_number": 1
    },
    {
     "cell_type": "code",
     "collapsed": false,
     "input": [
      "mnist = input_data.read_data_sets(\"MNIST_data/\", one_hot=True)"
     ],
     "language": "python",
     "metadata": {},
     "outputs": [
      {
       "output_type": "stream",
       "stream": "stdout",
       "text": [
        "Extracting MNIST_data/train-images-idx3-ubyte.gz\n",
        "Extracting"
       ]
      },
      {
       "output_type": "stream",
       "stream": "stdout",
       "text": [
        " MNIST_data/train-labels-idx1-ubyte.gz\n",
        "Extracting MNIST_data/t10k-images-idx3-ubyte.gz\n",
        "Extracting"
       ]
      },
      {
       "output_type": "stream",
       "stream": "stdout",
       "text": [
        " MNIST_data/t10k-labels-idx1-ubyte.gz\n"
       ]
      }
     ],
     "prompt_number": 2
    },
    {
     "cell_type": "code",
     "collapsed": false,
     "input": [
      "import tensorflow as tf\n",
      "import time"
     ],
     "language": "python",
     "metadata": {},
     "outputs": [],
     "prompt_number": 3
    },
    {
     "cell_type": "code",
     "collapsed": false,
     "input": [
      "start_time = time.time()"
     ],
     "language": "python",
     "metadata": {},
     "outputs": [],
     "prompt_number": 4
    },
    {
     "cell_type": "code",
     "collapsed": false,
     "input": [
      "def create_tf_session(middle_layer_sz, learning_rate):\n",
      "    x = tf.placeholder(tf.float32, [None, 784])\n",
      "    tf.set_random_seed(start_time)\n",
      "    W = tf.Variable(tf.random_normal([784, middle_layer_sz]))\n",
      "    W1 = tf.Variable(tf.random_normal([middle_layer_sz, 10]))\n",
      "    b = tf.Variable(tf.random_normal([middle_layer_sz]))\n",
      "    b1 = tf.Variable(tf.random_normal([10]))\n",
      "    tmp = tf.nn.sigmoid(tf.matmul(x, W) + b)\n",
      "    y = tf.nn.softmax( tf.matmul( tmp, W1) + b1)\n",
      "    y_ = tf.placeholder(tf.float32, [None, 10])\n",
      "    cross_entropy = -tf.reduce_mean(tf.reduce_sum(y_ * tf.log(y), reduction_indices=[1])) - \\\n",
      "    tf.reduce_mean((1 - y_) * tf.log(1 - y)) + \\\n",
      "    lmbd * .5 * tf.reduce_mean(tf.square(W)) + lmbd *.5 * tf.reduce_mean(tf.square(W1))\n",
      "    train_step = tf.train.GradientDescentOptimizer(learning_rate).minimize(cross_entropy)\n",
      "    init = tf.initialize_all_variables()\n",
      "    #sess = tf.InteractiveSession()\n",
      "    sess = tf.Session()\n",
      "    sess.run(init)\n",
      "    correct_prediction = tf.equal(tf.argmax(y,1), tf.argmax(y_,1))\n",
      "    accuracy = tf.reduce_mean(tf.cast(correct_prediction, tf.float32))\n",
      "    return sess, train_step, accuracy, x, y_, y, W, W1, b, b1"
     ],
     "language": "python",
     "metadata": {},
     "outputs": [],
     "prompt_number": 5
    },
    {
     "cell_type": "code",
     "collapsed": false,
     "input": [
      "middle_layer_sz = [ 100 ]\n",
      "lambdas = [ 1., 2.  ]\n",
      "learning_rates = [ 2.5, 3.5, 4. ]\n",
      "training_epochs = [ 40000 ]"
     ],
     "language": "python",
     "metadata": {},
     "outputs": []
    },
    {
     "cell_type": "code",
     "collapsed": false,
     "input": [
      "for sz in middle_layer_sz:\n",
      "    for lmbd in lambdas:\n",
      "        for lr in learning_rates:\n",
      "            for te in training_epochs:\n",
      "                x_coords = []\n",
      "                y_coords = []\n",
      "                #b_val = []\n",
      "                #b1_val = []\n",
      "                #W_val = []\n",
      "                #W1_val = []\n",
      "                sess, train_step, accuracy, x, y_, y, W, W1, b, b1 = create_tf_session(sz, lr)\n",
      "                print \"middle_layer_sz: %d lmbd: %.3f learning_rate: %.3f\" % (sz, lmbd, lr)\n",
      "                for i in range(te + 1):\n",
      "                    batch_xs, batch_ys = mnist.train.next_batch(100)\n",
      "                    sess.run(train_step, feed_dict={x: batch_xs, y_: batch_ys})\n",
      "                    #b_val.append(sess.run(b)[0])\n",
      "                    #b1_val.append(sess.run(b1)[0])\n",
      "                    #W_val.append(sess.run(W)[0][0])\n",
      "                    #W1_val.append(sess.run(W1)[0][0])\n",
      "                    if i % 2000 == 0:\n",
      "                        acc = sess.run(accuracy, feed_dict={x: mnist.test.images, y_: mnist.test.labels})\n",
      "                        x_coords.append(i)\n",
      "                        y_coords.append(acc * 100)\n",
      "                        print \"%d %.2f%%\" % (i, acc * 100)\n",
      "                sess.close()\n",
      "                plt.plot(x_coords, y_coords, label = \"middle_layer_sz: %d lmbd: %.3f learning_rate: %.3f\" % (sz, lmbd, lr))\n",
      "                #plt.plot(range(te + 1), b_val, label = \"b\")\n",
      "                #plt.plot(range(te + 1), b1_val, label = \"b1\")\n",
      "                #plt.plot(range(te + 1), W_val, label = \"W\")\n",
      "                #plt.plot(range(te + 1), W1_val, label = \"W1\")\n",
      "        "
     ],
     "language": "python",
     "metadata": {},
     "outputs": [
      {
       "output_type": "stream",
       "stream": "stdout",
       "text": [
        "middle_layer_sz: 100 lmbd: 1.000 learning_rate: 2.500\n",
        "0 19.91%"
       ]
      },
      {
       "output_type": "stream",
       "stream": "stdout",
       "text": [
        "\n",
        "2000 94.10%"
       ]
      },
      {
       "output_type": "stream",
       "stream": "stdout",
       "text": [
        "\n",
        "4000 95.09%"
       ]
      },
      {
       "output_type": "stream",
       "stream": "stdout",
       "text": [
        "\n",
        "6000 95.77%"
       ]
      },
      {
       "output_type": "stream",
       "stream": "stdout",
       "text": [
        "\n",
        "8000 96.20%"
       ]
      },
      {
       "output_type": "stream",
       "stream": "stdout",
       "text": [
        "\n",
        "10000 96.48%"
       ]
      }
     ]
    },
    {
     "cell_type": "code",
     "collapsed": false,
     "input": [
      "print \"The script took: \", time.time() - start_time, \" secs\""
     ],
     "language": "python",
     "metadata": {},
     "outputs": []
    },
    {
     "cell_type": "code",
     "collapsed": false,
     "input": [
      "# best run\n",
      "# middle_layer_sz: 55 lmbd: 1.000 learning_rate: 6.000\n",
      "# middle_layer_sz: 55 lmbd: 0.200 learning_rate: 6.000 96.99\n",
      "# middle_layer_sz: 55 lmbd: 0.300 learning_rate: 8.000 96.99\n",
      "# middle_layer_sz: 60 lmbd: 0.500 learning_rate: 7.000 97.07\n",
      "# middle_layer_sz: 60 lmbd: 0.600 learning_rate: 5.000 97.17\n",
      "# middle_layer_sz: 60 lmbd: 0.600 learning_rate: 6.000 97.18\n",
      "# middle_layer_sz: 100 lmbd: 0.600 learning_rate: 3.000 97.53\n",
      "# middle_layer_sz: 100 lmbd: 0.500 learning_rate: 3.000 97.45"
     ],
     "language": "python",
     "metadata": {},
     "outputs": []
    },
    {
     "cell_type": "code",
     "collapsed": false,
     "input": [
      "#plt.xkcd(True)\n",
      "plt.ylim(90., 100)\n",
      "plt.plot(x_coords, 96. * np.ones(len(x_coords)))\n",
      "plt.plot(x_coords, 97. * np.ones(len(x_coords)))\n",
      "plt.show()"
     ],
     "language": "python",
     "metadata": {},
     "outputs": []
    },
    {
     "cell_type": "code",
     "collapsed": false,
     "input": [
      "sess.run(b)[0]"
     ],
     "language": "python",
     "metadata": {},
     "outputs": []
    },
    {
     "cell_type": "code",
     "collapsed": false,
     "input": [
      "sess.run(b1)"
     ],
     "language": "python",
     "metadata": {},
     "outputs": []
    },
    {
     "cell_type": "code",
     "collapsed": false,
     "input": [
      "sess.run(W)"
     ],
     "language": "python",
     "metadata": {},
     "outputs": []
    },
    {
     "cell_type": "code",
     "collapsed": false,
     "input": [
      "W1_ = sess.run(W1)\n",
      "W1_[0][0]"
     ],
     "language": "python",
     "metadata": {},
     "outputs": []
    },
    {
     "cell_type": "code",
     "collapsed": false,
     "input": [
      "print b_val"
     ],
     "language": "python",
     "metadata": {},
     "outputs": []
    },
    {
     "cell_type": "code",
     "collapsed": false,
     "input": [],
     "language": "python",
     "metadata": {},
     "outputs": []
    }
   ],
   "metadata": {}
  }
 ]
}