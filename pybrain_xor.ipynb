{
 "metadata": {
  "name": "",
  "signature": "sha256:064151b6ccea8caa8c0f219c241d13f4a48986a678d28ef3c9576f095e0f9f14"
 },
 "nbformat": 3,
 "nbformat_minor": 0,
 "worksheets": [
  {
   "cells": [
    {
     "cell_type": "code",
     "collapsed": false,
     "input": [
      "from pybrain.tools.shortcuts import buildNetwork\n",
      "from pybrain.datasets import SupervisedDataSet\n",
      "from pybrain.supervised.trainers import BackpropTrainer\n",
      "from pybrain.structure import TanhLayer\n",
      "from pybrain.structure import LinearLayer\n",
      "from pybrain.structure import FeedForwardNetwork\n",
      "from pybrain.structure import FullConnection"
     ],
     "language": "python",
     "metadata": {},
     "outputs": [],
     "prompt_number": 25
    },
    {
     "cell_type": "code",
     "collapsed": false,
     "input": [
      "#net = buildNetwork(2, 2, 1, bias=True, hiddenclass=TanhLayer)\n",
      "def buildNeuralNetwork(hiddenLayerDims):\n",
      "    connections = []\n",
      "    layers = []\n",
      "    net = FeedForwardNetwork()\n",
      "    inLayer = LinearLayer(2)\n",
      "    net.addInputModule(inLayer)\n",
      "    layers.append(inLayer)\n",
      "    \n",
      "    outLayer = LinearLayer(1)\n",
      "\n",
      "    for dim in hiddenLayerDims:\n",
      "        hiddenLayer = TanhLayer(dim)\n",
      "        layers.append(hiddenLayer)\n",
      "        net.addModule(hiddenLayer)\n",
      "    \n",
      "    net.addOutputModule(outLayer)\n",
      "    layers.append(outLayer)\n",
      "\n",
      "    for i in range(0, len(layers) - 1):\n",
      "        conn = FullConnection(layers[i], layers[i + 1])\n",
      "        connections.append(conn)\n",
      "        net.addConnection(conn)\n",
      "        \n",
      "    #i_to_h0 = FullConnection(inLayer, hiddenLayers[0])\n",
      "    #h0_to_o = FullConnection(hiddenLayers[len(hiddenLayers) - 1], outLayer)\n",
      "    #net.addConnection(i_to_h0)\n",
      "    #net.addConnection(h0_to_o)\n",
      "\n",
      "    net.sortModules()\n",
      "    return net, layers, connections"
     ],
     "language": "python",
     "metadata": {},
     "outputs": [],
     "prompt_number": 26
    },
    {
     "cell_type": "code",
     "collapsed": false,
     "input": [
      "net, layers, connections = buildNeuralNetwork([10, 10, 10])"
     ],
     "language": "python",
     "metadata": {},
     "outputs": [],
     "prompt_number": 27
    },
    {
     "cell_type": "code",
     "collapsed": false,
     "input": [
      "ds = SupervisedDataSet(2, 1)"
     ],
     "language": "python",
     "metadata": {},
     "outputs": [],
     "prompt_number": 28
    },
    {
     "cell_type": "code",
     "collapsed": false,
     "input": [
      "print net\n",
      "print ds"
     ],
     "language": "python",
     "metadata": {},
     "outputs": [
      {
       "output_type": "stream",
       "stream": "stdout",
       "text": [
        "FeedForwardNetwork-25\n",
        "   Modules:\n",
        "    [<LinearLayer 'LinearLayer-20'>, <TanhLayer 'TanhLayer-26'>, <TanhLayer 'TanhLayer-27'>, <TanhLayer 'TanhLayer-28'>, <LinearLayer 'LinearLayer-29'>]\n",
        "   Connections:\n",
        "    [<FullConnection 'FullConnection-21': 'LinearLayer-20' -> 'TanhLayer-26'>, <FullConnection 'FullConnection-22': 'TanhLayer-28' -> 'LinearLayer-29'>, <FullConnection 'FullConnection-23': 'TanhLayer-26' -> 'TanhLayer-27'>, <FullConnection 'FullConnection-24': 'TanhLayer-27' -> 'TanhLayer-28'>]\n",
        "\n",
        "input: dim(0, 2)\n",
        "[]\n",
        "\n",
        "target: dim(0, 1)\n",
        "[]\n",
        "\n",
        "\n"
       ]
      }
     ],
     "prompt_number": 29
    },
    {
     "cell_type": "code",
     "collapsed": false,
     "input": [
      "ds.addSample((0, 0), (0,))\n",
      "ds.addSample((0, 1), (1,))\n",
      "ds.addSample((1, 0), (1,))\n",
      "ds.addSample((1, 1), (0,))"
     ],
     "language": "python",
     "metadata": {},
     "outputs": [],
     "prompt_number": 30
    },
    {
     "cell_type": "code",
     "collapsed": false,
     "input": [
      "dataModel = [\n",
      "    [(0,0), (0,)],\n",
      "    [(0,1), (1,)],\n",
      "    [(1,0), (1,)],\n",
      "    [(1,1), (0,)],\n",
      "]\n",
      "\n",
      "import random\n",
      "random.seed()\n",
      "trainingSet = SupervisedDataSet(2, 1);\n",
      "for ri in range(0,1000):\n",
      "    input,target = dataModel[random.getrandbits(2)];\n",
      "    trainingSet.addSample(input, target)"
     ],
     "language": "python",
     "metadata": {},
     "outputs": [],
     "prompt_number": 31
    },
    {
     "cell_type": "code",
     "collapsed": false,
     "input": [
      "#trainer = BackpropTrainer(net, ds)\n",
      "trainer = BackpropTrainer(net, ds, learningrate = 0.001, momentum = 0.99)\n",
      "trainer.trainUntilConvergence(verbose=True,\n",
      "                              trainingData=trainingSet,\n",
      "                              validationData=ds,\n",
      "                              maxEpochs=100)"
     ],
     "language": "python",
     "metadata": {},
     "outputs": [
      {
       "output_type": "stream",
       "stream": "stdout",
       "text": [
        "('train-errors:', '[0        , 0        , 0        , 0        , 0        , 0        , 0        , 0        , 0        , 0        , 0        , 0        , 0        , 0        , 0        , 0        , 0        , 0        , 0        ]')\n",
        "('valid-errors:', '[3e-06    , 0        , 0        , 0        , 0        , 0        , 0        , 0        , 0        , 0        , 0        , 0        , 0        , 0        , 0        , 0        , 0        , 0        , 0        , 0        ]')\n"
       ]
      },
      {
       "metadata": {},
       "output_type": "pyout",
       "prompt_number": 57,
       "text": [
        "([2.5260511638002054e-07,\n",
        "  1.9482594962742838e-10,\n",
        "  6.3056900224813891e-13,\n",
        "  1.6497685620912221e-16,\n",
        "  7.2651757846517389e-20,\n",
        "  2.7813920765185254e-23,\n",
        "  9.1508685420978794e-27,\n",
        "  9.7015100200211556e-31,\n",
        "  7.1934253794841018e-32],\n",
        " [2.5242411905720869e-06,\n",
        "  2.9565240449442954e-09,\n",
        "  5.5871830824244163e-12,\n",
        "  1.1716214450494139e-15,\n",
        "  5.8220869742139591e-19,\n",
        "  2.1795617768113192e-22,\n",
        "  2.2522878638529905e-26,\n",
        "  3.8765117920626283e-30,\n",
        "  8.6281661508548166e-32,\n",
        "  3.6977854932234928e-32])"
       ]
      }
     ],
     "prompt_number": 57
    },
    {
     "cell_type": "code",
     "collapsed": false,
     "input": [
      "print ds, len(ds)"
     ],
     "language": "python",
     "metadata": {},
     "outputs": [
      {
       "output_type": "stream",
       "stream": "stdout",
       "text": [
        "input: dim(6, 2)\n",
        "[[ 0.  0.]\n",
        " [ 0.  1.]\n",
        " [ 1.  0.]\n",
        " [ 1.  1.]]\n",
        "\n",
        "target: dim(6, 1)\n",
        "[[ 0.]\n",
        " [ 1.]\n",
        " [ 1.]\n",
        " [ 0.]]\n",
        "\n",
        " 4\n"
       ]
      }
     ],
     "prompt_number": 33
    },
    {
     "cell_type": "code",
     "collapsed": false,
     "input": [
      "trainer.train()"
     ],
     "language": "python",
     "metadata": {},
     "outputs": [
      {
       "metadata": {},
       "output_type": "pyout",
       "prompt_number": 34,
       "text": [
        "1.8488927466117464e-32"
       ]
      }
     ],
     "prompt_number": 34
    },
    {
     "cell_type": "code",
     "collapsed": false,
     "input": [
      "trainer.trainUntilConvergence()"
     ],
     "language": "python",
     "metadata": {},
     "outputs": [
      {
       "metadata": {},
       "output_type": "pyout",
       "prompt_number": 49,
       "text": [
        "([1.431184135404958e-09,\n",
        "  1.4052435432338988e-09,\n",
        "  1.2653292998392137e-09,\n",
        "  9.8244453235003779e-10,\n",
        "  7.3718817498997411e-10,\n",
        "  5.9271795261276884e-10],\n",
        " [1.8570351153716617e-11,\n",
        "  2.0421718641209733e-10,\n",
        "  1.9019503533466457e-10,\n",
        "  1.4748626337480791e-10,\n",
        "  9.726219455838956e-11,\n",
        "  4.5437876624473834e-11,\n",
        "  7.952007998768407e-12])"
       ]
      }
     ],
     "prompt_number": 49
    },
    {
     "cell_type": "code",
     "collapsed": false,
     "input": [
      "net.activate((0, 0)), net.activate((0, 1)), net.activate((1, 0)), net.activate((1, 1))"
     ],
     "language": "python",
     "metadata": {},
     "outputs": [
      {
       "metadata": {},
       "output_type": "pyout",
       "prompt_number": 60,
       "text": [
        "(array([ 0.]), array([ 1.00000003]), array([ 1.]), array([  1.30715780e-08]))"
       ]
      }
     ],
     "prompt_number": 60
    },
    {
     "cell_type": "code",
     "collapsed": false,
     "input": [
      "for c in connections:\n",
      "    print c.params"
     ],
     "language": "python",
     "metadata": {},
     "outputs": [
      {
       "output_type": "stream",
       "stream": "stdout",
       "text": [
        "[-1.39303007 -2.08750596  1.68811548 -0.70546663  0.94669077  1.4378809\n",
        "  1.92613609  0.05441603  1.44384003  0.4038875  -0.68884642  0.85334045\n",
        "  0.64515271 -1.38647679  0.13461113 -0.64373759  1.17531071 -0.11768512\n",
        " -0.94152289 -0.65675349]\n",
        "[  0.00000000e+00   2.05120610e-02  -1.10214800e+00   2.82206118e-02\n",
        "  -1.95470265e+00   1.99285634e-01  -8.85261519e-01   4.78980120e-01\n",
        "   1.03558521e+00   2.48892563e-01   4.21746957e-01   1.52059915e-01\n",
        "   2.89887655e-01   5.92412917e-01  -8.30633129e-01  -1.35435977e+00\n",
        "   7.55061333e-01   7.41006044e-02  -7.45090917e-01  -1.88670700e-01\n",
        "   7.42786253e-01   4.86483611e-01   1.14711153e+00   2.18371787e-01\n",
        "   1.59548833e+00  -5.64888481e-01   2.33395048e+00   1.63900796e+00\n",
        "   1.26357413e+00  -3.26594430e-01   1.60791779e+00  -2.89707677e-01\n",
        "  -1.10333845e+00  -9.99436450e-01  -2.97118836e-02   9.48380954e-02\n",
        "   2.24936932e+00   1.58911310e-01   3.30076288e-01   6.38962131e-01\n",
        "   5.52878899e-02  -1.85598292e-01  -1.35347857e+00   4.99279345e-01\n",
        "  -1.31773195e+00   1.19881982e+00  -1.12984242e-01   9.64630214e-01\n",
        "   2.32854735e-01   1.69885439e+00  -9.04050257e-01  -8.41052623e-01\n",
        "   1.14389024e+00   7.15778853e-01   1.49548509e-01  -1.38812827e+00\n",
        "  -1.87909448e+00   5.37405411e-01   3.64128917e-01  -8.16408974e-01\n",
        "   5.76456210e-02   1.35538454e+00   3.89051685e-01   3.85474035e+00\n",
        "  -1.50042604e+00   2.66518475e-03   1.75527313e+00   1.11219373e+00\n",
        "   8.85584422e-01  -1.27061768e-01  -1.33135331e+00  -1.16348461e+00\n",
        "   8.09284872e-02  -8.56503066e-01  -1.36951060e+00  -3.02526555e-01\n",
        "   2.29879210e+00  -1.28623604e+00  -1.06681375e+00   1.42611136e+00\n",
        "  -1.73038481e+00  -1.26492786e+00   2.06764586e+00  -7.74174108e-01\n",
        "   3.25610593e-01   1.27599340e+00  -5.67290161e-02  -8.93474817e-01\n",
        "   3.62542187e-01   2.40914483e-02   2.55034406e-03   7.87468069e-01\n",
        "   1.55908868e+00  -1.13965619e-01   1.07981218e+00   1.14583770e+00\n",
        "   6.02037763e-01  -1.83100685e+00   6.72052451e-01  -1.15742579e+00]\n",
        "[-0.18628342  1.57312368 -0.75740752  0.83978727 -1.15657757 -0.26390947\n",
        "  1.65432643  1.6202763  -1.26693039 -1.24089801  1.22446866  1.02676813\n",
        "  1.0338465   1.88434922  1.84166403 -0.471528   -0.63101724  0.73410848\n",
        " -0.97191674 -0.46108154  2.10161476  0.1988088  -0.17619759  0.16267252\n",
        " -0.13288382 -1.046459    0.43799717 -0.49760861 -0.96526436 -0.79542266\n",
        " -0.74252006  0.0884177   1.69224538 -2.12422085  0.12006299  0.70592041\n",
        "  3.39590035 -0.98841295  1.36547329  0.19977981  0.6303991  -1.23275003\n",
        " -1.33663039 -0.46360476  1.24070466  0.6048354  -1.65065647  1.75005846\n",
        " -1.74816857  1.85321401  0.30708064 -0.1044182  -0.04345515 -0.49685409\n",
        "  0.2142382   0.16848733  0.59489883 -1.36195794 -1.31650339 -0.67914585\n",
        " -0.41422272  0.28444517  1.91357127  0.2268935   0.08940598  0.60727488\n",
        " -0.74455754  0.19966285 -0.19972221  1.27269627 -1.40208009 -0.52247904\n",
        "  1.10811866  0.985524   -1.23050824  1.99198226  0.51863834 -1.47995016\n",
        " -0.12095539 -0.24638002  0.11239108 -2.63980719 -0.46599642  0.66381421\n",
        "  0.04769018  0.77264025 -0.00966414  1.33843486  0.96783409 -0.32840422\n",
        "  0.81327878 -0.02924829 -0.35143465 -2.36620992 -1.98698913  0.47518634\n",
        "  0.70848519 -0.80199016  3.0777675  -0.83804589]\n",
        "[ 0.28327624 -1.41788489 -1.24160214  0.03023905  0.63583674  0.20153831\n",
        " -0.07695907  0.01494653 -0.51574535 -1.32019112]\n"
       ]
      }
     ],
     "prompt_number": 54
    },
    {
     "cell_type": "code",
     "collapsed": false,
     "input": [
      "c = connections[1].params[0] = 0"
     ],
     "language": "python",
     "metadata": {},
     "outputs": [],
     "prompt_number": 59
    },
    {
     "cell_type": "code",
     "collapsed": false,
     "input": [],
     "language": "python",
     "metadata": {},
     "outputs": [],
     "prompt_number": 38
    }
   ],
   "metadata": {}
  }
 ]
}