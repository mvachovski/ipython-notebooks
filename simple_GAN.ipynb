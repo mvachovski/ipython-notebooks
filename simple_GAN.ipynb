{
 "cells": [
  {
   "cell_type": "code",
   "execution_count": 1,
   "metadata": {},
   "outputs": [
    {
     "name": "stderr",
     "output_type": "stream",
     "text": [
      "/home/martin/anaconda3/envs/pysc2/lib/python3.6/importlib/_bootstrap.py:219: RuntimeWarning: compiletime version 3.5 of module 'tensorflow.python.framework.fast_tensor_util' does not match runtime version 3.6\n",
      "  return f(*args, **kwds)\n"
     ]
    }
   ],
   "source": [
    "import tensorflow as tf\n",
    "import numpy as np\n",
    "import matplotlib.pyplot as plt\n",
    "import math"
   ]
  },
  {
   "cell_type": "markdown",
   "metadata": {},
   "source": [
    "# Real data generation"
   ]
  },
  {
   "cell_type": "code",
   "execution_count": 2,
   "metadata": {},
   "outputs": [],
   "source": [
    "def get_y(x):\n",
    "    return 10 + math.cos(x*x / 200) + 0.6 * math.sin(0.6 * x) + x / 50\n",
    "\n",
    "\n",
    "def sample_data(n=10000, scale=100):\n",
    "    data = []\n",
    "\n",
    "    x = scale*(np.random.random_sample((n,))-0.5)\n",
    "\n",
    "    for i in range(n):\n",
    "        yi = get_y(x[i])\n",
    "        data.append([x[i], yi])\n",
    "\n",
    "    return np.array(data)"
   ]
  },
  {
   "cell_type": "code",
   "execution_count": 3,
   "metadata": {},
   "outputs": [],
   "source": [
    "def sample_Z(m, n):\n",
    "    return np.random.uniform(-1., 1., size=[m, n])\n",
    "\n",
    "def generator(Z,hsize=[96, 96],reuse=False):\n",
    "    with tf.variable_scope(\"GAN/Generator\",reuse=reuse):\n",
    "        h1 = tf.layers.dense(Z,hsize[0],activation=tf.nn.leaky_relu)\n",
    "        h2 = tf.layers.dense(h1,hsize[1],activation=tf.nn.leaky_relu)\n",
    "        out = tf.layers.dense(h2,2)\n",
    "\n",
    "    return out\n",
    "\n",
    "def discriminator(X,hsize=[96, 96],reuse=False):\n",
    "    with tf.variable_scope(\"GAN/Discriminator\",reuse=reuse):\n",
    "        h1 = tf.layers.dense(X,hsize[0],activation=tf.nn.leaky_relu)\n",
    "        h2 = tf.layers.dense(h1,hsize[1],activation=tf.nn.leaky_relu)\n",
    "        h3 = tf.layers.dense(h2,2)\n",
    "        out = tf.layers.dense(h3,1)\n",
    "\n",
    "    return out, h3"
   ]
  },
  {
   "cell_type": "code",
   "execution_count": 4,
   "metadata": {},
   "outputs": [],
   "source": [
    "X = tf.placeholder(tf.float32,[None,2])\n",
    "Z = tf.placeholder(tf.float32,[None,2])\n",
    "\n",
    "G_sample = generator(Z)\n",
    "r_logits, r_rep = discriminator(X)\n",
    "f_logits, g_rep = discriminator(G_sample,reuse=True)\n",
    "\n",
    "disc_loss = tf.reduce_mean(tf.nn.sigmoid_cross_entropy_with_logits(logits=r_logits,labels=tf.ones_like(r_logits)) + tf.nn.sigmoid_cross_entropy_with_logits(logits=f_logits,labels=tf.zeros_like(f_logits)))\n",
    "gen_loss = tf.reduce_mean(tf.nn.sigmoid_cross_entropy_with_logits(logits=f_logits,labels=tf.ones_like(f_logits)))\n",
    "\n",
    "gen_vars = tf.get_collection(tf.GraphKeys.GLOBAL_VARIABLES,scope=\"GAN/Generator\")\n",
    "disc_vars = tf.get_collection(tf.GraphKeys.GLOBAL_VARIABLES,scope=\"GAN/Discriminator\")\n",
    "\n",
    "gen_step = tf.train.RMSPropOptimizer(learning_rate=0.001).minimize(gen_loss,var_list = gen_vars) # G Train step\n",
    "disc_step = tf.train.RMSPropOptimizer(learning_rate=0.001).minimize(disc_loss,var_list = disc_vars) # D Train step"
   ]
  },
  {
   "cell_type": "code",
   "execution_count": 5,
   "metadata": {},
   "outputs": [],
   "source": [
    "# sess = tf.Session(config=config)\n",
    "sess = tf.Session()\n",
    "tf.global_variables_initializer().run(session=sess)"
   ]
  },
  {
   "cell_type": "code",
   "execution_count": 6,
   "metadata": {},
   "outputs": [],
   "source": [
    "batch_size = 256\n",
    "nd_steps = 10\n",
    "ng_steps = 10"
   ]
  },
  {
   "cell_type": "code",
   "execution_count": 7,
   "metadata": {},
   "outputs": [],
   "source": [
    "x_plot = sample_data(n=batch_size)"
   ]
  },
  {
   "cell_type": "code",
   "execution_count": 8,
   "metadata": {},
   "outputs": [
    {
     "data": {
      "text/plain": [
       "44"
      ]
     },
     "execution_count": 8,
     "metadata": {},
     "output_type": "execute_result"
    }
   ],
   "source": [
    "f = open('loss_logs.csv','w')\n",
    "f.write('Iteration,Discriminator Loss,Generator Loss\\n')"
   ]
  },
  {
   "cell_type": "code",
   "execution_count": 9,
   "metadata": {},
   "outputs": [
    {
     "name": "stdout",
     "output_type": "stream",
     "text": [
      "Iterations: 0\t Discriminator loss: 0.8785\t Generator loss: 0.6918 \n",
      "Iterations: 200\t Discriminator loss: 1.2279\t Generator loss: 0.4187 \n",
      "Iterations: 400\t Discriminator loss: 1.2044\t Generator loss: 0.5358 \n",
      "Iterations: 600\t Discriminator loss: 1.1592\t Generator loss: 0.3710 \n",
      "Iterations: 800\t Discriminator loss: 1.0999\t Generator loss: 0.3123 \n",
      "Iterations: 1000\t Discriminator loss: 1.0432\t Generator loss: 0.2338 \n",
      "Iterations: 1200\t Discriminator loss: 0.9898\t Generator loss: 0.2661 \n",
      "Iterations: 1400\t Discriminator loss: 1.1071\t Generator loss: 0.1852 \n",
      "Iterations: 1600\t Discriminator loss: 0.8000\t Generator loss: 0.2095 \n",
      "Iterations: 1800\t Discriminator loss: 0.9775\t Generator loss: 0.2245 \n",
      "Iterations: 2000\t Discriminator loss: 0.7400\t Generator loss: 0.2884 \n",
      "Iterations: 2200\t Discriminator loss: 1.0551\t Generator loss: 0.3244 \n",
      "Iterations: 2400\t Discriminator loss: 1.0606\t Generator loss: 0.2895 \n",
      "Iterations: 2600\t Discriminator loss: 0.9423\t Generator loss: 0.2865 \n",
      "Iterations: 2800\t Discriminator loss: 0.9474\t Generator loss: 0.3129 \n",
      "Iterations: 3000\t Discriminator loss: 1.1586\t Generator loss: 0.3440 \n",
      "Iterations: 3200\t Discriminator loss: 1.0459\t Generator loss: 0.3014 \n",
      "Iterations: 3400\t Discriminator loss: 0.8220\t Generator loss: 0.3000 \n",
      "Iterations: 3600\t Discriminator loss: 1.1391\t Generator loss: 0.2282 \n",
      "Iterations: 3800\t Discriminator loss: 1.2052\t Generator loss: 0.2616 \n",
      "Iterations: 4000\t Discriminator loss: 1.0734\t Generator loss: 0.3362 \n",
      "Iterations: 4200\t Discriminator loss: 0.9507\t Generator loss: 0.2076 \n",
      "Iterations: 4400\t Discriminator loss: 1.0865\t Generator loss: 0.3029 \n",
      "Iterations: 4600\t Discriminator loss: 0.9409\t Generator loss: 0.3107 \n",
      "Iterations: 4800\t Discriminator loss: 1.0773\t Generator loss: 0.3028 \n",
      "Iterations: 5000\t Discriminator loss: 1.0615\t Generator loss: 0.2713 \n",
      "Iterations: 5200\t Discriminator loss: 1.0918\t Generator loss: 0.2413 \n",
      "Iterations: 5400\t Discriminator loss: 0.8327\t Generator loss: 0.2608 \n",
      "Iterations: 5600\t Discriminator loss: 1.1343\t Generator loss: 0.3030 \n",
      "Iterations: 5800\t Discriminator loss: 1.0279\t Generator loss: 0.1959 \n",
      "Iterations: 6000\t Discriminator loss: 0.9493\t Generator loss: 0.3615 \n",
      "Iterations: 6200\t Discriminator loss: 1.0607\t Generator loss: 0.3629 \n",
      "Iterations: 6400\t Discriminator loss: 1.1497\t Generator loss: 0.5519 \n",
      "Iterations: 6600\t Discriminator loss: 0.9475\t Generator loss: 0.5775 \n",
      "Iterations: 6800\t Discriminator loss: 1.1310\t Generator loss: 0.2763 \n",
      "Iterations: 7000\t Discriminator loss: 1.2579\t Generator loss: 0.2335 \n",
      "Iterations: 7200\t Discriminator loss: 1.0899\t Generator loss: 0.2283 \n",
      "Iterations: 7400\t Discriminator loss: 1.0127\t Generator loss: 0.1858 \n",
      "Iterations: 7600\t Discriminator loss: 1.2571\t Generator loss: 0.3073 \n",
      "Iterations: 7800\t Discriminator loss: 0.7206\t Generator loss: 0.1843 \n",
      "Iterations: 8000\t Discriminator loss: 1.0864\t Generator loss: 0.2830 \n",
      "Iterations: 8200\t Discriminator loss: 1.0893\t Generator loss: 0.4910 \n",
      "Iterations: 8400\t Discriminator loss: 0.9881\t Generator loss: 0.3009 \n",
      "Iterations: 8600\t Discriminator loss: 0.8809\t Generator loss: 0.1937 \n",
      "Iterations: 8800\t Discriminator loss: 0.9868\t Generator loss: 0.2142 \n",
      "Iterations: 9000\t Discriminator loss: 0.9791\t Generator loss: 0.3611 \n",
      "Iterations: 9200\t Discriminator loss: 0.9156\t Generator loss: 0.2599 \n",
      "Iterations: 9400\t Discriminator loss: 1.3395\t Generator loss: 0.4922 \n",
      "Iterations: 9600\t Discriminator loss: 1.0594\t Generator loss: 0.2739 \n",
      "Iterations: 9800\t Discriminator loss: 1.1043\t Generator loss: 0.4181 \n",
      "Iterations: 10000\t Discriminator loss: 0.9140\t Generator loss: 0.1520 \n",
      "Iterations: 10200\t Discriminator loss: 1.0747\t Generator loss: 0.2522 \n",
      "Iterations: 10400\t Discriminator loss: 0.8810\t Generator loss: 0.2535 \n",
      "Iterations: 10600\t Discriminator loss: 0.9141\t Generator loss: 0.3494 \n",
      "Iterations: 10800\t Discriminator loss: 0.8387\t Generator loss: 0.2540 \n",
      "Iterations: 11000\t Discriminator loss: 0.9996\t Generator loss: 0.4189 \n",
      "Iterations: 11200\t Discriminator loss: 1.1407\t Generator loss: 0.5050 \n",
      "Iterations: 11400\t Discriminator loss: 1.1509\t Generator loss: 0.2295 \n",
      "Iterations: 11600\t Discriminator loss: 1.0498\t Generator loss: 0.4836 \n",
      "Iterations: 11800\t Discriminator loss: 1.0244\t Generator loss: 0.2593 \n",
      "Iterations: 12000\t Discriminator loss: 1.1725\t Generator loss: 0.2767 \n",
      "Iterations: 12200\t Discriminator loss: 1.1488\t Generator loss: 0.4700 \n",
      "Iterations: 12400\t Discriminator loss: 1.0833\t Generator loss: 0.3515 \n",
      "Iterations: 12600\t Discriminator loss: 1.0508\t Generator loss: 0.4184 \n",
      "Iterations: 12800\t Discriminator loss: 1.1536\t Generator loss: 0.8838 \n",
      "Iterations: 13000\t Discriminator loss: 1.2445\t Generator loss: 0.4203 \n",
      "Iterations: 13200\t Discriminator loss: 1.1026\t Generator loss: 0.3828 \n",
      "Iterations: 13400\t Discriminator loss: 1.3475\t Generator loss: 0.5953 \n",
      "Iterations: 13600\t Discriminator loss: 1.1174\t Generator loss: 0.3412 \n",
      "Iterations: 13800\t Discriminator loss: 1.2177\t Generator loss: 0.3482 \n",
      "Iterations: 14000\t Discriminator loss: 0.9090\t Generator loss: 0.4195 \n",
      "Iterations: 14200\t Discriminator loss: 1.0659\t Generator loss: 0.4995 \n",
      "Iterations: 14400\t Discriminator loss: 0.9222\t Generator loss: 0.4129 \n",
      "Iterations: 14600\t Discriminator loss: 1.1254\t Generator loss: 0.2537 \n",
      "Iterations: 14800\t Discriminator loss: 1.0986\t Generator loss: 0.3922 \n",
      "Iterations: 15000\t Discriminator loss: 1.1751\t Generator loss: 0.3350 \n",
      "Iterations: 15200\t Discriminator loss: 1.1223\t Generator loss: 0.2514 \n",
      "Iterations: 15400\t Discriminator loss: 0.8342\t Generator loss: 0.3151 \n",
      "Iterations: 15600\t Discriminator loss: 1.2602\t Generator loss: 0.4081 \n",
      "Iterations: 15800\t Discriminator loss: 1.1980\t Generator loss: 0.2346 \n",
      "Iterations: 16000\t Discriminator loss: 0.9161\t Generator loss: 0.3629 \n",
      "Iterations: 16200\t Discriminator loss: 1.0540\t Generator loss: 0.6066 \n",
      "Iterations: 16400\t Discriminator loss: 0.9820\t Generator loss: 0.3644 \n",
      "Iterations: 16600\t Discriminator loss: 1.0999\t Generator loss: 0.4094 \n",
      "Iterations: 16800\t Discriminator loss: 0.9738\t Generator loss: 0.4716 \n",
      "Iterations: 17000\t Discriminator loss: 1.3371\t Generator loss: 0.3555 \n",
      "Iterations: 17200\t Discriminator loss: 0.9928\t Generator loss: 0.3402 \n",
      "Iterations: 17400\t Discriminator loss: 0.9688\t Generator loss: 0.4977 \n",
      "Iterations: 17600\t Discriminator loss: 0.9765\t Generator loss: 0.2397 \n",
      "Iterations: 17800\t Discriminator loss: 0.9625\t Generator loss: 0.5807 \n",
      "Iterations: 18000\t Discriminator loss: 0.8812\t Generator loss: 0.7713 \n",
      "Iterations: 18200\t Discriminator loss: 1.2519\t Generator loss: 0.4936 \n",
      "Iterations: 18400\t Discriminator loss: 1.0916\t Generator loss: 0.3275 \n",
      "Iterations: 18600\t Discriminator loss: 0.7084\t Generator loss: 0.3462 \n",
      "Iterations: 18800\t Discriminator loss: 0.8861\t Generator loss: 0.2575 \n",
      "Iterations: 19000\t Discriminator loss: 0.8935\t Generator loss: 0.2942 \n",
      "Iterations: 19200\t Discriminator loss: 0.9991\t Generator loss: 0.3052 \n",
      "Iterations: 19400\t Discriminator loss: 1.3476\t Generator loss: 0.2726 \n",
      "Iterations: 19600\t Discriminator loss: 0.7767\t Generator loss: 0.2489 \n",
      "Iterations: 19800\t Discriminator loss: 0.9235\t Generator loss: 0.3198 \n",
      "Iterations: 20000\t Discriminator loss: 0.8693\t Generator loss: 0.4047 \n"
     ]
    },
    {
     "name": "stderr",
     "output_type": "stream",
     "text": [
      "/home/martin/.local/lib/python3.6/site-packages/matplotlib/pyplot.py:528: RuntimeWarning: More than 20 figures have been opened. Figures created through the pyplot interface (`matplotlib.pyplot.figure`) are retained until explicitly closed and may consume too much memory. (To control this warning, see the rcParam `figure.max_open_warning`).\n",
      "  max_open_warning, RuntimeWarning)\n"
     ]
    },
    {
     "name": "stdout",
     "output_type": "stream",
     "text": [
      "Iterations: 20200\t Discriminator loss: 1.1912\t Generator loss: 0.3530 \n",
      "Iterations: 20400\t Discriminator loss: 1.1803\t Generator loss: 0.4094 \n",
      "Iterations: 20600\t Discriminator loss: 0.9357\t Generator loss: 0.3319 \n",
      "Iterations: 20800\t Discriminator loss: 1.0165\t Generator loss: 0.2240 \n",
      "Iterations: 21000\t Discriminator loss: 1.0040\t Generator loss: 0.3204 \n",
      "Iterations: 21200\t Discriminator loss: 0.8166\t Generator loss: 0.3443 \n",
      "Iterations: 21400\t Discriminator loss: 0.7333\t Generator loss: 0.2385 \n",
      "Iterations: 21600\t Discriminator loss: 1.0687\t Generator loss: 0.4492 \n",
      "Iterations: 21800\t Discriminator loss: 0.5302\t Generator loss: 0.1552 \n",
      "Iterations: 22000\t Discriminator loss: 0.8801\t Generator loss: 0.2708 \n",
      "Iterations: 22200\t Discriminator loss: 1.3397\t Generator loss: 0.4612 \n",
      "Iterations: 22400\t Discriminator loss: 0.9379\t Generator loss: 0.2511 \n",
      "Iterations: 22600\t Discriminator loss: 0.9358\t Generator loss: 0.9745 \n",
      "Iterations: 22800\t Discriminator loss: 0.7984\t Generator loss: 0.2496 \n",
      "Iterations: 23000\t Discriminator loss: 0.7803\t Generator loss: 0.7293 \n",
      "Iterations: 23200\t Discriminator loss: 0.8249\t Generator loss: 0.3293 \n",
      "Iterations: 23400\t Discriminator loss: 1.1396\t Generator loss: 1.1234 \n",
      "Iterations: 23600\t Discriminator loss: 1.2285\t Generator loss: 0.5332 \n",
      "Iterations: 23800\t Discriminator loss: 1.4443\t Generator loss: 0.7301 \n",
      "Iterations: 24000\t Discriminator loss: 0.9483\t Generator loss: 0.2593 \n",
      "Iterations: 24200\t Discriminator loss: 1.0273\t Generator loss: 0.3037 \n",
      "Iterations: 24400\t Discriminator loss: 1.1210\t Generator loss: 0.1773 \n",
      "Iterations: 24600\t Discriminator loss: 1.3153\t Generator loss: 0.2361 \n",
      "Iterations: 24800\t Discriminator loss: 0.8296\t Generator loss: 0.2025 \n",
      "Iterations: 25000\t Discriminator loss: 0.7119\t Generator loss: 0.3062 \n",
      "Iterations: 25200\t Discriminator loss: 0.9213\t Generator loss: 0.5525 \n",
      "Iterations: 25400\t Discriminator loss: 0.8546\t Generator loss: 0.4116 \n",
      "Iterations: 25600\t Discriminator loss: 0.8072\t Generator loss: 0.5434 \n",
      "Iterations: 25800\t Discriminator loss: 0.9084\t Generator loss: 0.7053 \n",
      "Iterations: 26000\t Discriminator loss: 0.8281\t Generator loss: 0.4540 \n",
      "Iterations: 26200\t Discriminator loss: 0.9540\t Generator loss: 0.5552 \n",
      "Iterations: 26400\t Discriminator loss: 0.8962\t Generator loss: 0.4539 \n",
      "Iterations: 26600\t Discriminator loss: 0.8794\t Generator loss: 0.4323 \n",
      "Iterations: 26800\t Discriminator loss: 0.8711\t Generator loss: 0.4494 \n",
      "Iterations: 27000\t Discriminator loss: 0.8941\t Generator loss: 0.4077 \n",
      "Iterations: 27200\t Discriminator loss: 0.7952\t Generator loss: 0.2999 \n",
      "Iterations: 27400\t Discriminator loss: 1.0529\t Generator loss: 0.5634 \n",
      "Iterations: 27600\t Discriminator loss: 0.9616\t Generator loss: 0.5267 \n",
      "Iterations: 27800\t Discriminator loss: 0.8609\t Generator loss: 0.3474 \n",
      "Iterations: 28000\t Discriminator loss: 0.7292\t Generator loss: 0.1991 \n",
      "Iterations: 28200\t Discriminator loss: 0.9258\t Generator loss: 0.3205 \n",
      "Iterations: 28400\t Discriminator loss: 0.8020\t Generator loss: 0.2254 \n",
      "Iterations: 28600\t Discriminator loss: 0.7352\t Generator loss: 0.2245 \n",
      "Iterations: 28800\t Discriminator loss: 0.9124\t Generator loss: 0.3859 \n",
      "Iterations: 29000\t Discriminator loss: 0.9227\t Generator loss: 0.3462 \n",
      "Iterations: 29200\t Discriminator loss: 0.8877\t Generator loss: 0.2383 \n",
      "Iterations: 29400\t Discriminator loss: 0.8472\t Generator loss: 0.3617 \n",
      "Iterations: 29600\t Discriminator loss: 0.9191\t Generator loss: 0.4128 \n",
      "Iterations: 29800\t Discriminator loss: 0.8838\t Generator loss: 0.3561 \n",
      "Iterations: 30000\t Discriminator loss: 0.8629\t Generator loss: 0.4667 \n",
      "Iterations: 30200\t Discriminator loss: 0.7863\t Generator loss: 0.3445 \n",
      "Iterations: 30400\t Discriminator loss: 0.9679\t Generator loss: 0.3650 \n",
      "Iterations: 30600\t Discriminator loss: 0.8731\t Generator loss: 0.1226 \n",
      "Iterations: 30800\t Discriminator loss: 0.5944\t Generator loss: 0.0840 \n",
      "Iterations: 31000\t Discriminator loss: 0.8657\t Generator loss: 0.1357 \n",
      "Iterations: 31200\t Discriminator loss: 0.6258\t Generator loss: 0.0714 \n",
      "Iterations: 31400\t Discriminator loss: 0.8490\t Generator loss: 0.0847 \n",
      "Iterations: 31600\t Discriminator loss: 0.1915\t Generator loss: 0.0591 \n",
      "Iterations: 31800\t Discriminator loss: 0.9745\t Generator loss: 0.2013 \n",
      "Iterations: 32000\t Discriminator loss: 0.6861\t Generator loss: 0.0494 \n",
      "Iterations: 32200\t Discriminator loss: 0.6242\t Generator loss: 0.0550 \n",
      "Iterations: 32400\t Discriminator loss: 0.3747\t Generator loss: 0.1749 \n",
      "Iterations: 32600\t Discriminator loss: 0.6200\t Generator loss: 0.0870 \n",
      "Iterations: 32800\t Discriminator loss: 0.6589\t Generator loss: 0.0982 \n",
      "Iterations: 33000\t Discriminator loss: 0.8588\t Generator loss: 0.1435 \n",
      "Iterations: 33200\t Discriminator loss: 0.8900\t Generator loss: 0.0565 \n",
      "Iterations: 33400\t Discriminator loss: 0.6259\t Generator loss: 0.0483 \n",
      "Iterations: 33600\t Discriminator loss: 0.5220\t Generator loss: 0.0387 \n",
      "Iterations: 33800\t Discriminator loss: 0.9189\t Generator loss: 0.0755 \n",
      "Iterations: 34000\t Discriminator loss: 0.8136\t Generator loss: 0.0899 \n",
      "Iterations: 34200\t Discriminator loss: 0.9868\t Generator loss: 0.0816 \n",
      "Iterations: 34400\t Discriminator loss: 0.6949\t Generator loss: 0.0391 \n",
      "Iterations: 34600\t Discriminator loss: 0.2770\t Generator loss: 0.0483 \n",
      "Iterations: 34800\t Discriminator loss: 0.9595\t Generator loss: 0.1049 \n",
      "Iterations: 35000\t Discriminator loss: 0.6877\t Generator loss: 0.0537 \n",
      "Iterations: 35200\t Discriminator loss: 0.6653\t Generator loss: 0.0597 \n",
      "Iterations: 35400\t Discriminator loss: 0.3848\t Generator loss: 0.1411 \n",
      "Iterations: 35600\t Discriminator loss: 1.1602\t Generator loss: 0.2386 \n",
      "Iterations: 35800\t Discriminator loss: 0.7579\t Generator loss: 0.0728 \n",
      "Iterations: 36000\t Discriminator loss: 0.6705\t Generator loss: 0.0642 \n",
      "Iterations: 36200\t Discriminator loss: 0.9843\t Generator loss: 0.1208 \n",
      "Iterations: 36400\t Discriminator loss: 0.8583\t Generator loss: 0.1911 \n",
      "Iterations: 36600\t Discriminator loss: 0.3076\t Generator loss: 0.0944 \n",
      "Iterations: 36800\t Discriminator loss: 0.7144\t Generator loss: 0.0676 \n",
      "Iterations: 37000\t Discriminator loss: 0.8767\t Generator loss: 0.1212 \n",
      "Iterations: 37200\t Discriminator loss: 0.8001\t Generator loss: 0.1282 \n",
      "Iterations: 37400\t Discriminator loss: 0.7293\t Generator loss: 0.1142 \n",
      "Iterations: 37600\t Discriminator loss: 0.9896\t Generator loss: 0.1683 \n",
      "Iterations: 37800\t Discriminator loss: 0.8359\t Generator loss: 0.1504 \n",
      "Iterations: 38000\t Discriminator loss: 1.0588\t Generator loss: 0.5383 \n",
      "Iterations: 38200\t Discriminator loss: 0.2977\t Generator loss: 0.0516 \n",
      "Iterations: 38400\t Discriminator loss: 0.8976\t Generator loss: 0.2257 \n",
      "Iterations: 38600\t Discriminator loss: 0.7175\t Generator loss: 0.1318 \n",
      "Iterations: 38800\t Discriminator loss: 0.8569\t Generator loss: 0.1290 \n",
      "Iterations: 39000\t Discriminator loss: 0.7815\t Generator loss: 0.1190 \n",
      "Iterations: 39200\t Discriminator loss: 0.6733\t Generator loss: 0.0874 \n",
      "Iterations: 39400\t Discriminator loss: 0.7529\t Generator loss: 0.0896 \n",
      "Iterations: 39600\t Discriminator loss: 0.8784\t Generator loss: 0.1332 \n",
      "Iterations: 39800\t Discriminator loss: 0.7062\t Generator loss: 0.0675 \n",
      "Iterations: 40000\t Discriminator loss: 1.0067\t Generator loss: 0.1948 \n",
      "Iterations: 40200\t Discriminator loss: 0.9479\t Generator loss: 0.1873 \n",
      "Iterations: 40400\t Discriminator loss: 0.8614\t Generator loss: 0.0685 \n",
      "Iterations: 40600\t Discriminator loss: 0.9413\t Generator loss: 0.0692 \n",
      "Iterations: 40800\t Discriminator loss: 0.8031\t Generator loss: 0.1101 \n",
      "Iterations: 41000\t Discriminator loss: 0.8463\t Generator loss: 0.0864 \n",
      "Iterations: 41200\t Discriminator loss: 0.8810\t Generator loss: 0.0981 \n",
      "Iterations: 41400\t Discriminator loss: 0.9681\t Generator loss: 0.0902 \n",
      "Iterations: 41600\t Discriminator loss: 0.4518\t Generator loss: 0.1319 \n",
      "Iterations: 41800\t Discriminator loss: 0.4789\t Generator loss: 0.0711 \n",
      "Iterations: 42000\t Discriminator loss: 1.0630\t Generator loss: 1.7199 \n",
      "Iterations: 42200\t Discriminator loss: 1.0935\t Generator loss: 0.3407 \n",
      "Iterations: 42400\t Discriminator loss: 0.6590\t Generator loss: 0.0493 \n",
      "Iterations: 42600\t Discriminator loss: 0.8451\t Generator loss: 0.4537 \n",
      "Iterations: 42800\t Discriminator loss: 0.6947\t Generator loss: 0.1464 \n",
      "Iterations: 43000\t Discriminator loss: 0.9846\t Generator loss: 0.3219 \n",
      "Iterations: 43200\t Discriminator loss: 0.4205\t Generator loss: 0.0927 \n",
      "Iterations: 43400\t Discriminator loss: 0.6043\t Generator loss: 0.0763 \n",
      "Iterations: 43600\t Discriminator loss: 1.0084\t Generator loss: 0.1637 \n",
      "Iterations: 43800\t Discriminator loss: 0.4567\t Generator loss: 0.0304 \n",
      "Iterations: 44000\t Discriminator loss: 0.9008\t Generator loss: 0.4165 \n",
      "Iterations: 44200\t Discriminator loss: 1.0611\t Generator loss: 0.1573 \n",
      "Iterations: 44400\t Discriminator loss: 0.5990\t Generator loss: 0.1529 \n",
      "Iterations: 44600\t Discriminator loss: 0.5820\t Generator loss: 0.1402 \n",
      "Iterations: 44800\t Discriminator loss: 0.6356\t Generator loss: 0.6905 \n",
      "Iterations: 45000\t Discriminator loss: 0.6614\t Generator loss: 0.4670 \n",
      "Iterations: 45200\t Discriminator loss: 0.3060\t Generator loss: 0.0606 \n",
      "Iterations: 45400\t Discriminator loss: 0.6942\t Generator loss: 0.1036 \n",
      "Iterations: 45600\t Discriminator loss: 0.8548\t Generator loss: 0.0719 \n",
      "Iterations: 45800\t Discriminator loss: 0.8818\t Generator loss: 0.4809 \n",
      "Iterations: 46000\t Discriminator loss: 0.9727\t Generator loss: 0.4283 \n",
      "Iterations: 46200\t Discriminator loss: 0.9889\t Generator loss: 0.6983 \n",
      "Iterations: 46400\t Discriminator loss: 0.8279\t Generator loss: 0.3995 \n",
      "Iterations: 46600\t Discriminator loss: 0.9749\t Generator loss: 0.1441 \n",
      "Iterations: 46800\t Discriminator loss: 1.1964\t Generator loss: 0.5323 \n",
      "Iterations: 47000\t Discriminator loss: 0.8819\t Generator loss: 0.1074 \n",
      "Iterations: 47200\t Discriminator loss: 0.9560\t Generator loss: 0.1185 \n",
      "Iterations: 47400\t Discriminator loss: 0.7672\t Generator loss: 0.0879 \n",
      "Iterations: 47600\t Discriminator loss: 1.0713\t Generator loss: 0.3697 \n",
      "Iterations: 47800\t Discriminator loss: 0.7745\t Generator loss: 0.0731 \n",
      "Iterations: 48000\t Discriminator loss: 0.8581\t Generator loss: 0.0423 \n",
      "Iterations: 48200\t Discriminator loss: 0.7147\t Generator loss: 0.2138 \n",
      "Iterations: 48400\t Discriminator loss: 1.2851\t Generator loss: 0.1280 \n",
      "Iterations: 48600\t Discriminator loss: 1.1798\t Generator loss: 0.3480 \n",
      "Iterations: 48800\t Discriminator loss: 1.1088\t Generator loss: 0.2002 \n",
      "Iterations: 49000\t Discriminator loss: 1.0241\t Generator loss: 0.1614 \n",
      "Iterations: 49200\t Discriminator loss: 0.9560\t Generator loss: 0.9544 \n",
      "Iterations: 49400\t Discriminator loss: 1.0235\t Generator loss: 0.5139 \n",
      "Iterations: 49600\t Discriminator loss: 0.8237\t Generator loss: 0.0857 \n",
      "Iterations: 49800\t Discriminator loss: 0.7696\t Generator loss: 0.0591 \n",
      "Iterations: 50000\t Discriminator loss: 0.8326\t Generator loss: 0.2873 \n",
      "Iterations: 50200\t Discriminator loss: 0.6735\t Generator loss: 0.3074 \n",
      "Iterations: 50400\t Discriminator loss: 0.8682\t Generator loss: 0.1071 \n",
      "Iterations: 50600\t Discriminator loss: 1.0421\t Generator loss: 0.2039 \n",
      "Iterations: 50800\t Discriminator loss: 0.8741\t Generator loss: 0.3823 \n",
      "Iterations: 51000\t Discriminator loss: 0.7890\t Generator loss: 0.1508 \n",
      "Iterations: 51200\t Discriminator loss: 1.0606\t Generator loss: 1.6109 \n",
      "Iterations: 51400\t Discriminator loss: 0.8180\t Generator loss: 0.2729 \n",
      "Iterations: 51600\t Discriminator loss: 0.6653\t Generator loss: 0.1543 \n",
      "Iterations: 51800\t Discriminator loss: 0.6483\t Generator loss: 0.1767 \n",
      "Iterations: 52000\t Discriminator loss: 0.9652\t Generator loss: 0.1795 \n",
      "Iterations: 52200\t Discriminator loss: 0.3701\t Generator loss: 0.0928 \n",
      "Iterations: 52400\t Discriminator loss: 0.7870\t Generator loss: 0.0949 \n",
      "Iterations: 52600\t Discriminator loss: 1.3942\t Generator loss: 0.1857 \n",
      "Iterations: 52800\t Discriminator loss: 0.6387\t Generator loss: 0.2661 \n",
      "Iterations: 53000\t Discriminator loss: 0.6344\t Generator loss: 0.1467 \n",
      "Iterations: 53200\t Discriminator loss: 0.8395\t Generator loss: 0.2366 \n",
      "Iterations: 53400\t Discriminator loss: 0.6955\t Generator loss: 0.1189 \n",
      "Iterations: 53600\t Discriminator loss: 1.2365\t Generator loss: 0.4208 \n",
      "Iterations: 53800\t Discriminator loss: 1.4131\t Generator loss: 0.2859 \n",
      "Iterations: 54000\t Discriminator loss: 1.0531\t Generator loss: 1.0266 \n",
      "Iterations: 54200\t Discriminator loss: 0.5365\t Generator loss: 0.0982 \n",
      "Iterations: 54400\t Discriminator loss: 0.8588\t Generator loss: 0.3999 \n",
      "Iterations: 54600\t Discriminator loss: 0.6947\t Generator loss: 0.0995 \n",
      "Iterations: 54800\t Discriminator loss: 0.9699\t Generator loss: 0.3259 \n",
      "Iterations: 55000\t Discriminator loss: 0.7132\t Generator loss: 0.1026 \n",
      "Iterations: 55200\t Discriminator loss: 0.8984\t Generator loss: 0.3448 \n",
      "Iterations: 55400\t Discriminator loss: 0.8105\t Generator loss: 0.0666 \n",
      "Iterations: 55600\t Discriminator loss: 0.8901\t Generator loss: 0.2304 \n",
      "Iterations: 55800\t Discriminator loss: 1.0951\t Generator loss: 0.2688 \n",
      "Iterations: 56000\t Discriminator loss: 1.1690\t Generator loss: 0.0750 \n",
      "Iterations: 56200\t Discriminator loss: 0.6537\t Generator loss: 0.0568 \n",
      "Iterations: 56400\t Discriminator loss: 0.7096\t Generator loss: 0.1423 \n",
      "Iterations: 56600\t Discriminator loss: 0.8394\t Generator loss: 0.2829 \n",
      "Iterations: 56800\t Discriminator loss: 0.9246\t Generator loss: 0.0561 \n",
      "Iterations: 57000\t Discriminator loss: 0.5518\t Generator loss: 0.0451 \n",
      "Iterations: 57200\t Discriminator loss: 0.8224\t Generator loss: 0.1231 \n",
      "Iterations: 57400\t Discriminator loss: 1.2375\t Generator loss: 0.2240 \n",
      "Iterations: 57600\t Discriminator loss: 1.2257\t Generator loss: 0.4204 \n",
      "Iterations: 57800\t Discriminator loss: 0.5340\t Generator loss: 0.0963 \n",
      "Iterations: 58000\t Discriminator loss: 1.1110\t Generator loss: 0.0510 \n",
      "Iterations: 58200\t Discriminator loss: 0.8235\t Generator loss: 0.0680 \n",
      "Iterations: 58400\t Discriminator loss: 0.5719\t Generator loss: 0.0300 \n",
      "Iterations: 58600\t Discriminator loss: 0.8286\t Generator loss: 0.2765 \n",
      "Iterations: 58800\t Discriminator loss: 0.9459\t Generator loss: 0.2402 \n",
      "Iterations: 59000\t Discriminator loss: 0.6118\t Generator loss: 0.0376 \n",
      "Iterations: 59200\t Discriminator loss: 1.3370\t Generator loss: 0.4748 \n",
      "Iterations: 59400\t Discriminator loss: 1.0831\t Generator loss: 0.0642 \n",
      "Iterations: 59600\t Discriminator loss: 0.7647\t Generator loss: 0.0702 \n",
      "Iterations: 59800\t Discriminator loss: 0.7649\t Generator loss: 0.0956 \n",
      "Iterations: 60000\t Discriminator loss: 0.8111\t Generator loss: 0.1201 \n",
      "Iterations: 60200\t Discriminator loss: 0.7765\t Generator loss: 0.1828 \n",
      "Iterations: 60400\t Discriminator loss: 0.9225\t Generator loss: 0.3526 \n",
      "Iterations: 60600\t Discriminator loss: 0.9476\t Generator loss: 0.2317 \n",
      "Iterations: 60800\t Discriminator loss: 1.3888\t Generator loss: 0.6416 \n",
      "Iterations: 61000\t Discriminator loss: 0.8469\t Generator loss: 0.3679 \n",
      "Iterations: 61200\t Discriminator loss: 0.8068\t Generator loss: 0.1459 \n",
      "Iterations: 61400\t Discriminator loss: 0.8474\t Generator loss: 0.1202 \n",
      "Iterations: 61600\t Discriminator loss: 0.6592\t Generator loss: 0.0815 \n",
      "Iterations: 61800\t Discriminator loss: 0.8758\t Generator loss: 0.8693 \n",
      "Iterations: 62000\t Discriminator loss: 1.3177\t Generator loss: 0.4807 \n",
      "Iterations: 62200\t Discriminator loss: 0.8637\t Generator loss: 0.5960 \n",
      "Iterations: 62400\t Discriminator loss: 0.8063\t Generator loss: 0.0423 \n",
      "Iterations: 62600\t Discriminator loss: 0.7439\t Generator loss: 0.3446 \n",
      "Iterations: 62800\t Discriminator loss: 0.3277\t Generator loss: 0.0715 \n",
      "Iterations: 63000\t Discriminator loss: 0.8469\t Generator loss: 0.1726 \n",
      "Iterations: 63200\t Discriminator loss: 0.8089\t Generator loss: 0.1442 \n",
      "Iterations: 63400\t Discriminator loss: 0.7939\t Generator loss: 0.1580 \n",
      "Iterations: 63600\t Discriminator loss: 0.7279\t Generator loss: 0.0555 \n",
      "Iterations: 63800\t Discriminator loss: 0.7525\t Generator loss: 0.0782 \n",
      "Iterations: 64000\t Discriminator loss: 0.7957\t Generator loss: 0.0879 \n",
      "Iterations: 64200\t Discriminator loss: 0.9102\t Generator loss: 0.2992 \n",
      "Iterations: 64400\t Discriminator loss: 0.8308\t Generator loss: 0.3572 \n",
      "Iterations: 64600\t Discriminator loss: 1.1494\t Generator loss: 0.1855 \n",
      "Iterations: 64800\t Discriminator loss: 0.7391\t Generator loss: 0.1183 \n",
      "Iterations: 65000\t Discriminator loss: 0.8172\t Generator loss: 0.4023 \n",
      "Iterations: 65200\t Discriminator loss: 1.3363\t Generator loss: 0.5694 \n",
      "Iterations: 65400\t Discriminator loss: 0.8495\t Generator loss: 0.2004 \n",
      "Iterations: 65600\t Discriminator loss: 0.8945\t Generator loss: 0.3686 \n",
      "Iterations: 65800\t Discriminator loss: 0.5986\t Generator loss: 0.0845 \n",
      "Iterations: 66000\t Discriminator loss: 0.2761\t Generator loss: 0.1479 \n",
      "Iterations: 66200\t Discriminator loss: 0.9498\t Generator loss: 0.2311 \n",
      "Iterations: 66400\t Discriminator loss: 1.7082\t Generator loss: 0.2979 \n",
      "Iterations: 66600\t Discriminator loss: 1.0689\t Generator loss: 0.3736 \n",
      "Iterations: 66800\t Discriminator loss: 0.8731\t Generator loss: 0.3233 \n",
      "Iterations: 67000\t Discriminator loss: 0.7228\t Generator loss: 0.1648 \n",
      "Iterations: 67200\t Discriminator loss: 0.3369\t Generator loss: 0.2968 \n",
      "Iterations: 67400\t Discriminator loss: 0.9003\t Generator loss: 0.4563 \n",
      "Iterations: 67600\t Discriminator loss: 0.2898\t Generator loss: 0.0670 \n",
      "Iterations: 67800\t Discriminator loss: 0.4962\t Generator loss: 0.0834 \n",
      "Iterations: 68000\t Discriminator loss: 0.9009\t Generator loss: 0.2393 \n",
      "Iterations: 68200\t Discriminator loss: 0.9538\t Generator loss: 0.1568 \n",
      "Iterations: 68400\t Discriminator loss: 0.8067\t Generator loss: 0.1798 \n",
      "Iterations: 68600\t Discriminator loss: 0.9505\t Generator loss: 0.1455 \n",
      "Iterations: 68800\t Discriminator loss: 1.2257\t Generator loss: 0.0982 \n",
      "Iterations: 69000\t Discriminator loss: 0.7943\t Generator loss: 0.0712 \n",
      "Iterations: 69200\t Discriminator loss: 0.9247\t Generator loss: 0.1441 \n",
      "Iterations: 69400\t Discriminator loss: 0.6354\t Generator loss: 0.0621 \n",
      "Iterations: 69600\t Discriminator loss: 0.7273\t Generator loss: 0.2150 \n",
      "Iterations: 69800\t Discriminator loss: 0.8859\t Generator loss: 0.6417 \n",
      "Iterations: 70000\t Discriminator loss: 1.1397\t Generator loss: 0.4449 \n",
      "Iterations: 70200\t Discriminator loss: 0.8324\t Generator loss: 0.1618 \n",
      "Iterations: 70400\t Discriminator loss: 1.0312\t Generator loss: 0.3714 \n",
      "Iterations: 70600\t Discriminator loss: 0.9732\t Generator loss: 0.2512 \n",
      "Iterations: 70800\t Discriminator loss: 0.7672\t Generator loss: 0.0673 \n",
      "Iterations: 71000\t Discriminator loss: 0.6643\t Generator loss: 0.2532 \n",
      "Iterations: 71200\t Discriminator loss: 1.1149\t Generator loss: 0.2406 \n",
      "Iterations: 71400\t Discriminator loss: 0.6955\t Generator loss: 0.1331 \n",
      "Iterations: 71600\t Discriminator loss: 0.8224\t Generator loss: 0.1006 \n",
      "Iterations: 71800\t Discriminator loss: 0.8971\t Generator loss: 0.1538 \n",
      "Iterations: 72000\t Discriminator loss: 0.8460\t Generator loss: 0.2328 \n",
      "Iterations: 72200\t Discriminator loss: 1.0204\t Generator loss: 0.1973 \n",
      "Iterations: 72400\t Discriminator loss: 1.1317\t Generator loss: 0.2780 \n",
      "Iterations: 72600\t Discriminator loss: 0.8336\t Generator loss: 0.1690 \n",
      "Iterations: 72800\t Discriminator loss: 0.7252\t Generator loss: 0.1224 \n",
      "Iterations: 73000\t Discriminator loss: 0.8569\t Generator loss: 0.1579 \n",
      "Iterations: 73200\t Discriminator loss: 0.6952\t Generator loss: 0.1665 \n",
      "Iterations: 73400\t Discriminator loss: 1.1139\t Generator loss: 0.3508 \n",
      "Iterations: 73600\t Discriminator loss: 1.0012\t Generator loss: 1.2484 \n",
      "Iterations: 73800\t Discriminator loss: 0.8829\t Generator loss: 0.2130 \n",
      "Iterations: 74000\t Discriminator loss: 0.8145\t Generator loss: 0.2059 \n",
      "Iterations: 74200\t Discriminator loss: 0.9366\t Generator loss: 0.9603 \n",
      "Iterations: 74400\t Discriminator loss: 0.9050\t Generator loss: 0.2201 \n",
      "Iterations: 74600\t Discriminator loss: 0.9828\t Generator loss: 0.3688 \n",
      "Iterations: 74800\t Discriminator loss: 0.8152\t Generator loss: 0.0661 \n",
      "Iterations: 75000\t Discriminator loss: 0.8109\t Generator loss: 0.3568 \n",
      "Iterations: 75200\t Discriminator loss: 0.7914\t Generator loss: 0.2764 \n",
      "Iterations: 75400\t Discriminator loss: 0.8863\t Generator loss: 0.3215 \n",
      "Iterations: 75600\t Discriminator loss: 0.4063\t Generator loss: 0.1012 \n",
      "Iterations: 75800\t Discriminator loss: 1.0060\t Generator loss: 1.0997 \n",
      "Iterations: 76000\t Discriminator loss: 0.6409\t Generator loss: 0.1173 \n",
      "Iterations: 76200\t Discriminator loss: 1.3503\t Generator loss: 0.9829 \n",
      "Iterations: 76400\t Discriminator loss: 0.9102\t Generator loss: 0.3596 \n",
      "Iterations: 76600\t Discriminator loss: 0.7285\t Generator loss: 0.1725 \n",
      "Iterations: 76800\t Discriminator loss: 0.8099\t Generator loss: 0.1210 \n",
      "Iterations: 77000\t Discriminator loss: 1.2432\t Generator loss: 0.3880 \n",
      "Iterations: 77200\t Discriminator loss: 1.1971\t Generator loss: 0.6207 \n",
      "Iterations: 77400\t Discriminator loss: 0.8971\t Generator loss: 0.1875 \n",
      "Iterations: 77600\t Discriminator loss: 0.6619\t Generator loss: 0.0945 \n",
      "Iterations: 77800\t Discriminator loss: 1.1306\t Generator loss: 0.4879 \n",
      "Iterations: 78000\t Discriminator loss: 1.0268\t Generator loss: 1.6296 \n",
      "Iterations: 78200\t Discriminator loss: 0.8301\t Generator loss: 0.2551 \n",
      "Iterations: 78400\t Discriminator loss: 1.2450\t Generator loss: 0.8518 \n",
      "Iterations: 78600\t Discriminator loss: 0.9846\t Generator loss: 0.6859 \n",
      "Iterations: 78800\t Discriminator loss: 1.3010\t Generator loss: 0.3164 \n",
      "Iterations: 79000\t Discriminator loss: 0.5173\t Generator loss: 0.0552 \n",
      "Iterations: 79200\t Discriminator loss: 0.8527\t Generator loss: 0.1941 \n",
      "Iterations: 79400\t Discriminator loss: 1.0518\t Generator loss: 0.3843 \n",
      "Iterations: 79600\t Discriminator loss: 0.7630\t Generator loss: 0.1241 \n",
      "Iterations: 79800\t Discriminator loss: 0.7150\t Generator loss: 0.4338 \n",
      "Iterations: 80000\t Discriminator loss: 0.5080\t Generator loss: 0.2520 \n"
     ]
    },
    {
     "data": {
      "text/plain": [
       "<matplotlib.figure.Figure at 0x7f087c1acd30>"
      ]
     },
     "metadata": {},
     "output_type": "display_data"
    },
    {
     "data": {
      "text/plain": [
       "<matplotlib.figure.Figure at 0x7f087c113eb8>"
      ]
     },
     "metadata": {},
     "output_type": "display_data"
    },
    {
     "data": {
      "text/plain": [
       "<matplotlib.figure.Figure at 0x7f087c1684e0>"
      ]
     },
     "metadata": {},
     "output_type": "display_data"
    },
    {
     "data": {
      "text/plain": [
       "<matplotlib.figure.Figure at 0x7f087c06add8>"
      ]
     },
     "metadata": {},
     "output_type": "display_data"
    },
    {
     "data": {
      "text/plain": [
       "<matplotlib.figure.Figure at 0x7f0874f84940>"
      ]
     },
     "metadata": {},
     "output_type": "display_data"
    },
    {
     "data": {
      "text/plain": [
       "<matplotlib.figure.Figure at 0x7f0874d52e48>"
      ]
     },
     "metadata": {},
     "output_type": "display_data"
    },
    {
     "data": {
      "text/plain": [
       "<matplotlib.figure.Figure at 0x7f0874fa5e10>"
      ]
     },
     "metadata": {},
     "output_type": "display_data"
    },
    {
     "data": {
      "text/plain": [
       "<matplotlib.figure.Figure at 0x7f0874c957b8>"
      ]
     },
     "metadata": {},
     "output_type": "display_data"
    },
    {
     "data": {
      "text/plain": [
       "<matplotlib.figure.Figure at 0x7f0874bef668>"
      ]
     },
     "metadata": {},
     "output_type": "display_data"
    },
    {
     "data": {
      "text/plain": [
       "<matplotlib.figure.Figure at 0x7f0874a26e48>"
      ]
     },
     "metadata": {},
     "output_type": "display_data"
    },
    {
     "data": {
      "text/plain": [
       "<matplotlib.figure.Figure at 0x7f0874967978>"
      ]
     },
     "metadata": {},
     "output_type": "display_data"
    },
    {
     "data": {
      "text/plain": [
       "<matplotlib.figure.Figure at 0x7f08749ecac8>"
      ]
     },
     "metadata": {},
     "output_type": "display_data"
    },
    {
     "data": {
      "text/plain": [
       "<matplotlib.figure.Figure at 0x7f087488d3c8>"
      ]
     },
     "metadata": {},
     "output_type": "display_data"
    },
    {
     "data": {
      "text/plain": [
       "<matplotlib.figure.Figure at 0x7f08747db2b0>"
      ]
     },
     "metadata": {},
     "output_type": "display_data"
    },
    {
     "data": {
      "text/plain": [
       "<matplotlib.figure.Figure at 0x7f087459f518>"
      ]
     },
     "metadata": {},
     "output_type": "display_data"
    },
    {
     "data": {
      "text/plain": [
       "<matplotlib.figure.Figure at 0x7f087447fd68>"
      ]
     },
     "metadata": {},
     "output_type": "display_data"
    },
    {
     "data": {
      "text/plain": [
       "<matplotlib.figure.Figure at 0x7f087456de48>"
      ]
     },
     "metadata": {},
     "output_type": "display_data"
    },
    {
     "data": {
      "text/plain": [
       "<matplotlib.figure.Figure at 0x7f08743be9b0>"
      ]
     },
     "metadata": {},
     "output_type": "display_data"
    },
    {
     "data": {
      "text/plain": [
       "<matplotlib.figure.Figure at 0x7f0874320e80>"
      ]
     },
     "metadata": {},
     "output_type": "display_data"
    },
    {
     "data": {
      "text/plain": [
       "<matplotlib.figure.Figure at 0x7f08742aafd0>"
      ]
     },
     "metadata": {},
     "output_type": "display_data"
    },
    {
     "data": {
      "text/plain": [
       "<matplotlib.figure.Figure at 0x7f087418a6a0>"
      ]
     },
     "metadata": {},
     "output_type": "display_data"
    },
    {
     "data": {
      "text/plain": [
       "<matplotlib.figure.Figure at 0x7f08740de6a0>"
      ]
     },
     "metadata": {},
     "output_type": "display_data"
    },
    {
     "data": {
      "text/plain": [
       "<matplotlib.figure.Figure at 0x7f0841eab978>"
      ]
     },
     "metadata": {},
     "output_type": "display_data"
    },
    {
     "data": {
      "text/plain": [
       "<matplotlib.figure.Figure at 0x7f0841ed0048>"
      ]
     },
     "metadata": {},
     "output_type": "display_data"
    },
    {
     "data": {
      "text/plain": [
       "<matplotlib.figure.Figure at 0x7f0841ccbcf8>"
      ]
     },
     "metadata": {},
     "output_type": "display_data"
    },
    {
     "data": {
      "text/plain": [
       "<matplotlib.figure.Figure at 0x7f0841d02cf8>"
      ]
     },
     "metadata": {},
     "output_type": "display_data"
    },
    {
     "data": {
      "text/plain": [
       "<matplotlib.figure.Figure at 0x7f0841b2ffd0>"
      ]
     },
     "metadata": {},
     "output_type": "display_data"
    },
    {
     "data": {
      "text/plain": [
       "<matplotlib.figure.Figure at 0x7f0841b42748>"
      ]
     },
     "metadata": {},
     "output_type": "display_data"
    },
    {
     "data": {
      "text/plain": [
       "<matplotlib.figure.Figure at 0x7f0841967f98>"
      ]
     },
     "metadata": {},
     "output_type": "display_data"
    },
    {
     "data": {
      "text/plain": [
       "<matplotlib.figure.Figure at 0x7f08418b5518>"
      ]
     },
     "metadata": {},
     "output_type": "display_data"
    },
    {
     "data": {
      "text/plain": [
       "<matplotlib.figure.Figure at 0x7f084186df28>"
      ]
     },
     "metadata": {},
     "output_type": "display_data"
    },
    {
     "data": {
      "text/plain": [
       "<matplotlib.figure.Figure at 0x7f0841804dd8>"
      ]
     },
     "metadata": {},
     "output_type": "display_data"
    },
    {
     "data": {
      "text/plain": [
       "<matplotlib.figure.Figure at 0x7f0841763b70>"
      ]
     },
     "metadata": {},
     "output_type": "display_data"
    },
    {
     "data": {
      "text/plain": [
       "<matplotlib.figure.Figure at 0x7f084164d588>"
      ]
     },
     "metadata": {},
     "output_type": "display_data"
    },
    {
     "data": {
      "text/plain": [
       "<matplotlib.figure.Figure at 0x7f0841591748>"
      ]
     },
     "metadata": {},
     "output_type": "display_data"
    },
    {
     "data": {
      "text/plain": [
       "<matplotlib.figure.Figure at 0x7f0841395208>"
      ]
     },
     "metadata": {},
     "output_type": "display_data"
    },
    {
     "data": {
      "text/plain": [
       "<matplotlib.figure.Figure at 0x7f08412cfd30>"
      ]
     },
     "metadata": {},
     "output_type": "display_data"
    },
    {
     "data": {
      "text/plain": [
       "<matplotlib.figure.Figure at 0x7f084131a8d0>"
      ]
     },
     "metadata": {},
     "output_type": "display_data"
    },
    {
     "data": {
      "text/plain": [
       "<matplotlib.figure.Figure at 0x7f08413c63c8>"
      ]
     },
     "metadata": {},
     "output_type": "display_data"
    },
    {
     "data": {
      "text/plain": [
       "<matplotlib.figure.Figure at 0x7f0841010ac8>"
      ]
     },
     "metadata": {},
     "output_type": "display_data"
    },
    {
     "data": {
      "text/plain": [
       "<matplotlib.figure.Figure at 0x7f0840f67278>"
      ]
     },
     "metadata": {},
     "output_type": "display_data"
    },
    {
     "data": {
      "text/plain": [
       "<matplotlib.figure.Figure at 0x7f0840e43e10>"
      ]
     },
     "metadata": {},
     "output_type": "display_data"
    },
    {
     "data": {
      "text/plain": [
       "<matplotlib.figure.Figure at 0x7f0840db0f60>"
      ]
     },
     "metadata": {},
     "output_type": "display_data"
    },
    {
     "data": {
      "text/plain": [
       "<matplotlib.figure.Figure at 0x7f0840cf5eb8>"
      ]
     },
     "metadata": {},
     "output_type": "display_data"
    },
    {
     "data": {
      "text/plain": [
       "<matplotlib.figure.Figure at 0x7f0840d08fd0>"
      ]
     },
     "metadata": {},
     "output_type": "display_data"
    },
    {
     "data": {
      "text/plain": [
       "<matplotlib.figure.Figure at 0x7f0840b394e0>"
      ]
     },
     "metadata": {},
     "output_type": "display_data"
    },
    {
     "data": {
      "text/plain": [
       "<matplotlib.figure.Figure at 0x7f0840ba06d8>"
      ]
     },
     "metadata": {},
     "output_type": "display_data"
    },
    {
     "data": {
      "text/plain": [
       "<matplotlib.figure.Figure at 0x7f084096cfd0>"
      ]
     },
     "metadata": {},
     "output_type": "display_data"
    },
    {
     "data": {
      "text/plain": [
       "<matplotlib.figure.Figure at 0x7f08408bb550>"
      ]
     },
     "metadata": {},
     "output_type": "display_data"
    },
    {
     "data": {
      "text/plain": [
       "<matplotlib.figure.Figure at 0x7f08408c03c8>"
      ]
     },
     "metadata": {},
     "output_type": "display_data"
    },
    {
     "data": {
      "text/plain": [
       "<matplotlib.figure.Figure at 0x7f08406c5d30>"
      ]
     },
     "metadata": {},
     "output_type": "display_data"
    },
    {
     "data": {
      "text/plain": [
       "<matplotlib.figure.Figure at 0x7f084062d160>"
      ]
     },
     "metadata": {},
     "output_type": "display_data"
    },
    {
     "data": {
      "text/plain": [
       "<matplotlib.figure.Figure at 0x7f084064a588>"
      ]
     },
     "metadata": {},
     "output_type": "display_data"
    },
    {
     "data": {
      "text/plain": [
       "<matplotlib.figure.Figure at 0x7f08404b0c18>"
      ]
     },
     "metadata": {},
     "output_type": "display_data"
    },
    {
     "data": {
      "text/plain": [
       "<matplotlib.figure.Figure at 0x7f08404ff3c8>"
      ]
     },
     "metadata": {},
     "output_type": "display_data"
    },
    {
     "data": {
      "text/plain": [
       "<matplotlib.figure.Figure at 0x7f08404a1630>"
      ]
     },
     "metadata": {},
     "output_type": "display_data"
    },
    {
     "data": {
      "text/plain": [
       "<matplotlib.figure.Figure at 0x7f08401f63c8>"
      ]
     },
     "metadata": {},
     "output_type": "display_data"
    },
    {
     "data": {
      "text/plain": [
       "<matplotlib.figure.Figure at 0x7f084010d160>"
      ]
     },
     "metadata": {},
     "output_type": "display_data"
    },
    {
     "data": {
      "text/plain": [
       "<matplotlib.figure.Figure at 0x7f08400c6240>"
      ]
     },
     "metadata": {},
     "output_type": "display_data"
    },
    {
     "data": {
      "text/plain": [
       "<matplotlib.figure.Figure at 0x7f0840099588>"
      ]
     },
     "metadata": {},
     "output_type": "display_data"
    },
    {
     "data": {
      "text/plain": [
       "<matplotlib.figure.Figure at 0x7f0833eb2c18>"
      ]
     },
     "metadata": {},
     "output_type": "display_data"
    },
    {
     "data": {
      "text/plain": [
       "<matplotlib.figure.Figure at 0x7f0833f0d4a8>"
      ]
     },
     "metadata": {},
     "output_type": "display_data"
    },
    {
     "data": {
      "text/plain": [
       "<matplotlib.figure.Figure at 0x7f0833dc3128>"
      ]
     },
     "metadata": {},
     "output_type": "display_data"
    },
    {
     "data": {
      "text/plain": [
       "<matplotlib.figure.Figure at 0x7f0833d0a080>"
      ]
     },
     "metadata": {},
     "output_type": "display_data"
    },
    {
     "data": {
      "text/plain": [
       "<matplotlib.figure.Figure at 0x7f0833c96908>"
      ]
     },
     "metadata": {},
     "output_type": "display_data"
    },
    {
     "data": {
      "text/plain": [
       "<matplotlib.figure.Figure at 0x7f0833ceb780>"
      ]
     },
     "metadata": {},
     "output_type": "display_data"
    },
    {
     "data": {
      "text/plain": [
       "<matplotlib.figure.Figure at 0x7f0833a81f98>"
      ]
     },
     "metadata": {},
     "output_type": "display_data"
    },
    {
     "data": {
      "text/plain": [
       "<matplotlib.figure.Figure at 0x7f0833891f60>"
      ]
     },
     "metadata": {},
     "output_type": "display_data"
    },
    {
     "data": {
      "text/plain": [
       "<matplotlib.figure.Figure at 0x7f083392d7f0>"
      ]
     },
     "metadata": {},
     "output_type": "display_data"
    },
    {
     "data": {
      "text/plain": [
       "<matplotlib.figure.Figure at 0x7f0833807860>"
      ]
     },
     "metadata": {},
     "output_type": "display_data"
    },
    {
     "data": {
      "text/plain": [
       "<matplotlib.figure.Figure at 0x7f08337a55f8>"
      ]
     },
     "metadata": {},
     "output_type": "display_data"
    },
    {
     "data": {
      "text/plain": [
       "<matplotlib.figure.Figure at 0x7f0833543240>"
      ]
     },
     "metadata": {},
     "output_type": "display_data"
    },
    {
     "data": {
      "text/plain": [
       "<matplotlib.figure.Figure at 0x7f08335902b0>"
      ]
     },
     "metadata": {},
     "output_type": "display_data"
    },
    {
     "data": {
      "text/plain": [
       "<matplotlib.figure.Figure at 0x7f08333a9b00>"
      ]
     },
     "metadata": {},
     "output_type": "display_data"
    },
    {
     "data": {
      "text/plain": [
       "<matplotlib.figure.Figure at 0x7f0833406898>"
      ]
     },
     "metadata": {},
     "output_type": "display_data"
    },
    {
     "data": {
      "text/plain": [
       "<matplotlib.figure.Figure at 0x7f0833308240>"
      ]
     },
     "metadata": {},
     "output_type": "display_data"
    },
    {
     "data": {
      "text/plain": [
       "<matplotlib.figure.Figure at 0x7f083325aa58>"
      ]
     },
     "metadata": {},
     "output_type": "display_data"
    },
    {
     "data": {
      "text/plain": [
       "<matplotlib.figure.Figure at 0x7f08331b21d0>"
      ]
     },
     "metadata": {},
     "output_type": "display_data"
    },
    {
     "data": {
      "text/plain": [
       "<matplotlib.figure.Figure at 0x7f0833260a58>"
      ]
     },
     "metadata": {},
     "output_type": "display_data"
    },
    {
     "data": {
      "text/plain": [
       "<matplotlib.figure.Figure at 0x7f0832ff3f98>"
      ]
     },
     "metadata": {},
     "output_type": "display_data"
    },
    {
     "data": {
      "text/plain": [
       "<matplotlib.figure.Figure at 0x7f0832de0828>"
      ]
     },
     "metadata": {},
     "output_type": "display_data"
    }
   ],
   "source": [
    "for i in range(80001):\n",
    "    X_batch = sample_data(n=batch_size)\n",
    "    Z_batch = sample_Z(batch_size, 2)\n",
    "\n",
    "    for _ in range(nd_steps):\n",
    "        _, dloss = sess.run([disc_step, disc_loss], feed_dict={X: X_batch, Z: Z_batch})\n",
    "    rrep_dstep, grep_dstep = sess.run([r_rep, g_rep], feed_dict={X: X_batch, Z: Z_batch})\n",
    "\n",
    "    for _ in range(ng_steps):\n",
    "        _, gloss = sess.run([gen_step, gen_loss], feed_dict={Z: Z_batch})\n",
    "\n",
    "    rrep_gstep, grep_gstep = sess.run([r_rep, g_rep], feed_dict={X: X_batch, Z: Z_batch})\n",
    "\n",
    "    \n",
    "    if i%200 == 0:\n",
    "        print (\"Iterations: %d\\t Discriminator loss: %.4f\\t Generator loss: %.4f \" %(i,dloss,gloss))\n",
    "        f.write(\"%d,%f,%f\\n\"%(i,dloss,gloss))\n",
    "\n",
    "    if i%1000 == 0:\n",
    "        plt.figure()\n",
    "        g_plot = sess.run(G_sample, feed_dict={Z: Z_batch})\n",
    "        xax = plt.scatter(x_plot[:,0], x_plot[:,1])\n",
    "        gax = plt.scatter(g_plot[:,0],g_plot[:,1])\n",
    "\n",
    "        plt.legend((xax,gax), (\"Real Data\",\"Generated Data\"))\n",
    "        plt.title('Samples at Iteration %d'%i)\n",
    "        plt.tight_layout()\n",
    "        plt.savefig('iteration_%d.png'%i)\n",
    "        plt.close()\n",
    "\n",
    "        plt.figure()\n",
    "        rrd = plt.scatter(rrep_dstep[:,0], rrep_dstep[:,1], alpha=0.5)\n",
    "        rrg = plt.scatter(rrep_gstep[:,0], rrep_gstep[:,1], alpha=0.5)\n",
    "        grd = plt.scatter(grep_dstep[:,0], grep_dstep[:,1], alpha=0.5)\n",
    "        grg = plt.scatter(grep_gstep[:,0], grep_gstep[:,1], alpha=0.5)\n",
    "\n",
    "\n",
    "        plt.legend((rrd, rrg, grd, grg), (\"Real Data Before G step\",\"Real Data After G step\",\n",
    "                               \"Generated Data Before G step\",\"Generated Data After G step\"))\n",
    "        plt.title('Transformed Features at Iteration %d'%i)\n",
    "        plt.tight_layout()\n",
    "        plt.savefig('feature_transform_%d.png'%i)\n",
    "        plt.close()\n",
    "\n",
    "        plt.figure()"
   ]
  },
  {
   "cell_type": "code",
   "execution_count": null,
   "metadata": {},
   "outputs": [],
   "source": []
  }
 ],
 "metadata": {
  "kernelspec": {
   "display_name": "Python 3",
   "language": "python",
   "name": "python3"
  },
  "language_info": {
   "codemirror_mode": {
    "name": "ipython",
    "version": 3
   },
   "file_extension": ".py",
   "mimetype": "text/x-python",
   "name": "python",
   "nbconvert_exporter": "python",
   "pygments_lexer": "ipython3",
   "version": "3.6.4"
  }
 },
 "nbformat": 4,
 "nbformat_minor": 2
}
