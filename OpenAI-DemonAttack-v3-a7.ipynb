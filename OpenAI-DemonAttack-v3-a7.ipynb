{
 "cells": [
  {
   "cell_type": "code",
   "execution_count": 1,
   "metadata": {},
   "outputs": [],
   "source": [
    "import gym\n",
    "import gym.spaces\n",
    "from collections import deque\n",
    "import numpy as np\n",
    "import matplotlib.pyplot as plt\n",
    "import tensorflow as tf\n",
    "from scipy import linalg\n",
    "from copy import deepcopy\n",
    "import time"
   ]
  },
  {
   "cell_type": "markdown",
   "metadata": {},
   "source": [
    "hyper-parameters "
   ]
  },
  {
   "cell_type": "code",
   "execution_count": 2,
   "metadata": {},
   "outputs": [],
   "source": [
    "num_frames = 2\n",
    "max_steps = 2000\n",
    "num_games = 100\n",
    "\n",
    "lr = 2e-5\n",
    "training_epochs = 1\n",
    "D_hid1 = 150\n",
    "D_hid2 = 60\n",
    "red_Din = 160\n",
    "Din = 128\n",
    "Dout = 6"
   ]
  },
  {
   "cell_type": "markdown",
   "metadata": {},
   "source": [
    "one-hot vector is a vector in which only one component is 1, everything else is zero (0., 0., 1., 0.)"
   ]
  },
  {
   "cell_type": "code",
   "execution_count": 3,
   "metadata": {},
   "outputs": [],
   "source": [
    "def int2onehot(n, max_n):\n",
    "    res = np.zeros(max_n)\n",
    "    res[n] = 1.\n",
    "    return res"
   ]
  },
  {
   "cell_type": "markdown",
   "metadata": {},
   "source": [
    "reduce the dimension of a vector by trasforming it to a basis defined by __V__ and then taking the first **keep&#95;dim** components"
   ]
  },
  {
   "cell_type": "code",
   "execution_count": 4,
   "metadata": {},
   "outputs": [],
   "source": [
    "def dim_reduce(a, V, keep_dim):\n",
    "    res = np.zeros([keep_dim])\n",
    "    for i in range(keep_dim):\n",
    "        res[i] = np.matmul(a, V[i])\n",
    "    return res"
   ]
  },
  {
   "cell_type": "markdown",
   "metadata": {},
   "source": [
    "Apply the poligy gradient"
   ]
  },
  {
   "cell_type": "code",
   "execution_count": 5,
   "metadata": {},
   "outputs": [],
   "source": [
    "def red_train_agent2(training_epochs,red_games, commulative_rewards_np):\n",
    "    merged_summary = tf.summary.merge_all()\n",
    "    mx = commulative_rewards_np.max()\n",
    "    mean = commulative_rewards_np.mean()\n",
    "    amplitude = commulative_rewards_np.max() - commulative_rewards_np.min()\n",
    "    step = 1\n",
    "    for red_game, reward in zip(red_games, commulative_rewards_np):\n",
    "        step += 1\n",
    "        actions = np.array([_[1] for _ in red_game])\n",
    "        observations = np.array([_[0] for _ in red_game])\n",
    "        l = len(observations)\n",
    "        for n in range(training_epochs):\n",
    "            grads_buff = sess.run(red_grads, feed_dict={red_x:observations.reshape([l, red_Din]).astype(dtype=np.float32),\n",
    "                                                   red_y_:actions.reshape([l, Dout]).astype(dtype=np.float32)})\n",
    "            c = (reward - mean) / mean\n",
    "            sess.run(red_apply_grads, \\\n",
    "                feed_dict={red_grad1_ph:(c * grads_buff[0][0]), \\\n",
    "                                red_grad2_ph:(c * grads_buff[1][0]), \\\n",
    "                               red_grad3_ph:(c * grads_buff[2][0]), \\\n",
    "                               red_grad4_ph:(c * grads_buff[3][0])})"
   ]
  },
  {
   "cell_type": "markdown",
   "metadata": {},
   "source": [
    "play **num\\_games** with **max\\_steps** each by randomly sampling the action space"
   ]
  },
  {
   "cell_type": "code",
   "execution_count": 6,
   "metadata": {},
   "outputs": [],
   "source": [
    "def play_random(num_games, max_steps, render):\n",
    "    games = deque()\n",
    "    env = gym.make(\"DemonAttack-ram-v4\")\n",
    "    commulative_rewards = deque()\n",
    "    for i in range(num_games):\n",
    "        #comp_observation = deque(maxlen = 3)\n",
    "        observation = np.array(env.reset())\n",
    "        comp_observation = deepcopy(observation) \n",
    "        comp_observations = deque()\n",
    "        actions = deque()\n",
    "        current_game = deque()\n",
    "        commulative_reward = 0\n",
    "        for j in range(max_steps):\n",
    "            if render:\n",
    "                env.render()            \n",
    "            old_observation = observation\n",
    "            action = env.action_space.sample()\n",
    "            observation, reward, done, info = env.step(action)\n",
    "            if len(comp_observation) == num_frames * 128:\n",
    "                comp_observations.append(deepcopy(comp_observation))\n",
    "            comp_observation = np.hstack((comp_observation, deepcopy(old_observation)))[-num_frames * 128:]\n",
    "            commulative_reward += reward\n",
    "            if(len(comp_observation) == num_frames * 128):\n",
    "                current_game.append((comp_observation, int2onehot(action, env.action_space.n), reward))\n",
    "                actions.append(int2onehot(action, env.action_space.n))\n",
    "                comp_observations.append(comp_observation)\n",
    "            if done:\n",
    "                break;\n",
    "        games.append(current_game)\n",
    "        commulative_rewards.append(commulative_reward)\n",
    "    #env.close()\n",
    "    #del env\n",
    "    return games, commulative_rewards"
   ]
  },
  {
   "cell_type": "markdown",
   "metadata": {},
   "source": [
    "Play **num\\_games** with **max\\_steps** each by transforming the observations in the reduced dimension basis and using the neural network"
   ]
  },
  {
   "cell_type": "code",
   "execution_count": 7,
   "metadata": {},
   "outputs": [],
   "source": [
    "def red_play(num_games, max_steps, render, V, sleep_s = 0.0):\n",
    "    games = deque()\n",
    "    actions = [ _ for _ in range(0, 6)]\n",
    "    env = gym.make(\"DemonAttack-ram-v4\")\n",
    "    commulative_rewards = deque()\n",
    "    for i in range(num_games):\n",
    "        observation = env.reset()\n",
    "        comp_observation = deepcopy(observation)\n",
    "        current_game = deque()\n",
    "        commulative_reward = 0\n",
    "        for j in range(max_steps):\n",
    "            if render:\n",
    "                env.render()\n",
    "                if sleep_s > 0.0:\n",
    "                    time.sleep(sleep_s)\n",
    "            if len(comp_observation) == num_frames * 128:\n",
    "                #print \"red_play: random_choice(probabilities)\", len(comp_observation)\n",
    "                red_observation = dim_reduce(comp_observation, V, red_Din)\n",
    "                probabilities = sess.run(red_y, \\\n",
    "                                     feed_dict={red_x:red_observation.reshape([1, \\\n",
    "                                        len(red_observation)]).astype(dtype=np.float32)})\n",
    "                action = np.random.choice(a=actions, p=probabilities[0])\n",
    "                observation, reward, done, info = env.step(action)\n",
    "                current_game.append((red_observation, int2onehot(action, env.action_space.n), reward))\n",
    "            else:\n",
    "                #print \"red_play: action_space.sample:\", len(comp_observation)\n",
    "                action = env.action_space.sample()\n",
    "                observation, reward, done, info = env.step(action)\n",
    "            commulative_reward += reward\n",
    "            \n",
    "            comp_observation = np.hstack((comp_observation, observation))[-num_frames * 128:]\n",
    "            if done:\n",
    "                break;\n",
    "        games.append(current_game)\n",
    "        commulative_rewards.append(commulative_reward)\n",
    "    #env.close()\n",
    "    #del env\n",
    "    return games, commulative_rewards"
   ]
  },
  {
   "cell_type": "markdown",
   "metadata": {},
   "source": [
    "Generate some statistics for average reward per game of a random action agent"
   ]
  },
  {
   "cell_type": "code",
   "execution_count": 8,
   "metadata": {},
   "outputs": [],
   "source": [
    "games, commulative_rewards = play_random(num_games=num_games, max_steps=2000, render=False)\n",
    "commulative_rewards_np = np.array(commulative_rewards)"
   ]
  },
  {
   "cell_type": "code",
   "execution_count": 9,
   "metadata": {},
   "outputs": [
    {
     "name": "stdout",
     "output_type": "stream",
     "text": [
      "161.525\n"
     ]
    },
    {
     "data": {
      "image/png": "[encoded data removed]",
      "text/plain": [
       "<matplotlib.figure.Figure at 0x7fbb49a855c0>"
      ]
     },
     "metadata": {},
     "output_type": "display_data"
    }
   ],
   "source": [
    "rewards_np = np.array( [_ for _ in commulative_rewards], dtype=np.float )\n",
    "print (rewards_np.mean())\n",
    "h = np.histogram(rewards_np)\n",
    "plt.plot(h[1][:len(h[1]) - 1] + 10.5, h[0])\n",
    "plt.show()"
   ]
  },
  {
   "cell_type": "code",
   "execution_count": 10,
   "metadata": {
    "scrolled": true
   },
   "outputs": [
    {
     "name": "stdout",
     "output_type": "stream",
     "text": [
      "(array([  1, 171,   0, 205,   0, 234,   0,   0,   0,  17,   0,   0,  32,\n",
      "         0,   0, 216, 216,   0,   0,  73, 152,  27, 200,   1,  42,   0,\n",
      "         4,   1,  64,   0,   0,   5,   0,   0,   0,   5,   0,   0,   0,\n",
      "         0,   0,   0,   0,   0,   0,   0,  34,  16,  16, 182,  15,   0,\n",
      "         1,   0,   0,   0,   0,   0,   0,   3,   0,  62,   1,  51,  40,\n",
      "        30,  40,  30,  76, 134, 106,  76,   0,   0,   0, 128,   0, 182,\n",
      "        31,   0,   0, 255,  44,  86,  76, 220,  66,  14,   8,  64,   1,\n",
      "       192,   0, 100,  31, 110,  31, 120,  31, 130,  31, 140,  31, 128,\n",
      "        31, 255,   1, 128,   4,   0,   3,   0,   1,   0,   0,   0,   0,\n",
      "         0,   0, 140,   0, 188,   0,   0,  36,  28, 135,  19,   1, 171,\n",
      "         0, 205,   0, 234,   0,   0,   0,  17,   0,   0,  32,   0,   0,\n",
      "       216, 216,   0,   0,  73, 152,  27, 200,   1,  42,   0,   4,   1,\n",
      "        64,   0,   0,   5,   0,   0,   0,   5,   0,   0,   0,   0,   0,\n",
      "         0,   0,   0,   0,   0,  34,  16,  16, 182,  15,   0,   1,   0,\n",
      "         0,   0,   0,   0,   0,   3,   0,  62,   1,  51,  40,  30,  40,\n",
      "        30,  76, 134, 106,  76,   0,   0,   0, 128,   0, 182,  31,   0,\n",
      "         0, 255,  44,  86,  76, 220,  66,  14,   8,  64,   1, 192,   0,\n",
      "       100,  31, 110,  31, 120,  31, 130,  31, 140,  31, 128,  31, 255,\n",
      "         1, 128,   4,   0,   3,   0,   1,   0,   0,   0,   0,   0,   0,\n",
      "       140,   0, 188,   0,   0,  36,  28, 135,  19], dtype=uint8), array([1., 0., 0., 0., 0., 0.]), 0.0) 385.0\n",
      "[  1 171   0 205   0 234   0   0   0  17   0   0  32   0   0 216 216   0\n",
      "   0  73 152  27 200   1  42   0   4   1  64   0   0   5   0   0   0   5\n",
      "   0   0   0   0   0   0   0   0   0   0  34  16  16 182  15   0   1   0\n",
      "   0   0   0   0   0   3   0  62   1  51  40  30  40  30  76 134 106  76\n",
      "   0   0   0 128   0 182  31   0   0 255  44  86  76 220  66  14   8  64\n",
      "   1 192   0 100  31 110  31 120  31 130  31 140  31 128  31 255   1 128\n",
      "   4   0   3   0   1   0   0   0   0   0   0 140   0 188   0   0  36  28\n",
      " 135  19   1 171   0 205   0 234   0   0   0  17   0   0  32   0   0 216\n",
      " 216   0   0  73 152  27 200   1  42   0   4   1  64   0   0   5   0   0\n",
      "   0   5   0   0   0   0   0   0   0   0   0   0  34  16  16 182  15   0\n",
      "   1   0   0   0   0   0   0   3   0  62   1  51  40  30  40  30  76 134\n",
      " 106  76   0   0   0 128   0 182  31   0   0 255  44  86  76 220  66  14\n",
      "   8  64   1 192   0 100  31 110  31 120  31 130  31 140  31 128  31 255\n",
      "   1 128   4   0   3   0   1   0   0   0   0   0   0 140   0 188   0   0\n",
      "  36  28 135  19] [1. 0. 0. 0. 0. 0.] 0.0\n"
     ]
    }
   ],
   "source": [
    "game = games[commulative_rewards_np.argmax()]\n",
    "commulative_reward = commulative_rewards[commulative_rewards_np.argmax()]\n",
    "print (game[0], commulative_reward)\n",
    "print (game[0][0], game[0][1], game[0][2])"
   ]
  },
  {
   "cell_type": "code",
   "execution_count": 11,
   "metadata": {
    "collapsed": true
   },
   "outputs": [],
   "source": [
    "observations = np.array([_[0] for _ in game], dtype=np.float)"
   ]
  },
  {
   "cell_type": "markdown",
   "metadata": {},
   "source": [
    "Perform dimensionality reduction of the state vector via **PCA** based on **SVD**"
   ]
  },
  {
   "cell_type": "code",
   "execution_count": 12,
   "metadata": {
    "collapsed": true
   },
   "outputs": [],
   "source": [
    "U, s, V = linalg.svd(observations[1:], full_matrices=True, compute_uv=True, overwrite_a=False, check_finite=True, lapack_driver='gesdd')"
   ]
  },
  {
   "cell_type": "code",
   "execution_count": 13,
   "metadata": {
    "scrolled": true
   },
   "outputs": [
    {
     "name": "stdout",
     "output_type": "stream",
     "text": [
      "[6.29752012e+04 8.21350443e+03 6.89811334e+03 6.43547947e+03\n",
      " 6.06243759e+03 5.79733290e+03 5.32771325e+03 5.07933231e+03\n",
      " 4.83374456e+03 4.73117471e+03 4.59962142e+03 4.37553929e+03\n",
      " 4.16501194e+03 4.14585195e+03 3.96948335e+03 3.81257316e+03\n",
      " 3.73318125e+03 3.58791983e+03 3.50783166e+03 3.48373172e+03\n",
      " 3.31194964e+03 3.15543997e+03 3.06659435e+03 3.03264459e+03\n",
      " 2.96595731e+03 2.89087538e+03 2.84226528e+03 2.81627696e+03\n",
      " 2.77753554e+03 2.74405407e+03 2.71958359e+03 2.66204627e+03\n",
      " 2.63253653e+03 2.60605687e+03 2.58624982e+03 2.55626274e+03\n",
      " 2.49185553e+03 2.45846257e+03 2.40390399e+03 2.37023595e+03\n",
      " 2.33280422e+03 2.27413471e+03 2.24876136e+03 2.14943849e+03\n",
      " 2.11035987e+03 2.05675012e+03 2.02343200e+03 1.97241456e+03\n",
      " 1.89102641e+03 1.87097529e+03 1.83462536e+03 1.56492138e+03\n",
      " 1.47523557e+03 1.46439774e+03 1.41034862e+03 1.37927674e+03\n",
      " 1.35702424e+03 1.24209153e+03 1.21461525e+03 1.15980259e+03\n",
      " 1.15624420e+03 1.10323815e+03 1.09401000e+03 1.03591542e+03\n",
      " 9.62774007e+02 9.13564130e+02 8.78868247e+02 8.66577635e+02\n",
      " 8.57727977e+02 8.35595619e+02 8.07000102e+02 7.90879638e+02\n",
      " 7.51522769e+02 7.45319342e+02 7.35938501e+02 7.21172034e+02\n",
      " 7.05497933e+02 6.92971811e+02 6.88069239e+02 6.71014655e+02\n",
      " 6.66397148e+02 6.42044702e+02 6.25500800e+02 5.86946263e+02\n",
      " 5.67846228e+02 5.60595307e+02 5.03153571e+02 4.72596822e+02\n",
      " 4.61768502e+02 4.38388436e+02 4.29453262e+02 4.04024721e+02\n",
      " 4.01331988e+02 3.84822453e+02 3.51828380e+02 3.32338658e+02\n",
      " 2.90770518e+02 2.75979063e+02 2.62810788e+02 2.26992647e+02\n",
      " 2.19735867e+02 1.90812278e+02 1.65876840e+02 1.56217664e+02\n",
      " 1.40762414e+02 1.36729721e+02 1.34476394e+02 1.26986195e+02\n",
      " 1.22890131e+02 1.18970141e+02 1.12475689e+02 1.08322463e+02\n",
      " 1.05385645e+02 1.02065481e+02 9.77170438e+01 8.69870888e+01\n",
      " 8.57556168e+01 8.51229847e+01 8.34554025e+01 7.43088313e+01\n",
      " 6.93514272e+01 6.04134527e+01 5.96051526e+01 5.83786040e+01\n",
      " 5.31526737e+01 4.86189228e+01 4.80030747e+01 4.57880143e+01\n",
      " 3.77385534e+01 3.75040294e+01 3.60092454e+01 3.47775443e+01\n",
      " 3.27648934e+01 3.01385217e+01 2.76541058e+01 2.32496633e+01\n",
      " 1.86553726e+01 1.44028727e+01 1.29445877e+01 1.07122902e+01\n",
      " 1.06346961e+01 8.81465402e+00 8.54126700e+00 8.21169365e+00\n",
      " 8.12883886e+00 5.44491451e+00 4.01845942e+00 1.82363872e+00\n",
      " 1.12128461e+00 9.66506017e-01 9.40168471e-01 7.88731855e-01\n",
      " 3.39533079e-01 3.04630880e-01 2.11180118e-01 3.72460287e-02\n",
      " 1.87761357e-11 1.62364290e-11 5.03386404e-12 4.70066656e-12\n",
      " 4.70066656e-12 4.70066656e-12 4.70066656e-12 4.70066656e-12\n",
      " 4.70066656e-12 4.70066656e-12 4.70066656e-12 4.70066656e-12\n",
      " 4.70066656e-12 4.70066656e-12 4.70066656e-12 4.70066656e-12\n",
      " 4.70066656e-12 4.70066656e-12 4.70066656e-12 4.70066656e-12\n",
      " 4.70066656e-12 4.70066656e-12 4.70066656e-12 4.70066656e-12\n",
      " 4.70066656e-12 4.70066656e-12 4.70066656e-12 4.70066656e-12\n",
      " 4.70066656e-12 4.70066656e-12 4.70066656e-12 4.70066656e-12\n",
      " 4.70066656e-12 4.70066656e-12 4.70066656e-12 4.70066656e-12\n",
      " 4.70066656e-12 4.70066656e-12 4.70066656e-12 4.70066656e-12\n",
      " 4.70066656e-12 4.70066656e-12 4.70066656e-12 4.70066656e-12\n",
      " 4.70066656e-12 4.70066656e-12 4.70066656e-12 4.70066656e-12\n",
      " 4.70066656e-12 4.70066656e-12 4.70066656e-12 4.70066656e-12\n",
      " 4.70066656e-12 4.70066656e-12 4.70066656e-12 4.70066656e-12\n",
      " 4.70066656e-12 4.70066656e-12 4.70066656e-12 4.70066656e-12\n",
      " 4.70066656e-12 4.70066656e-12 4.70066656e-12 4.70066656e-12\n",
      " 4.70066656e-12 4.70066656e-12 4.70066656e-12 4.70066656e-12\n",
      " 4.70066656e-12 4.70066656e-12 4.70066656e-12 4.70066656e-12\n",
      " 4.70066656e-12 4.70066656e-12 4.70066656e-12 4.70066656e-12\n",
      " 4.70066656e-12 4.70066656e-12 4.70066656e-12 4.70066656e-12\n",
      " 4.70066656e-12 4.70066656e-12 4.70066656e-12 4.70066656e-12\n",
      " 4.70066656e-12 4.70066656e-12 4.70066656e-12 4.70066656e-12\n",
      " 4.70066656e-12 4.70066656e-12 4.70066656e-12 4.70066656e-12\n",
      " 4.70066656e-12 4.70066656e-12 4.70066656e-12 4.70066656e-12\n",
      " 4.70066656e-12 4.70066656e-12 4.34045913e-12 2.76748751e-12]\n"
     ]
    }
   ],
   "source": [
    "print (s)"
   ]
  },
  {
   "cell_type": "code",
   "execution_count": 14,
   "metadata": {
    "scrolled": true
   },
   "outputs": [
    {
     "data": {
      "image/png": "[encoded data removed]",
      "text/plain": [
       "<matplotlib.figure.Figure at 0x7fbb49b2aac8>"
      ]
     },
     "metadata": {},
     "output_type": "display_data"
    }
   ],
   "source": [
    "plt.plot(np.log10(s))\n",
    "plt.show()"
   ]
  },
  {
   "cell_type": "markdown",
   "metadata": {},
   "source": [
    "Init TensorFlow session"
   ]
  },
  {
   "cell_type": "code",
   "execution_count": 9,
   "metadata": {},
   "outputs": [],
   "source": [
    "sess = tf.Session()"
   ]
  },
  {
   "cell_type": "markdown",
   "metadata": {},
   "source": [
    "Init Tensorflow infrastructure. Create the neural network matrices"
   ]
  },
  {
   "cell_type": "code",
   "execution_count": 10,
   "metadata": {},
   "outputs": [
    {
     "name": "stdout",
     "output_type": "stream",
     "text": [
      "WARNING:tensorflow:From /home/martin/venvs/python3.5.2_openai_tensorflow/lib/python3.5/site-packages/tensorflow/python/framework/op_def_library.py:263: colocate_with (from tensorflow.python.framework.ops) is deprecated and will be removed in a future version.\n",
      "Instructions for updating:\n",
      "Colocations handled automatically by placer.\n"
     ]
    }
   ],
   "source": [
    "red_x = tf.placeholder(tf.float32, [None, red_Din], name=\"red_x\")\n",
    "\n",
    "red_grad1_ph = tf.placeholder(tf.float32, name=\"red_grad1_ph\")\n",
    "red_grad2_ph = tf.placeholder(tf.float32, name=\"red_grad2_ph\")\n",
    "red_grad3_ph = tf.placeholder(tf.float32, name=\"red_grad3_ph\")\n",
    "red_grad4_ph = tf.placeholder(tf.float32, name=\"red_grad4_ph\")\n",
    "\n",
    "\n",
    "red_W1 = tf.Variable(tf.random_normal([red_Din, D_hid1], stddev=0.0001), name=\"red_W1\")\n",
    "red_b1 = tf.Variable(tf.random_normal([D_hid1], stddev=0.0001), name=\"red_b1\") \n",
    "\n",
    "red_W = tf.Variable(tf.random_normal([D_hid1, Dout], stddev=0.0001), name=\"red_W\")\n",
    "red_b = tf.Variable(tf.random_normal([Dout], stddev=0.0001), name=\"red_b\")\n",
    "\n",
    "red_H = tf.nn.relu(tf.matmul(red_x, red_W1) + red_b1)\n",
    "red_y = tf.nn.softmax(tf.matmul(red_H, red_W) + red_b)\n",
    "#red_y = tf.nn.softmax(tf.matmul(red_x, red_W) + red_b, name = \"red_y\")\n",
    "red_y_ = tf.placeholder(tf.float32, [None, Dout], name=\"red_y_\")"
   ]
  },
  {
   "cell_type": "markdown",
   "metadata": {},
   "source": [
    "loss (error) function"
   ]
  },
  {
   "cell_type": "code",
   "execution_count": 11,
   "metadata": {},
   "outputs": [],
   "source": [
    "red_square_loss = tf.reduce_mean(tf.pow(red_y_ - red_y, 2))"
   ]
  },
  {
   "cell_type": "code",
   "execution_count": 12,
   "metadata": {},
   "outputs": [],
   "source": [
    "red_adam = tf.train.AdamOptimizer(learning_rate=lr)\n",
    "\n",
    "#tvars = tf.trainable_variables()\n",
    "red_tvars = [red_W, red_b, red_W1, red_b1]\n",
    "\n",
    "red_grads = red_adam.compute_gradients(loss=red_square_loss, var_list=red_tvars)\n",
    "red_apply_grads = red_adam.apply_gradients(zip([red_grad1_ph, red_grad2_ph, red_grad3_ph, red_grad4_ph],red_tvars))"
   ]
  },
  {
   "cell_type": "code",
   "execution_count": 13,
   "metadata": {},
   "outputs": [],
   "source": [
    "sess.run(tf.global_variables_initializer())"
   ]
  },
  {
   "cell_type": "code",
   "execution_count": 14,
   "metadata": {},
   "outputs": [],
   "source": [
    "rewards = np.ndarray([0], dtype=np.float32)"
   ]
  },
  {
   "cell_type": "markdown",
   "metadata": {},
   "source": [
    "Learning. It will continue while the file `1.ctl` contains the **RUN** text on the first line."
   ]
  },
  {
   "cell_type": "code",
   "execution_count": 26,
   "metadata": {
    "scrolled": true
   },
   "outputs": [
    {
     "name": "stdout",
     "output_type": "stream",
     "text": [
      "Iteration: 1 / 1\n"
     ]
    },
    {
     "data": {
      "image/png": "[encoded data removed]",
      "text/plain": [
       "<Figure size 432x288 with 1 Axes>"
      ]
     },
     "metadata": {
      "needs_background": "light"
     },
     "output_type": "display_data"
    },
    {
     "name": "stdout",
     "output_type": "stream",
     "text": [
      "total_num_games=16500 average=192.154 moving_average=331.850 time_mins=4\n",
      "Iteration: 2 / 1\n"
     ]
    },
    {
     "data": {
      "image/png": "[encoded data removed]",
      "text/plain": [
       "<Figure size 432x288 with 1 Axes>"
      ]
     },
     "metadata": {
      "needs_background": "light"
     },
     "output_type": "display_data"
    },
    {
     "name": "stdout",
     "output_type": "stream",
     "text": [
      "total_num_games=16600 average=192.805 moving_average=300.100 time_mins=5\n",
      "Iteration: 3 / 1\n"
     ]
    },
    {
     "data": {
      "image/png": "[encoded data removed]",
      "text/plain": [
       "<Figure size 432x288 with 1 Axes>"
      ]
     },
     "metadata": {
      "needs_background": "light"
     },
     "output_type": "display_data"
    },
    {
     "name": "stdout",
     "output_type": "stream",
     "text": [
      "total_num_games=16700 average=193.590 moving_average=323.950 time_mins=5\n"
     ]
    }
   ],
   "source": [
    "num_iterations = 1\n",
    "i = 0\n",
    "need_stop = False\n",
    "while(need_stop == False):\n",
    "#for i in range(num_iterations):\n",
    "    t1 = time.time()\n",
    "    print (\"Iteration:\", i + 1, '/', num_iterations)\n",
    "    i += 1\n",
    "    red_games, commulative_rewards = red_play(num_games=num_games, max_steps=3000, render=False, V=V)\n",
    "    commulative_rewards_np = np.array(commulative_rewards)\n",
    "    rewards = np.hstack((rewards, commulative_rewards_np))\n",
    "    x = np.linspace(1, len(rewards), len(rewards))\n",
    "    plt.plot(x, rewards)\n",
    "    plt.axis([0, x.size, 0, 1.1 * rewards.max()])\n",
    "    plt.show()\n",
    "    red_train_agent2(1, red_games, commulative_rewards_np)\n",
    "    print(\"total_num_games=%d average=%.3f moving_average=%.3f time_mins=%d\" %\n",
    "          (x.size, rewards.mean(), rewards[-num_games:].mean(), (time.time() - t1) / 60 ))\n",
    "    with open(\"/home/martin/1.ctl\") as f:\n",
    "        cmd = f.readline()\n",
    "        if cmd.find(\"RUN\") < 0:\n",
    "            need_stop = True"
   ]
  },
  {
   "cell_type": "markdown",
   "metadata": {},
   "source": [
    "Playing and render the game on the screen"
   ]
  },
  {
   "cell_type": "code",
   "execution_count": 27,
   "metadata": {},
   "outputs": [],
   "source": [
    "g, r = red_play(num_games=1, max_steps=5000, render=True, V=V, sleep_s=0.02)"
   ]
  },
  {
   "cell_type": "code",
   "execution_count": null,
   "metadata": {},
   "outputs": [],
   "source": [
    "sess.run(red_W)"
   ]
  },
  {
   "cell_type": "code",
   "execution_count": null,
   "metadata": {
    "collapsed": true
   },
   "outputs": [],
   "source": [
    "def onehot2int(v):\n",
    "    for _ in range(len(v)):\n",
    "        if v[_] == 1:\n",
    "            return _\n",
    "    return len(v)"
   ]
  },
  {
   "cell_type": "code",
   "execution_count": null,
   "metadata": {},
   "outputs": [],
   "source": [
    "actions = deque()\n",
    "onehot2int(red_games[0][0][1])\n",
    "actions = deque()\n",
    "for game in games:\n",
    "    for step in game:\n",
    "        actions.append(onehot2int(step[1]))"
   ]
  },
  {
   "cell_type": "code",
   "execution_count": null,
   "metadata": {},
   "outputs": [],
   "source": [
    "print (len(actions))"
   ]
  },
  {
   "cell_type": "code",
   "execution_count": null,
   "metadata": {},
   "outputs": [],
   "source": [
    "h = np.histogram(actions, bins=6)\n",
    "plt.plot(h[1][1:], h[0])\n",
    "plt.show()\n",
    "print (h, np.sum(h[0]))"
   ]
  },
  {
   "cell_type": "markdown",
   "metadata": {},
   "source": [
    "TensorFlow object which can store and load a graph's weights"
   ]
  },
  {
   "cell_type": "code",
   "execution_count": 15,
   "metadata": {},
   "outputs": [],
   "source": [
    "saver = tf.train.Saver()"
   ]
  },
  {
   "cell_type": "markdown",
   "metadata": {},
   "source": [
    "Save model routine"
   ]
  },
  {
   "cell_type": "code",
   "execution_count": 16,
   "metadata": {},
   "outputs": [],
   "source": [
    "def save_model(directory):\n",
    "    saver.save(sess, directory)\n",
    "    np.save(directory + \"/rewards\", rewards)\n",
    "    np.save(directory + \"/V-matrix\", V)"
   ]
  },
  {
   "cell_type": "code",
   "execution_count": 17,
   "metadata": {},
   "outputs": [],
   "source": [
    "# save_model(\"/home/martin/reinforcement_learning_runs/1/\")"
   ]
  },
  {
   "cell_type": "markdown",
   "metadata": {},
   "source": [
    "Load model routine"
   ]
  },
  {
   "cell_type": "code",
   "execution_count": 18,
   "metadata": {},
   "outputs": [],
   "source": [
    "def load_model(directory):\n",
    "    saver.restore(sess=sess, save_path=directory)\n",
    "    rewards = np.load(directory + \"/rewards.npy\")\n",
    "    V = np.load(directory + \"/V-matrix.npy\")\n",
    "    return (V, rewards)\n",
    "    "
   ]
  },
  {
   "cell_type": "code",
   "execution_count": 19,
   "metadata": {},
   "outputs": [
    {
     "name": "stdout",
     "output_type": "stream",
     "text": [
      "WARNING:tensorflow:From /home/martin/venvs/python3.5.2_openai_tensorflow/lib/python3.5/site-packages/tensorflow/python/training/saver.py:1266: checkpoint_exists (from tensorflow.python.training.checkpoint_management) is deprecated and will be removed in a future version.\n",
      "Instructions for updating:\n",
      "Use standard file APIs to check for files with this prefix.\n",
      "INFO:tensorflow:Restoring parameters from /home/martin/reinforcement_learning_runs/5/\n"
     ]
    }
   ],
   "source": [
    "V, rewards = load_model(\"/home/martin/reinforcement_learning_runs/5/\")"
   ]
  },
  {
   "cell_type": "code",
   "execution_count": null,
   "metadata": {},
   "outputs": [],
   "source": []
  }
 ],
 "metadata": {
  "kernelspec": {
   "display_name": "Python 3",
   "language": "python",
   "name": "python3"
  },
  "language_info": {
   "codemirror_mode": {
    "name": "ipython",
    "version": 3
   },
   "file_extension": ".py",
   "mimetype": "text/x-python",
   "name": "python",
   "nbconvert_exporter": "python",
   "pygments_lexer": "ipython3",
   "version": "3.5.2"
  }
 },
 "nbformat": 4,
 "nbformat_minor": 2
}
