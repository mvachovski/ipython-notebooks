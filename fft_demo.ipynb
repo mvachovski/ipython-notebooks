{
 "metadata": {
  "name": "",
  "signature": "sha256:a8526aaa960816b34862bdea0463d0bc3a77fd765a89cece65f1b6d12091acf5"
 },
 "nbformat": 3,
 "nbformat_minor": 0,
 "worksheets": [
  {
   "cells": [
    {
     "cell_type": "code",
     "collapsed": false,
     "input": [
      "from skimage.color import rgb2grey\n",
      "import matplotlib.pyplot as plt\n",
      "from scipy.misc import imread\n",
      "import numpy as np\n",
      "import numpy.fft as fft\n",
      "from math import pi"
     ],
     "language": "python",
     "metadata": {},
     "outputs": [],
     "prompt_number": 22
    },
    {
     "cell_type": "code",
     "collapsed": false,
     "input": [
      "t = np.arange(-2.0, 2.0, 0.01)"
     ],
     "language": "python",
     "metadata": {},
     "outputs": [],
     "prompt_number": 23
    },
    {
     "cell_type": "markdown",
     "metadata": {},
     "source": [
      "Fourier transform of delta"
     ]
    },
    {
     "cell_type": "code",
     "collapsed": false,
     "input": [
      "fig = plt.figure()\n",
      "s = np.zeros(t.size)\n",
      "s[s.size / 2] = 5\n",
      "s_fft = fft.fft(s)\n",
      "s_fft = fft.fftshift(s_fft)\n",
      "plt.subplot(211)\n",
      "plt.plot(t, s)\n",
      "plt.subplot(212)\n",
      "# print fft.fftfreq(s_fft)\n",
      "plt.plot(t, np.abs(s_fft))\n",
      "plt.show()"
     ],
     "language": "python",
     "metadata": {},
     "outputs": [],
     "prompt_number": 25
    },
    {
     "cell_type": "markdown",
     "metadata": {},
     "source": [
      "Fourier transform of constant"
     ]
    },
    {
     "cell_type": "code",
     "collapsed": false,
     "input": [
      "fig = plt.figure()\n",
      "s = 5 * np.ones(t.size)\n",
      "s_fft = fft.fft(s)\n",
      "s_fft = fft.fftshift(s_fft)\n",
      "plt.subplot(211)\n",
      "plt.plot(t, s)\n",
      "plt.subplot(212)\n",
      "# print fft.fftfreq(s_fft)\n",
      "plt.plot(t, np.abs(s_fft))\n",
      "plt.show()"
     ],
     "language": "python",
     "metadata": {},
     "outputs": [],
     "prompt_number": 26
    },
    {
     "cell_type": "markdown",
     "metadata": {},
     "source": [
      "Fourier transform of a sine wave"
     ]
    },
    {
     "cell_type": "code",
     "collapsed": false,
     "input": [
      "fig = plt.figure()\n",
      "s = np.sin(2*np.pi*t)\n",
      "s_fft = fft.fft(s)\n",
      "s_fft = fft.fftshift(s_fft)\n",
      "plt.subplot(211)\n",
      "plt.plot(t, s)\n",
      "plt.subplot(212)\n",
      "# print fft.fftfreq(s_fft)\n",
      "plt.plot(t, np.abs(s_fft))\n",
      "plt.show()"
     ],
     "language": "python",
     "metadata": {},
     "outputs": [],
     "prompt_number": 27
    },
    {
     "cell_type": "markdown",
     "metadata": {},
     "source": [
      "Fourier transform of a Gaussian"
     ]
    },
    {
     "cell_type": "code",
     "collapsed": false,
     "input": [
      "sigma_sqr = .0125\n",
      "fig = plt.figure()\n",
      "s = np.exp(-t**2 / (2 * sigma_sqr))\n",
      "s_fft = fft.fft(s)\n",
      "s_fft = fft.fftshift(s_fft)\n",
      "plt.subplot(211)\n",
      "plt.plot(t, s)\n",
      "plt.subplot(212)\n",
      "# print fft.fftfreq(s_fft)\n",
      "plt.plot(t, np.abs(s_fft))\n",
      "plt.show()"
     ],
     "language": "python",
     "metadata": {},
     "outputs": [],
     "prompt_number": 28
    },
    {
     "cell_type": "code",
     "collapsed": false,
     "input": [
      "im = imread(\"img/mountain_city_lake_beautiful_landscapes_1920x1080_hd-wallpaper-78341.jpg\")"
     ],
     "language": "python",
     "metadata": {},
     "outputs": [],
     "prompt_number": 32
    },
    {
     "cell_type": "code",
     "collapsed": false,
     "input": [
      "im.shape"
     ],
     "language": "python",
     "metadata": {},
     "outputs": [
      {
       "metadata": {},
       "output_type": "pyout",
       "prompt_number": 33,
       "text": [
        "(1080, 1920, 3)"
       ]
      }
     ],
     "prompt_number": 33
    },
    {
     "cell_type": "code",
     "collapsed": false,
     "input": [
      "plt.imshow(im)\n",
      "plt.show()"
     ],
     "language": "python",
     "metadata": {},
     "outputs": [],
     "prompt_number": 34
    },
    {
     "cell_type": "code",
     "collapsed": false,
     "input": [
      "im = rgb2grey(im)\n",
      "print im.shape"
     ],
     "language": "python",
     "metadata": {},
     "outputs": [
      {
       "output_type": "stream",
       "stream": "stdout",
       "text": [
        "(1080, 1920)\n"
       ]
      }
     ],
     "prompt_number": 35
    },
    {
     "cell_type": "code",
     "collapsed": false,
     "input": [
      "plt.imshow(im, cmap='Greys_r')\n",
      "plt.show()"
     ],
     "language": "python",
     "metadata": {},
     "outputs": [],
     "prompt_number": 36
    },
    {
     "cell_type": "markdown",
     "metadata": {},
     "source": [
      "Perform *2D* Fast Fourier Transform on the image"
     ]
    },
    {
     "cell_type": "code",
     "collapsed": false,
     "input": [
      "im_fft = fft.fft2(im)"
     ],
     "language": "python",
     "metadata": {},
     "outputs": [],
     "prompt_number": 37
    },
    {
     "cell_type": "markdown",
     "metadata": {},
     "source": [
      "Reorder the output of the Fourirer transform"
     ]
    },
    {
     "cell_type": "code",
     "collapsed": false,
     "input": [
      "im_fft = fft.fftshift(im_fft)"
     ],
     "language": "python",
     "metadata": {},
     "outputs": [],
     "prompt_number": 38
    },
    {
     "cell_type": "code",
     "collapsed": false,
     "input": [
      "im_fft.shape"
     ],
     "language": "python",
     "metadata": {},
     "outputs": [
      {
       "metadata": {},
       "output_type": "pyout",
       "prompt_number": 40,
       "text": [
        "(1080, 1920)"
       ]
      }
     ],
     "prompt_number": 40
    },
    {
     "cell_type": "markdown",
     "metadata": {},
     "source": [
      "Show the result of the FFT"
     ]
    },
    {
     "cell_type": "code",
     "collapsed": false,
     "input": [
      "im_fft_abs_log = np.log(np.abs(im_fft))\n",
      "h,w = im_fft_abs_log.shape\n",
      "print h, w"
     ],
     "language": "python",
     "metadata": {},
     "outputs": [
      {
       "output_type": "stream",
       "stream": "stdout",
       "text": [
        "1080 1920\n"
       ]
      }
     ],
     "prompt_number": 41
    },
    {
     "cell_type": "code",
     "collapsed": false,
     "input": [
      "plt.imshow(im_fft_abs_log, cmap='Greys_r')\n",
      "plt.show()"
     ],
     "language": "python",
     "metadata": {},
     "outputs": [],
     "prompt_number": 42
    },
    {
     "cell_type": "markdown",
     "metadata": {},
     "source": [
      "Nulify the higher level modes (details) outside of radius r in Fourier domain"
     ]
    },
    {
     "cell_type": "code",
     "collapsed": false,
     "input": [
      "im_fft_cutoff = np.zeros(im_fft.shape, dtype=np.complex128)"
     ],
     "language": "python",
     "metadata": {},
     "outputs": [],
     "prompt_number": 54
    },
    {
     "cell_type": "code",
     "collapsed": false,
     "input": [
      "r = 400\n",
      "for x in range(w):\n",
      "    for y in range(h):\n",
      "        if ((x - w/2)**2 + (y - h/2)**2)**.5 < r:\n",
      "        # if sqrt(x**2 + y**2) < 500:\n",
      "            im_fft_cutoff[y, x] = im_fft[y, x]\n",
      "print \"Image %d%d pixels\" % (w, h)\n",
      "print \"Preserved data: %d complex points\" % int(pi * r**2)\n",
      "print \"Ratio: %lf%%\" % ( 100 * 2 * pi * r**2  / ( w * h ) )"
     ],
     "language": "python",
     "metadata": {},
     "outputs": [
      {
       "output_type": "stream",
       "stream": "stdout",
       "text": [
        "Image 19201080 pixels\n",
        "Preserved data: 502654 complex points\n",
        "Ratio: 48.481368%\n"
       ]
      }
     ],
     "prompt_number": 55
    },
    {
     "cell_type": "markdown",
     "metadata": {},
     "source": [
      "Display the reduced image in Fourier domain"
     ]
    },
    {
     "cell_type": "code",
     "collapsed": false,
     "input": [
      "plt.imshow(np.log(np.abs(im_fft_cutoff + 0.001)), cmap='Greys_r')\n",
      "plt.show()"
     ],
     "language": "python",
     "metadata": {},
     "outputs": [],
     "prompt_number": 56
    },
    {
     "cell_type": "code",
     "collapsed": false,
     "input": [
      "im_reduced = fft.ifft2(fft.ifftshift(im_fft_cutoff))"
     ],
     "language": "python",
     "metadata": {},
     "outputs": [],
     "prompt_number": 57
    },
    {
     "cell_type": "markdown",
     "metadata": {},
     "source": [
      "Compare the two images"
     ]
    },
    {
     "cell_type": "code",
     "collapsed": false,
     "input": [
      "fig = plt.figure()\n",
      "fig.set_figheight(h/25)\n",
      "fig.set_figwidth(w/25)\n",
      "plt.subplot(211)\n",
      "plt.imshow(np.abs(im), cmap='Greys_r')\n",
      "plt.subplot(212)\n",
      "plt.imshow(np.abs(im_reduced), cmap='Greys_r')\n",
      "plt.show()"
     ],
     "language": "python",
     "metadata": {},
     "outputs": [],
     "prompt_number": 58
    },
    {
     "cell_type": "code",
     "collapsed": false,
     "input": [],
     "language": "python",
     "metadata": {},
     "outputs": [],
     "prompt_number": 21
    }
   ],
   "metadata": {}
  }
 ]
}