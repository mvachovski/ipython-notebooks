{
 "cells": [
  {
   "cell_type": "code",
   "execution_count": 1,
   "metadata": {},
   "outputs": [
    {
     "name": "stderr",
     "output_type": "stream",
     "text": [
      "/home/martin/anaconda3/envs/pysc2/lib/python3.6/importlib/_bootstrap.py:219: RuntimeWarning: compiletime version 3.5 of module 'tensorflow.python.framework.fast_tensor_util' does not match runtime version 3.6\n",
      "  return f(*args, **kwds)\n"
     ]
    }
   ],
   "source": [
    "import tensorflow as tf\n",
    "import numpy as np\n",
    "import gym\n",
    "import gym.spaces\n",
    "import datetime as dt\n",
    "import matplotlib.pyplot as plt"
   ]
  },
  {
   "cell_type": "code",
   "execution_count": 2,
   "metadata": {},
   "outputs": [
    {
     "name": "stdout",
     "output_type": "stream",
     "text": [
      "\u001b[33mWARN: gym.spaces.Box autodetected dtype as <class 'numpy.float32'>. Please provide explicit dtype.\u001b[0m\n"
     ]
    }
   ],
   "source": [
    "env = gym.make(\"LunarLander-v2\")"
   ]
  },
  {
   "cell_type": "code",
   "execution_count": 3,
   "metadata": {},
   "outputs": [],
   "source": [
    "class Agent:\n",
    "    \n",
    "    def __init__(self, name, input_layer, hsize, action_space_n, random_init=True):\n",
    "        self.name = name\n",
    "        self.hsize = hsize\n",
    "        self.action_space_n = action_space_n\n",
    "        with tf.variable_scope(name,reuse=False):\n",
    "            self.input = input_layer\n",
    "            self.h1 = tf.layers.dense(input_layer,hsize[0],activation=tf.nn.leaky_relu)\n",
    "            self.h2 = tf.layers.dense(self.h1,hsize[1],activation=tf.nn.leaky_relu)\n",
    "            self.out = tf.layers.dense(self.h2, action_space_n, activation=tf.nn.softmax)\n",
    "            \n",
    "    def zero(self):\n",
    "        tr_vars = self.train_vars()\n",
    "        for var in tr_vars:\n",
    "            sess.run(tf.assign(var, tf.zeros_like(var)))\n",
    "        \n",
    "    def from_population(self, agents, weights):\n",
    "        self.zero()\n",
    "        weight = 1. / len(agents)\n",
    "        train_vars = self.train_vars()\n",
    "        for i in range(len(agents)):\n",
    "        # for i in range(1):\n",
    "            current_agent_vars = agents[i].train_vars()\n",
    "            for j in range(len(current_agent_vars)):\n",
    "            # for j in range(1):\n",
    "                # print(\"train_vars[j]:\\n\", sess.run(train_vars[j]))\n",
    "                # print(\"weights[i]:\\n\", weights[i])\n",
    "                # print(\"current_agent_vars[j]:\\n\", sess.run(current_agent_vars[j]))\n",
    "                # print(\"train_vars[j] + weights[i] * current_agent_vars[j]:\\n\", sess.run(train_vars[j] + weights[i] * current_agent_vars[j]))\n",
    "                sess.run(tf.assign(train_vars[j], train_vars[j] + weights[i] * current_agent_vars[j]))\n",
    "                # print(\"train_vars[j]:\\n\", sess.run(train_vars[j]))\n",
    "        # print(\"from_population: \", sess.run(self.train_vars()[0])[0][0:5])\n",
    "        return self\n",
    "                \n",
    "    def from_agent(self, agent, noise_dist = None):\n",
    "        self_train_vars = self.train_vars()\n",
    "        agent_train_vars = agent.train_vars()\n",
    "        for i in range(len(self_train_vars)):\n",
    "            if noise_dist is None:\n",
    "                sess.run(tf.assign(self_train_vars[i], agent_train_vars[i]))\n",
    "            else:\n",
    "                sess.run(tf.assign(self_train_vars[i], agent_train_vars[i] + noise_dist.sample(agent_train_vars[i].shape)))\n",
    "        return self\n",
    "                \n",
    "    def compute(self, observation):\n",
    "        obs_np = np.array(observation).reshape((1, 8))\n",
    "        return sess.run(self.out, feed_dict= {X : obs_np})\n",
    "    \n",
    "    def train_vars(self):\n",
    "        return tf.get_collection(tf.GraphKeys.TRAINABLE_VARIABLES, self.name)\n",
    "    \n",
    "    def update(self, agent):\n",
    "        pass"
   ]
  },
  {
   "cell_type": "code",
   "execution_count": 4,
   "metadata": {},
   "outputs": [],
   "source": [
    "num_agents = 10\n",
    "num_games_per_agent = 50\n",
    "max_steps = 300\n",
    "num_generations = 3\n",
    "hsizes = [24, 24]\n",
    "alpha = 0.03\n",
    "sigma = 0.03"
   ]
  },
  {
   "cell_type": "code",
   "execution_count": 5,
   "metadata": {},
   "outputs": [],
   "source": [
    "X = tf.placeholder(tf.float32,[None, env.observation_space.shape[0]])"
   ]
  },
  {
   "cell_type": "code",
   "execution_count": 6,
   "metadata": {},
   "outputs": [],
   "source": [
    "normal_dist = dist = tf.distributions.Normal(loc=0., scale=sigma)"
   ]
  },
  {
   "cell_type": "code",
   "execution_count": 7,
   "metadata": {},
   "outputs": [
    {
     "name": "stdout",
     "output_type": "stream",
     "text": [
      "[<tf.Variable 'Agent_Smith/dense/kernel:0' shape=(8, 24) dtype=float32_ref>, <tf.Variable 'Agent_Smith/dense/bias:0' shape=(24,) dtype=float32_ref>, <tf.Variable 'Agent_Smith/dense_1/kernel:0' shape=(24, 24) dtype=float32_ref>, <tf.Variable 'Agent_Smith/dense_1/bias:0' shape=(24,) dtype=float32_ref>, <tf.Variable 'Agent_Smith/dense_2/kernel:0' shape=(24, 4) dtype=float32_ref>, <tf.Variable 'Agent_Smith/dense_2/bias:0' shape=(4,) dtype=float32_ref>]\n"
     ]
    }
   ],
   "source": [
    "smith = Agent(name=\"Agent_Smith\", input_layer=X, hsize=hsizes, action_space_n=env.action_space.n)\n",
    "print(smith.train_vars())\n",
    "agents = []\n",
    "for i in range(num_agents):\n",
    "    # agents.append(agent(\"agent/%d\" % (i,), input_layer=X, hsize=hsizes, reuse=False, action_space_n=env.action_space.n))\n",
    "    agents.append(Agent(\"agent/%d\" % (i,), input_layer=X, hsize=hsizes, action_space_n=env.action_space.n))"
   ]
  },
  {
   "cell_type": "code",
   "execution_count": 8,
   "metadata": {},
   "outputs": [],
   "source": [
    "sess = tf.Session()\n",
    "tf.global_variables_initializer().run(session=sess)"
   ]
  },
  {
   "cell_type": "code",
   "execution_count": 9,
   "metadata": {},
   "outputs": [],
   "source": [
    "#for i in range(num_agents):\n",
    "#    train_vars = tf.get_collection(tf.GraphKeys.TRAINABLE_VARIABLES, \"agent/%d\" % (i,))\n",
    "#    print(sess.run(train_vars))\n",
    "#    print(\"======================\")"
   ]
  },
  {
   "cell_type": "code",
   "execution_count": 10,
   "metadata": {},
   "outputs": [],
   "source": [
    "def play(env, agent, num_games, max_steps, render):\n",
    "    rewards = np.zeros([num_games])\n",
    "    actions = [_ for _ in range(env.action_space.n)]\n",
    "    for g in range(num_games):\n",
    "        obs = env.reset()\n",
    "        #print(obs)\n",
    "        reward_accum = 0\n",
    "        for i in range(max_steps):\n",
    "            # obs_np = np.array(obs).reshape((1, 8))\n",
    "            # action_probabilities = sess.run(agent, feed_dict= {X : obs_np})\n",
    "            action_probabilities = agent.compute(obs)[0]\n",
    "            \n",
    "            #obs, r, done, info = env.step(env.action_space.sample())\n",
    "            action = np.random.choice(a=actions, p=action_probabilities)\n",
    "            obs, r, done, info = env.step(action)\n",
    "            if render == True:\n",
    "                env.render()\n",
    "            reward_accum += r\n",
    "            if done == True:\n",
    "                break\n",
    "        rewards[g] = reward_accum\n",
    "    return rewards.sum()"
   ]
  },
  {
   "cell_type": "code",
   "execution_count": 11,
   "metadata": {},
   "outputs": [],
   "source": [
    "def softmax(x):\n",
    "    \"\"\"Compute softmax values for each sets of scores in x.\"\"\"\n",
    "    e_x = np.exp(x - np.max(x))\n",
    "    return e_x / e_x.sum()"
   ]
  },
  {
   "cell_type": "code",
   "execution_count": 12,
   "metadata": {},
   "outputs": [],
   "source": [
    "generation = 1\n",
    "max_rewards = []\n",
    "avg_rewards = []\n",
    "training_history = {}"
   ]
  },
  {
   "cell_type": "code",
   "execution_count": 53,
   "metadata": {},
   "outputs": [
    {
     "name": "stdout",
     "output_type": "stream",
     "text": [
      "training started: 2018-09-14 10:00:23.476416\n",
      "162 1525.847323820988 484.1843789958798\n",
      "163 1090.2132593401989 -106.00647168345458\n",
      "164 1755.8810056900527 665.6192196740247\n",
      "165 1800.547163707849 1141.4584385475462\n",
      "166 1602.6291815641875 1100.7865650621725\n",
      "167 1602.729318927692 594.1721171694817\n",
      "168 1711.632927723274 473.1211727818485\n",
      "169 1904.5159612712923 1356.077264144207\n",
      "170 2149.203957473132 990.3788808855967\n",
      "171 2574.5683638438027 968.7772268946549\n",
      "172 2045.115289429682 1430.79150185937\n",
      "173 1970.0032585766367 1232.482750941615\n",
      "174 2058.2217787549325 1363.950107022513\n",
      "175 2311.2927988749225 1665.4978318490732\n",
      "176 1903.4681353680494 1494.2567390137428\n",
      "177 2500.5360469423867 1858.0925336626292\n",
      "178 2141.2152541463806 1509.451461244005\n",
      "179 2339.312254320599 1660.7527094634006\n",
      "180 2089.9515082520456 1584.7019710898417\n",
      "181 2026.4307382396328 1567.0668421958467\n",
      "182 2423.4326354397 1480.1329746665838\n",
      "183 2250.9209068114656 1912.7620567894742\n",
      "184 2590.009242776701 2019.9440842677927\n",
      "185 2504.8642063591883 1504.3587490720033\n",
      "186 2370.0573437170588 1798.6449465662342\n",
      "187 2117.3596936658137 1433.2306497178547\n",
      "188 1954.9448679239595 1250.6138652199631\n",
      "189 2510.099518803052 2042.048964156333\n",
      "190 2653.150860705 1971.207121155388\n",
      "191 2310.161977384471 1606.7041323918907\n",
      "192 2278.639458538995 1722.5607472552988\n",
      "193 2061.2898747590593 1684.5100048069792\n",
      "194 2460.7852707755824 1824.3014679697922\n",
      "195 2686.0466364383965 1858.6302908370683\n",
      "196 2394.908828443984 1560.769662097801\n",
      "197 2881.7706334838153 2238.536108664259\n",
      "198 2815.8426183517117 2472.8238496311023\n",
      "199 2974.847532348379 2344.173191725971\n",
      "200 2933.897209266659 2264.1469575256774\n",
      "201 3195.5747424350648 2464.32269278263\n",
      "202 2746.6488345580456 2382.775097536434\n",
      "203 3001.531261418154 1962.3656087200427\n",
      "204 2993.676823922871 1903.1217899258925\n",
      "205 2745.3202329222827 2073.8540478407317\n",
      "206 2855.191435127722 2199.5262597412975\n",
      "207 2674.65706859409 2125.798870383936\n",
      "208 2583.6101410773094 1895.245004921159\n",
      "209 2577.9062087893317 1721.708265057207\n",
      "210 2658.1938424041277 2072.617479580545\n",
      "211 3301.9283551042663 1726.4753348303052\n",
      "212 2922.717853330991 2460.0483796286385\n",
      "213 3310.764244336755 2376.3332617907226\n",
      "214 3117.8720004326233 2479.521638761935\n",
      "215 3478.5047731206514 2509.006121913352\n",
      "216 3611.089819409237 2349.875950411776\n",
      "217 3069.8590313918357 1597.9172555544712\n",
      "218 3189.7808344363975 2659.2053910078403\n",
      "219 3322.1190558464673 2471.629529164995\n",
      "220 3162.0900411323773 2427.3123878262513\n",
      "221 3227.562468301805 2579.6062078461237\n",
      "222 2931.110418843391 2271.3931523186593\n",
      "223 2812.3547541626663 2470.6113788363846\n",
      "training ended: 2018-09-14 19:10:54.226087\n",
      "total training time: 9:10:30.749671\n",
      "average generation training time:  148.11995368161433\n"
     ]
    }
   ],
   "source": [
    "start = dt.datetime.now()\n",
    "print(\"training started: \" + str(start))\n",
    "# for generation in range(num_generations):\n",
    "stop_requested = False\n",
    "while(stop_requested == False):\n",
    "    rewards_np = np.zeros([num_agents])\n",
    "    for i in range(num_agents):\n",
    "        rewards_np[i] = play(env=env, agent=agents[i], num_games=num_games_per_agent, max_steps=max_steps, render=False)\n",
    "    print(generation, rewards_np.max(), rewards_np.mean())\n",
    "    max_rewards.append(rewards_np.max())\n",
    "    avg_rewards.append(rewards_np.mean())\n",
    "    ind = np.argmax(rewards_np)\n",
    "    #weights = np.zeros((num_agents, ))\n",
    "    # weights[ind] = 1.\n",
    "    # smith.from_population(agents=agents, weights = weights  )\n",
    "    smith.from_population(agents=(agents[ind],), weights = (1, )  )\n",
    "    for i in range(num_agents):\n",
    "        # if i == 0:\n",
    "        #    print(sess.run(agents[i].train_vars()[0])[0][0:5])\n",
    "        agents[i].from_agent(agent=smith, noise_dist=normal_dist)\n",
    "        \n",
    "    with open(\"/home/martin/1.ctl\") as f:\n",
    "        cmd = f.readline()\n",
    "        if cmd.find(\"RUN\") < 0:\n",
    "            stop_requested = True\n",
    "    \n",
    "    if generation % 50 == 0:\n",
    "        training_history[generation] = Agent(name=\"Generation_%d\" % generation, \\\n",
    "                                             input_layer=X, \\\n",
    "                                             hsize=hsizes, \\\n",
    "                                             action_space_n=env.action_space.n).from_agent(smith)\n",
    "        \n",
    "    generation += 1\n",
    "\n",
    "end = dt.datetime.now()\n",
    "print(\"training ended: \" + str(end))\n",
    "print(\"total training time: \" + str(end - start))\n",
    "print(\"average generation training time: \", str((end - start).total_seconds() / len(max_rewards)) )"
   ]
  },
  {
   "cell_type": "code",
   "execution_count": 54,
   "metadata": {},
   "outputs": [
    {
     "data": {
      "image/png": "[encoded data removed]",
      "text/plain": [
       "<matplotlib.figure.Figure at 0x7f97f7beaa20>"
      ]
     },
     "metadata": {},
     "output_type": "display_data"
    }
   ],
   "source": [
    "plt.plot(range(len(avg_rewards)), avg_rewards)\n",
    "plt.plot(range(len(max_rewards)), max_rewards)\n",
    "plt.show()"
   ]
  },
  {
   "cell_type": "code",
   "execution_count": 80,
   "metadata": {},
   "outputs": [
    {
     "name": "stdout",
     "output_type": "stream",
     "text": [
      "accum reward:  32.21551361179274\n"
     ]
    },
    {
     "data": {
      "image/png": "[encoded data removed]",
      "text/plain": [
       "<matplotlib.figure.Figure at 0x7f974dcc4048>"
      ]
     },
     "metadata": {},
     "output_type": "display_data"
    }
   ],
   "source": [
    "obs = env.reset()\n",
    "actions = [_ for _ in range(env.action_space.n)]\n",
    "rewards = []\n",
    "\n",
    "for i in range(500):\n",
    "    action_probabilities = smith.compute(obs)[0]\n",
    "            \n",
    "    # obs, r, done, info = env.step(env.action_space.sample())\n",
    "    # action = np.random.choice(a=actions, p=action_probabilities)\n",
    "    # o, r, done, info = env.step(env.action_space.sample())\n",
    "    \n",
    "    action = np.random.choice(a=actions, p=action_probabilities)\n",
    "    obs, r, done, info = env.step(action)\n",
    "    rewards.append(r)\n",
    "    env.render()\n",
    "    #print(obs, r, done, info)\n",
    "    if done:\n",
    "        break\n",
    "\n",
    "print (\"accum reward: \", np.array(rewards).sum())\n",
    "plt.plot(range(len(rewards)), rewards)\n",
    "plt.show()"
   ]
  },
  {
   "cell_type": "code",
   "execution_count": 52,
   "metadata": {},
   "outputs": [
    {
     "data": {
      "text/plain": [
       "{10: <__main__.Agent at 0x7f981c0e4ef0>,\n",
       " 20: <__main__.Agent at 0x7f9816320a58>,\n",
       " 30: <__main__.Agent at 0x7f980fb83668>,\n",
       " 40: <__main__.Agent at 0x7f98812515c0>,\n",
       " 50: <__main__.Agent at 0x7f9800c0d8d0>,\n",
       " 100: <__main__.Agent at 0x7f97df561b70>,\n",
       " 150: <__main__.Agent at 0x7f97bf29bc50>}"
      ]
     },
     "execution_count": 52,
     "metadata": {},
     "output_type": "execute_result"
    }
   ],
   "source": [
    "training_history"
   ]
  },
  {
   "cell_type": "code",
   "execution_count": null,
   "metadata": {},
   "outputs": [],
   "source": []
  }
 ],
 "metadata": {
  "kernelspec": {
   "display_name": "Python 3",
   "language": "python",
   "name": "python3"
  },
  "language_info": {
   "codemirror_mode": {
    "name": "ipython",
    "version": 3
   },
   "file_extension": ".py",
   "mimetype": "text/x-python",
   "name": "python",
   "nbconvert_exporter": "python",
   "pygments_lexer": "ipython3",
   "version": "3.6.4"
  }
 },
 "nbformat": 4,
 "nbformat_minor": 2
}
